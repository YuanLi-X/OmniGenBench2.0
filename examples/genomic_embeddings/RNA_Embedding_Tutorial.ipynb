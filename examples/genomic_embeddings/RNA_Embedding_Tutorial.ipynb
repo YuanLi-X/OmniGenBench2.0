{
 "cells": [
  {
   "metadata": {},
   "cell_type": "code",
   "outputs": [],
   "execution_count": null,
   "source": "",
   "id": "d960e3c137296ddf"
  },
  {
   "cell_type": "markdown",
   "id": "b4e3bc0f",
   "metadata": {},
   "source": [
    "## Step 1: Install Required Dependencies\n",
    "Before we start, make sure you have the necessary libraries installed. You can install them using the following command:"
   ]
  },
  {
   "cell_type": "code",
   "id": "3483bb9e",
   "metadata": {},
   "source": "!pip install omnigenbench omnigenome torch transformers autocuda",
   "outputs": [],
   "execution_count": null
  },
  {
   "cell_type": "markdown",
   "id": "ee5d3b0b",
   "metadata": {},
   "source": [
    "## Step 2: Setting Up the Embedding Model\n",
    "First, let's initialize the `OmniModelForEmbedding` class with a pre-trained model."
   ]
  },
  {
   "cell_type": "code",
   "id": "dcaed138",
   "metadata": {
    "ExecuteTime": {
     "end_time": "2025-06-16T21:58:40.431136Z",
     "start_time": "2025-06-16T21:58:33.044865Z"
    }
   },
   "source": [
    "from omnigenbench import OmniModelForEmbedding\n",
    "import torch\n",
    "\n",
    "# Initialize the model using a pre-trained model path (replace with RNA-specific model if available)\n",
    "model_name = \"yangheng/OmniGenome-52M\"  # Example model, replace with your own model\n",
    "embedding_model = OmniModelForEmbedding(model_name, trust_remote_code=True).to(torch.device(\"cuda:0\")).to(torch.float16)"
   ],
   "outputs": [
    {
     "name": "stderr",
     "output_type": "stream",
     "text": [
      "C:\\Users\\hengu\\miniconda3\\envs\\py312\\Lib\\site-packages\\requests\\__init__.py:86: RequestsDependencyWarning: Unable to find acceptable character detection dependency (chardet or charset_normalizer).\n",
      "  warnings.warn(\n",
      "C:\\Users\\hengu\\miniconda3\\envs\\py312\\Lib\\site-packages\\tqdm\\auto.py:21: TqdmWarning: IProgress not found. Please update jupyter and ipywidgets. See https://ipywidgets.readthedocs.io/en/stable/user_install.html\n",
      "  from .autonotebook import tqdm as notebook_tqdm\n"
     ]
    },
    {
     "name": "stdout",
     "output_type": "stream",
     "text": [
      "                       \n",
      "    **@@ #========= @@**            ___                     _ \n",
      "      **@@ +----- @@**             / _ \\  _ __ ___   _ __  (_)\n",
      "        **@@ = @@**               | | | || '_ ` _ \\ | '_ \\ | |\n",
      "           **@@                   | |_| || | | | | || | | || |\n",
      "        @@** = **@@                \\___/ |_| |_| |_||_| |_||_|\n",
      "     @@** ------+ **@@                \n",
      "   @@** =========# **@@            ____  \n",
      "  @@ ---------------+ @@          / ___|  ___  _ __    ___   _ __ ___    ___ \n",
      " @@ ================== @@        | |  _  / _ \\| '_ \\  / _ \\ | '_ ` _ \\  / _ \\\n",
      "  @@ +--------------- @@         | |_| ||  __/| | | || (_) || | | | | ||  __/ \n",
      "   @@** #========= **@@           \\____| \\___||_| |_| \\___/ |_| |_| |_| \\___| \n",
      "    @@** +------ **@@          \n",
      "       @@** = **@@           \n",
      "          @@**                    ____                      _   \n",
      "       **@@ = @@**               | __ )   ___  _ __    ___ | |__  \n",
      "    **@@ -----+  @@**            |  _ \\  / _ \\| '_ \\  / __|| '_ \\ \n",
      "  **@@ ==========# @@**          | |_) ||  __/| | | || (__ | | | |\n",
      "  @@ --------------+ @@**        |____/  \\___||_| |_| \\___||_| |_|\n",
      "\n"
     ]
    },
    {
     "name": "stderr",
     "output_type": "stream",
     "text": [
      "Some weights of OmniGenomeModel were not initialized from the model checkpoint at yangheng/OmniGenome-52M and are newly initialized: ['OmniGenome.pooler.dense.bias', 'OmniGenome.pooler.dense.weight']\n",
      "You should probably TRAIN this model on a down-stream task to be able to use it for predictions and inference.\n"
     ]
    }
   ],
   "execution_count": 2
  },
  {
   "cell_type": "markdown",
   "id": "594c3e9b",
   "metadata": {},
   "source": [
    "## Step 3: Encoding RNA Sequences into Embeddings\n",
    "We'll now encode a batch of RNA sequences into embeddings."
   ]
  },
  {
   "cell_type": "code",
   "id": "b589c766",
   "metadata": {
    "ExecuteTime": {
     "end_time": "2025-06-16T21:58:40.810784Z",
     "start_time": "2025-06-16T21:58:40.443187Z"
    }
   },
   "source": [
    "# Example RNA sequences (replace these with your own RNA sequences)\n",
    "rna_sequences = [\n",
    "    \"AUGGCUACG\",\n",
    "    \"CGGAUACGGC\",\n",
    "    \"UGGCCAAGUC\",\n",
    "    \"AUGCUGCUAUGCUA\"\n",
    "]\n",
    "# Encode the RNA sequences into embeddings\n",
    "rna_embeddings = embedding_model.batch_encode(rna_sequences, agg='mean')\n",
    "\n",
    "# Display the generated embeddings\n",
    "print(\"RNA Embeddings:\")\n",
    "print(rna_embeddings)"
   ],
   "outputs": [
    {
     "name": "stdout",
     "output_type": "stream",
     "text": [
      "[2025-06-16 22:58:40] [OmniGenome 0.2.6alpha0]  Generated embeddings for 4 sequences.\n",
      "RNA Embeddings:\n",
      "tensor([[-0.4038, -1.0078, -0.0919,  ..., -0.6841, -0.9468, -0.2502],\n",
      "        [-0.2445, -0.7437, -0.2668,  ..., -0.2125, -0.9575, -0.1359],\n",
      "        [-0.4094, -0.8535, -0.0769,  ..., -0.5132, -0.5581, -0.3665],\n",
      "        [-0.3696, -0.7798, -0.0314,  ..., -0.6567, -1.0420, -0.0429]],\n",
      "       dtype=torch.float16)\n"
     ]
    }
   ],
   "execution_count": 3
  },
  {
   "cell_type": "markdown",
   "id": "b3324a3e",
   "metadata": {},
   "source": [
    "## Step 4: Saving and Loading Embeddings\n",
    "You can save the generated embeddings to a file and load them later when needed."
   ]
  },
  {
   "cell_type": "code",
   "id": "80325ceb",
   "metadata": {
    "ExecuteTime": {
     "end_time": "2025-06-16T21:58:40.852680Z",
     "start_time": "2025-06-16T21:58:40.822272Z"
    }
   },
   "source": [
    "# Save embeddings to a file\n",
    "embedding_model.save_embeddings(rna_embeddings, \"rna_embeddings.pt\")\n",
    "\n",
    "# Load the embeddings from the file\n",
    "loaded_embeddings = embedding_model.load_embeddings(\"rna_embeddings.pt\")\n",
    "\n",
    "# Display the loaded embeddings to verify\n",
    "print(\"Loaded RNA Embeddings:\")\n",
    "print(loaded_embeddings)"
   ],
   "outputs": [
    {
     "name": "stdout",
     "output_type": "stream",
     "text": [
      "[2025-06-16 22:58:40] [OmniGenome 0.2.6alpha0]  Embeddings saved to rna_embeddings.pt\n",
      "[2025-06-16 22:58:40] [OmniGenome 0.2.6alpha0]  Loaded embeddings from rna_embeddings.pt\n",
      "Loaded RNA Embeddings:\n",
      "tensor([[-0.4038, -1.0078, -0.0919,  ..., -0.6841, -0.9468, -0.2502],\n",
      "        [-0.2445, -0.7437, -0.2668,  ..., -0.2125, -0.9575, -0.1359],\n",
      "        [-0.4094, -0.8535, -0.0769,  ..., -0.5132, -0.5581, -0.3665],\n",
      "        [-0.3696, -0.7798, -0.0314,  ..., -0.6567, -1.0420, -0.0429]],\n",
      "       dtype=torch.float16)\n"
     ]
    }
   ],
   "execution_count": 4
  },
  {
   "cell_type": "markdown",
   "id": "f3031cb7",
   "metadata": {},
   "source": [
    "## Step 5: Computing Similarity Between RNA Sequences\n",
    "Let's compute the similarity between two RNA sequence embeddings using cosine similarity."
   ]
  },
  {
   "cell_type": "code",
   "id": "eccda5d6",
   "metadata": {
    "ExecuteTime": {
     "end_time": "2025-06-16T21:58:40.913277Z",
     "start_time": "2025-06-16T21:58:40.903071Z"
    }
   },
   "source": [
    "# Compute the similarity between the first two RNA sequence embeddings\n",
    "similarity = embedding_model.compute_similarity(loaded_embeddings[0], loaded_embeddings[1])\n",
    "\n",
    "# Display the similarity score\n",
    "print(f\"Similarity between the first two RNA sequences: {similarity:.4f}\")"
   ],
   "outputs": [
    {
     "name": "stdout",
     "output_type": "stream",
     "text": [
      "Similarity between the first two RNA sequences: 0.9395\n"
     ]
    }
   ],
   "execution_count": 5
  },
  {
   "cell_type": "markdown",
   "id": "a7feaac9",
   "metadata": {},
   "source": [
    "## Step 6: Encoding a Single RNA Sequence\n",
    "You can also encode a single RNA sequence into its embedding."
   ]
  },
  {
   "cell_type": "code",
   "id": "0e41c528",
   "metadata": {
    "ExecuteTime": {
     "end_time": "2025-06-16T21:58:41.721115Z",
     "start_time": "2025-06-16T21:58:40.975175Z"
    }
   },
   "source": [
    "# Example single RNA sequence\n",
    "single_rna_sequence = \"AUGGCUACG\"\n",
    "\n",
    "# Get the embedding for the single RNA sequence\n",
    "\n",
    "head_rna_embedding = embedding_model.encode(rna_sequences[0], agg='head', keep_dim=True)  # Encode a single RNA sequence\n",
    "mean_rna_embedding = embedding_model.encode(rna_sequences[0], agg='mean')  # Encode a single RNA sequence\n",
    "tail_rna_embedding = embedding_model.encode(rna_sequences[0], agg='tail')  # Encode a single RNA sequence\n",
    "\n",
    "# Display the embedding for the single RNA sequence\n",
    "print(\"Single RNA Sequence Embedding:\")\n",
    "print(head_rna_embedding)"
   ],
   "outputs": [
    {
     "name": "stderr",
     "output_type": "stream",
     "text": [
      "C:\\Users\\hengu\\miniconda3\\envs\\py312\\Lib\\site-packages\\executing\\executing.py:713: DeprecationWarning: ast.Str is deprecated and will be removed in Python 3.14; use ast.Constant instead\n",
      "  right=ast.Str(s=sentinel),\n",
      "C:\\Users\\hengu\\miniconda3\\envs\\py312\\Lib\\ast.py:587: DeprecationWarning: Attribute s is deprecated and will be removed in Python 3.14; use value instead\n",
      "  return Constant(*args, **kwargs)\n"
     ]
    },
    {
     "ename": "AttributeError",
     "evalue": "'OmniGenomeModelForEmbedding' object has no attribute 'encode_single_sequence'",
     "output_type": "error",
     "traceback": [
      "\u001B[31m---------------------------------------------------------------------------\u001B[39m",
      "\u001B[31mAttributeError\u001B[39m                            Traceback (most recent call last)",
      "\u001B[36mCell\u001B[39m\u001B[36m \u001B[39m\u001B[32mIn[6]\u001B[39m\u001B[32m, line 5\u001B[39m\n\u001B[32m      2\u001B[39m single_rna_sequence = \u001B[33m\"\u001B[39m\u001B[33mAUGGCUACG\u001B[39m\u001B[33m\"\u001B[39m\n\u001B[32m      4\u001B[39m \u001B[38;5;66;03m# Get the embedding for the single RNA sequence\u001B[39;00m\n\u001B[32m----> \u001B[39m\u001B[32m5\u001B[39m single_rna_embedding = embedding_model.encode_single_sequence(single_rna_sequence)\n\u001B[32m      7\u001B[39m \u001B[38;5;66;03m# Display the embedding for the single RNA sequence\u001B[39;00m\n\u001B[32m      8\u001B[39m \u001B[38;5;28mprint\u001B[39m(\u001B[33m\"\u001B[39m\u001B[33mSingle RNA Sequence Embedding:\u001B[39m\u001B[33m\"\u001B[39m)\n",
      "\u001B[36mFile \u001B[39m\u001B[32m~\\miniconda3\\envs\\py312\\Lib\\site-packages\\torch\\nn\\modules\\module.py:1940\u001B[39m, in \u001B[36mModule.__getattr__\u001B[39m\u001B[34m(self, name)\u001B[39m\n\u001B[32m   1938\u001B[39m     \u001B[38;5;28;01mif\u001B[39;00m name \u001B[38;5;129;01min\u001B[39;00m modules:\n\u001B[32m   1939\u001B[39m         \u001B[38;5;28;01mreturn\u001B[39;00m modules[name]\n\u001B[32m-> \u001B[39m\u001B[32m1940\u001B[39m \u001B[38;5;28;01mraise\u001B[39;00m \u001B[38;5;167;01mAttributeError\u001B[39;00m(\n\u001B[32m   1941\u001B[39m     \u001B[33mf\u001B[39m\u001B[33m\"\u001B[39m\u001B[33m'\u001B[39m\u001B[38;5;132;01m{\u001B[39;00m\u001B[38;5;28mtype\u001B[39m(\u001B[38;5;28mself\u001B[39m).\u001B[34m__name__\u001B[39m\u001B[38;5;132;01m}\u001B[39;00m\u001B[33m'\u001B[39m\u001B[33m object has no attribute \u001B[39m\u001B[33m'\u001B[39m\u001B[38;5;132;01m{\u001B[39;00mname\u001B[38;5;132;01m}\u001B[39;00m\u001B[33m'\u001B[39m\u001B[33m\"\u001B[39m\n\u001B[32m   1942\u001B[39m )\n",
      "\u001B[31mAttributeError\u001B[39m: 'OmniGenomeModelForEmbedding' object has no attribute 'encode_single_sequence'"
     ]
    }
   ],
   "execution_count": 6
  },
  {
   "cell_type": "markdown",
   "id": "ac2bebb0",
   "metadata": {},
   "source": [
    "## Full Example\n",
    "Here's a complete example that walks through all the steps we covered in the tutorial."
   ]
  },
  {
   "cell_type": "code",
   "id": "8ab16b9e",
   "metadata": {},
   "source": [
    "from omnigenbench import OmniModelForEmbedding\n",
    "\n",
    "# Step 1: Initialize the model\n",
    "model_name = \"yangheng/OmniGenome-52M\"  # Replace with your RNA-specific model\n",
    "embedding_model = OmniModelForEmbedding(model_name)\n",
    "\n",
    "# Step 2: Encode RNA sequences\n",
    "rna_sequences = [\"AUGGCUACG\", \"CGGAUACGGC\"]\n",
    "rna_embeddings = embedding_model.encode_sequences(rna_sequences)\n",
    "print(\"RNA Embeddings:\", rna_embeddings)\n",
    "\n",
    "# Step 3: Save embeddings to a file\n",
    "embedding_model.save_embeddings(rna_embeddings, \"rna_embeddings.pt\")\n",
    "\n",
    "# Step 4: Load embeddings from the file\n",
    "loaded_embeddings = embedding_model.load_embeddings(\"rna_embeddings.pt\")\n",
    "\n",
    "# Step 5: Compute similarity between the first two RNA sequence embeddings\n",
    "similarity = embedding_model.compute_similarity(loaded_embeddings[0], loaded_embeddings[1])\n",
    "print(f\"Similarity between RNA sequences: {similarity:.4f}\")\n",
    "\n",
    "# Step 6: Encode a single RNA sequence\n",
    "single_rna_sequence = \"AUGGCUACG\"\n",
    "single_rna_embedding = embedding_model.encode_single_sequence(single_rna_sequence)\n",
    "print(\"Single RNA Sequence Embedding:\", single_rna_embedding)"
   ],
   "outputs": [],
   "execution_count": null
  }
 ],
 "metadata": {
  "kernelspec": {
   "display_name": "Python 3 (ipykernel)",
   "language": "python",
   "name": "python3"
  },
  "language_info": {
   "codemirror_mode": {
    "name": "ipython",
    "version": 3
   },
   "file_extension": ".py",
   "mimetype": "text/x-python",
   "name": "python",
   "nbconvert_exporter": "python",
   "pygments_lexer": "ipython3",
   "version": "3.12.4"
  }
 },
 "nbformat": 4,
 "nbformat_minor": 5
}
