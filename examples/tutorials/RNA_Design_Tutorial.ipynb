{
 "cells": [
  {
   "cell_type": "markdown",
   "id": "3cbde8031573bdf0",
   "metadata": {},
   "source": [
    "# RNA Design with OmniGenomeModelForRNADesign"
   ]
  },
  {
   "cell_type": "markdown",
   "id": "fd364390695a6493",
   "metadata": {},
   "source": []
  },
  {
   "cell_type": "markdown",
   "id": "c040a979",
   "metadata": {},
   "source": [
    "\n",
    "In this tutorial, we will walk through how to set up and use the `OmniGenomeModelforRNADesign` class to design RNA sequences. We will cover the following topics:\n",
    "1. Setting up the model\n",
    "2. Running RNA design\n",
    "3. Saving and loading results\n",
    "4. Fine-tuning the parameters\n",
    "5. Visualizing RNA structures\n",
    "    "
   ]
  },
  {
   "cell_type": "markdown",
   "id": "8c7758de",
   "metadata": {},
   "source": [
    "## Tutorial 1: Setting Up the OmniGenome Model for RNA Design"
   ]
  },
  {
   "cell_type": "code",
   "execution_count": 1,
   "id": "88059aca-5790-4977-bbfa-c7bc39701510",
   "metadata": {
    "scrolled": true
   },
   "outputs": [
    {
     "name": "stdout",
     "output_type": "stream",
     "text": [
      "Requirement already satisfied: OmniGenome in c:\\users\\chuan\\miniconda3\\lib\\site-packages (0.1.0a0)\n",
      "Collecting OmniGenome\n",
      "  Downloading OmniGenome-0.1.1a0-py3-none-any.whl.metadata (3.9 kB)\n",
      "Requirement already satisfied: torch in c:\\users\\chuan\\miniconda3\\lib\\site-packages (2.4.1)\n",
      "Requirement already satisfied: transformers in c:\\users\\chuan\\miniconda3\\lib\\site-packages (4.44.2)\n",
      "Collecting transformers\n",
      "  Using cached transformers-4.45.1-py3-none-any.whl.metadata (44 kB)\n",
      "Requirement already satisfied: autocuda in c:\\users\\chuan\\miniconda3\\lib\\site-packages (0.16)\n",
      "Requirement already satisfied: viennaRNA in c:\\users\\chuan\\miniconda3\\lib\\site-packages (2.6.4)\n",
      "Requirement already satisfied: tqdm in c:\\users\\chuan\\miniconda3\\lib\\site-packages (4.66.5)\n",
      "Requirement already satisfied: findfile>=2.0.0 in c:\\users\\chuan\\miniconda3\\lib\\site-packages (from OmniGenome) (2.0.1)\n",
      "Requirement already satisfied: metric-visualizer>=0.9.6 in c:\\users\\chuan\\miniconda3\\lib\\site-packages (from OmniGenome) (0.9.13.post1)\n",
      "Requirement already satisfied: termcolor in c:\\users\\chuan\\miniconda3\\lib\\site-packages (from OmniGenome) (2.4.0)\n",
      "Requirement already satisfied: gitpython in c:\\users\\chuan\\appdata\\roaming\\python\\python39\\site-packages (from OmniGenome) (3.1.27)\n",
      "Requirement already satisfied: sentencepiece in c:\\users\\chuan\\miniconda3\\lib\\site-packages (from OmniGenome) (0.1.99)\n",
      "Requirement already satisfied: protobuf<4.0.0 in c:\\users\\chuan\\miniconda3\\lib\\site-packages (from OmniGenome) (3.20.3)\n",
      "Requirement already satisfied: pandas in c:\\users\\chuan\\miniconda3\\lib\\site-packages (from OmniGenome) (2.1.4)\n",
      "Requirement already satisfied: scikit-learn in c:\\users\\chuan\\miniconda3\\lib\\site-packages (from OmniGenome) (1.4.2)\n",
      "Requirement already satisfied: accelerate in c:\\users\\chuan\\miniconda3\\lib\\site-packages (from OmniGenome) (0.33.0)\n",
      "Requirement already satisfied: filelock in c:\\users\\chuan\\miniconda3\\lib\\site-packages (from torch) (3.13.1)\n",
      "Requirement already satisfied: typing-extensions>=4.8.0 in c:\\users\\chuan\\miniconda3\\lib\\site-packages (from torch) (4.11.0)\n",
      "Requirement already satisfied: sympy in c:\\users\\chuan\\appdata\\roaming\\python\\python39\\site-packages (from torch) (1.11.1)\n",
      "Requirement already satisfied: networkx in c:\\users\\chuan\\miniconda3\\lib\\site-packages (from torch) (3.1)\n",
      "Requirement already satisfied: jinja2 in c:\\users\\chuan\\miniconda3\\lib\\site-packages (from torch) (3.1.2)\n",
      "Requirement already satisfied: fsspec in c:\\users\\chuan\\miniconda3\\lib\\site-packages (from torch) (2023.10.0)\n",
      "Requirement already satisfied: huggingface-hub<1.0,>=0.23.2 in c:\\users\\chuan\\miniconda3\\lib\\site-packages (from transformers) (0.24.2)\n",
      "Requirement already satisfied: numpy>=1.17 in c:\\users\\chuan\\miniconda3\\lib\\site-packages (from transformers) (1.26.2)\n",
      "Requirement already satisfied: packaging>=20.0 in c:\\users\\chuan\\miniconda3\\lib\\site-packages (from transformers) (23.1)\n",
      "Requirement already satisfied: pyyaml>=5.1 in c:\\users\\chuan\\miniconda3\\lib\\site-packages (from transformers) (6.0.1)\n",
      "Requirement already satisfied: regex!=2019.12.17 in c:\\users\\chuan\\miniconda3\\lib\\site-packages (from transformers) (2023.10.3)\n",
      "Requirement already satisfied: requests in c:\\users\\chuan\\miniconda3\\lib\\site-packages (from transformers) (2.32.3)\n",
      "Requirement already satisfied: safetensors>=0.4.1 in c:\\users\\chuan\\miniconda3\\lib\\site-packages (from transformers) (0.4.1)\n",
      "Collecting tokenizers<0.21,>=0.20 (from transformers)\n",
      "  Using cached tokenizers-0.20.0-cp39-none-win_amd64.whl.metadata (6.9 kB)\n",
      "Requirement already satisfied: colorama in c:\\users\\chuan\\miniconda3\\lib\\site-packages (from tqdm) (0.4.6)\n",
      "Requirement already satisfied: matplotlib>=3.6.3 in c:\\users\\chuan\\miniconda3\\lib\\site-packages (from metric-visualizer>=0.9.6->OmniGenome) (3.8.2)\n",
      "Requirement already satisfied: tikzplotlib in c:\\users\\chuan\\miniconda3\\lib\\site-packages (from metric-visualizer>=0.9.6->OmniGenome) (0.10.1)\n",
      "Requirement already satisfied: scipy>=1.10.0 in c:\\users\\chuan\\miniconda3\\lib\\site-packages (from metric-visualizer>=0.9.6->OmniGenome) (1.10.1)\n",
      "Requirement already satisfied: tabulate in c:\\users\\chuan\\miniconda3\\lib\\site-packages (from metric-visualizer>=0.9.6->OmniGenome) (0.9.0)\n",
      "Requirement already satisfied: natsort in c:\\users\\chuan\\miniconda3\\lib\\site-packages (from metric-visualizer>=0.9.6->OmniGenome) (8.4.0)\n",
      "Requirement already satisfied: update-checker in c:\\users\\chuan\\miniconda3\\lib\\site-packages (from metric-visualizer>=0.9.6->OmniGenome) (0.18.0)\n",
      "Requirement already satisfied: click in c:\\users\\chuan\\miniconda3\\lib\\site-packages (from metric-visualizer>=0.9.6->OmniGenome) (8.0.4)\n",
      "Requirement already satisfied: openpyxl in c:\\users\\chuan\\miniconda3\\lib\\site-packages (from metric-visualizer>=0.9.6->OmniGenome) (3.1.2)\n",
      "Requirement already satisfied: xlsxwriter in c:\\users\\chuan\\miniconda3\\lib\\site-packages (from metric-visualizer>=0.9.6->OmniGenome) (3.1.9)\n",
      "Requirement already satisfied: psutil in c:\\users\\chuan\\miniconda3\\lib\\site-packages (from accelerate->OmniGenome) (5.9.7)\n",
      "Requirement already satisfied: gitdb<5,>=4.0.1 in c:\\users\\chuan\\miniconda3\\lib\\site-packages (from gitpython->OmniGenome) (4.0.11)\n",
      "Requirement already satisfied: MarkupSafe>=2.0 in c:\\users\\chuan\\miniconda3\\lib\\site-packages (from jinja2->torch) (2.1.1)\n",
      "Requirement already satisfied: python-dateutil>=2.8.2 in c:\\users\\chuan\\miniconda3\\lib\\site-packages (from pandas->OmniGenome) (2.8.2)\n",
      "Requirement already satisfied: pytz>=2020.1 in c:\\users\\chuan\\miniconda3\\lib\\site-packages (from pandas->OmniGenome) (2023.3.post1)\n",
      "Requirement already satisfied: tzdata>=2022.1 in c:\\users\\chuan\\miniconda3\\lib\\site-packages (from pandas->OmniGenome) (2023.3)\n",
      "Requirement already satisfied: charset-normalizer<4,>=2 in c:\\users\\chuan\\miniconda3\\lib\\site-packages (from requests->transformers) (2.0.4)\n",
      "Requirement already satisfied: idna<4,>=2.5 in c:\\users\\chuan\\miniconda3\\lib\\site-packages (from requests->transformers) (3.6)\n",
      "Requirement already satisfied: urllib3<3,>=1.21.1 in c:\\users\\chuan\\miniconda3\\lib\\site-packages (from requests->transformers) (1.26.18)\n",
      "Requirement already satisfied: certifi>=2017.4.17 in c:\\users\\chuan\\miniconda3\\lib\\site-packages (from requests->transformers) (2024.7.4)\n",
      "Requirement already satisfied: joblib>=1.2.0 in c:\\users\\chuan\\miniconda3\\lib\\site-packages (from scikit-learn->OmniGenome) (1.3.2)\n",
      "Requirement already satisfied: threadpoolctl>=2.0.0 in c:\\users\\chuan\\miniconda3\\lib\\site-packages (from scikit-learn->OmniGenome) (3.2.0)\n",
      "Requirement already satisfied: mpmath>=0.19 in c:\\users\\chuan\\appdata\\roaming\\python\\python39\\site-packages (from sympy->torch) (1.2.1)\n",
      "Requirement already satisfied: smmap<6,>=3.0.1 in c:\\users\\chuan\\miniconda3\\lib\\site-packages (from gitdb<5,>=4.0.1->gitpython->OmniGenome) (5.0.1)\n",
      "Requirement already satisfied: contourpy>=1.0.1 in c:\\users\\chuan\\miniconda3\\lib\\site-packages (from matplotlib>=3.6.3->metric-visualizer>=0.9.6->OmniGenome) (1.2.0)\n",
      "Requirement already satisfied: cycler>=0.10 in c:\\users\\chuan\\miniconda3\\lib\\site-packages (from matplotlib>=3.6.3->metric-visualizer>=0.9.6->OmniGenome) (0.11.0)\n",
      "Requirement already satisfied: fonttools>=4.22.0 in c:\\users\\chuan\\miniconda3\\lib\\site-packages (from matplotlib>=3.6.3->metric-visualizer>=0.9.6->OmniGenome) (4.25.0)\n",
      "Requirement already satisfied: kiwisolver>=1.3.1 in c:\\users\\chuan\\miniconda3\\lib\\site-packages (from matplotlib>=3.6.3->metric-visualizer>=0.9.6->OmniGenome) (1.4.4)\n",
      "Requirement already satisfied: pillow>=8 in c:\\users\\chuan\\miniconda3\\lib\\site-packages (from matplotlib>=3.6.3->metric-visualizer>=0.9.6->OmniGenome) (10.0.1)\n",
      "Requirement already satisfied: pyparsing>=2.3.1 in c:\\users\\chuan\\miniconda3\\lib\\site-packages (from matplotlib>=3.6.3->metric-visualizer>=0.9.6->OmniGenome) (3.0.9)\n",
      "Requirement already satisfied: importlib-resources>=3.2.0 in c:\\users\\chuan\\miniconda3\\lib\\site-packages (from matplotlib>=3.6.3->metric-visualizer>=0.9.6->OmniGenome) (6.1.1)\n",
      "Requirement already satisfied: six>=1.5 in c:\\users\\chuan\\miniconda3\\lib\\site-packages (from python-dateutil>=2.8.2->pandas->OmniGenome) (1.16.0)\n",
      "Requirement already satisfied: et-xmlfile in c:\\users\\chuan\\miniconda3\\lib\\site-packages (from openpyxl->metric-visualizer>=0.9.6->OmniGenome) (1.1.0)\n",
      "Requirement already satisfied: webcolors in c:\\users\\chuan\\miniconda3\\lib\\site-packages (from tikzplotlib->metric-visualizer>=0.9.6->OmniGenome) (1.13)\n",
      "Requirement already satisfied: zipp>=3.1.0 in c:\\users\\chuan\\miniconda3\\lib\\site-packages (from importlib-resources>=3.2.0->matplotlib>=3.6.3->metric-visualizer>=0.9.6->OmniGenome) (3.17.0)\n",
      "Downloading OmniGenome-0.1.1a0-py3-none-any.whl (118 kB)\n",
      "   ---------------------------------------- 0.0/118.2 kB ? eta -:--:--\n",
      "   --- ------------------------------------ 10.2/118.2 kB ? eta -:--:--\n",
      "   ---------- ---------------------------- 30.7/118.2 kB 435.7 kB/s eta 0:00:01\n",
      "   ---------------------------------------- 118.2/118.2 kB 1.1 MB/s eta 0:00:00\n",
      "Using cached transformers-4.45.1-py3-none-any.whl (9.9 MB)\n",
      "Using cached tokenizers-0.20.0-cp39-none-win_amd64.whl (2.3 MB)\n",
      "Installing collected packages: tokenizers, transformers, OmniGenome\n",
      "  Attempting uninstall: tokenizers\n",
      "    Found existing installation: tokenizers 0.19.1\n",
      "    Uninstalling tokenizers-0.19.1:\n",
      "      Successfully uninstalled tokenizers-0.19.1\n",
      "  Attempting uninstall: transformers\n",
      "    Found existing installation: transformers 4.44.2\n",
      "    Uninstalling transformers-4.44.2:\n",
      "      Successfully uninstalled transformers-4.44.2\n",
      "  Attempting uninstall: OmniGenome\n",
      "    Found existing installation: OmniGenome 0.1.0a0\n",
      "    Uninstalling OmniGenome-0.1.0a0:\n",
      "      Successfully uninstalled OmniGenome-0.1.0a0\n",
      "Successfully installed OmniGenome-0.1.1a0 tokenizers-0.20.0 transformers-4.45.1\n"
     ]
    },
    {
     "name": "stderr",
     "output_type": "stream",
     "text": [
      "WARNING: Ignoring invalid distribution - (c:\\users\\chuan\\appdata\\roaming\\python\\python39\\site-packages)\n",
      "WARNING: Ignoring invalid distribution -ensorflow-gpu (c:\\users\\chuan\\appdata\\roaming\\python\\python39\\site-packages)\n",
      "WARNING: Ignoring invalid distribution -illow (c:\\users\\chuan\\appdata\\roaming\\python\\python39\\site-packages)\n",
      "WARNING: Ignoring invalid distribution - (c:\\users\\chuan\\appdata\\roaming\\python\\python39\\site-packages)\n",
      "WARNING: Ignoring invalid distribution -ensorflow-gpu (c:\\users\\chuan\\appdata\\roaming\\python\\python39\\site-packages)\n",
      "WARNING: Ignoring invalid distribution -illow (c:\\users\\chuan\\appdata\\roaming\\python\\python39\\site-packages)\n",
      "WARNING: Ignoring invalid distribution -orch (c:\\users\\chuan\\miniconda3\\lib\\site-packages)\n",
      "WARNING: Ignoring invalid distribution - (c:\\users\\chuan\\appdata\\roaming\\python\\python39\\site-packages)\n",
      "WARNING: Ignoring invalid distribution -ensorflow-gpu (c:\\users\\chuan\\appdata\\roaming\\python\\python39\\site-packages)\n",
      "WARNING: Ignoring invalid distribution -illow (c:\\users\\chuan\\appdata\\roaming\\python\\python39\\site-packages)\n",
      "WARNING: Ignoring invalid distribution -orch (c:\\users\\chuan\\miniconda3\\lib\\site-packages)\n",
      "DEPRECATION: pytorch-lightning 1.7.6 has a non-standard dependency specifier torch>=1.9.*. pip 24.0 will enforce this behaviour change. A possible replacement is to upgrade to a newer version of pytorch-lightning or contact the author to suggest that they release a version with a conforming dependency specifiers. Discussion can be found at https://github.com/pypa/pip/issues/12063\n",
      "DEPRECATION: torchsde 0.2.5 has a non-standard dependency specifier numpy>=1.19.*; python_version >= \"3.7\". pip 24.0 will enforce this behaviour change. A possible replacement is to upgrade to a newer version of torchsde or contact the author to suggest that they release a version with a conforming dependency specifiers. Discussion can be found at https://github.com/pypa/pip/issues/12063\n",
      "    WARNING: Ignoring invalid distribution - (c:\\users\\chuan\\appdata\\roaming\\python\\python39\\site-packages)\n",
      "    WARNING: Ignoring invalid distribution -ensorflow-gpu (c:\\users\\chuan\\appdata\\roaming\\python\\python39\\site-packages)\n",
      "    WARNING: Ignoring invalid distribution -illow (c:\\users\\chuan\\appdata\\roaming\\python\\python39\\site-packages)\n",
      "    WARNING: Ignoring invalid distribution - (c:\\users\\chuan\\appdata\\roaming\\python\\python39\\site-packages)\n",
      "    WARNING: Ignoring invalid distribution -ensorflow-gpu (c:\\users\\chuan\\appdata\\roaming\\python\\python39\\site-packages)\n",
      "    WARNING: Ignoring invalid distribution -illow (c:\\users\\chuan\\appdata\\roaming\\python\\python39\\site-packages)\n",
      "    WARNING: Ignoring invalid distribution - (c:\\users\\chuan\\appdata\\roaming\\python\\python39\\site-packages)\n",
      "    WARNING: Ignoring invalid distribution -ensorflow-gpu (c:\\users\\chuan\\appdata\\roaming\\python\\python39\\site-packages)\n",
      "    WARNING: Ignoring invalid distribution -illow (c:\\users\\chuan\\appdata\\roaming\\python\\python39\\site-packages)\n",
      "ERROR: pip's dependency resolver does not currently take into account all the packages that are installed. This behaviour is the source of the following dependency conflicts.\n",
      "textattack 0.3.8 requires transformers==4.30.0, but you have transformers 4.45.1 which is incompatible.\n",
      "WARNING: Ignoring invalid distribution - (c:\\users\\chuan\\appdata\\roaming\\python\\python39\\site-packages)\n",
      "WARNING: Ignoring invalid distribution -ensorflow-gpu (c:\\users\\chuan\\appdata\\roaming\\python\\python39\\site-packages)\n",
      "WARNING: Ignoring invalid distribution -illow (c:\\users\\chuan\\appdata\\roaming\\python\\python39\\site-packages)\n",
      "WARNING: Ignoring invalid distribution - (c:\\users\\chuan\\appdata\\roaming\\python\\python39\\site-packages)\n",
      "WARNING: Ignoring invalid distribution -ensorflow-gpu (c:\\users\\chuan\\appdata\\roaming\\python\\python39\\site-packages)\n",
      "WARNING: Ignoring invalid distribution -illow (c:\\users\\chuan\\appdata\\roaming\\python\\python39\\site-packages)\n",
      "WARNING: Ignoring invalid distribution - (c:\\users\\chuan\\appdata\\roaming\\python\\python39\\site-packages)\n",
      "WARNING: Ignoring invalid distribution -ensorflow-gpu (c:\\users\\chuan\\appdata\\roaming\\python\\python39\\site-packages)\n",
      "WARNING: Ignoring invalid distribution -illow (c:\\users\\chuan\\appdata\\roaming\\python\\python39\\site-packages)\n"
     ]
    }
   ],
   "source": [
    "\n",
    "# Install dependencies (run this if needed)\n",
    "!pip install OmniGenome torch transformers autocuda viennaRNA tqdm -U"
   ]
  },
  {
   "cell_type": "code",
   "execution_count": null,
   "id": "20474cfa",
   "metadata": {},
   "outputs": [],
   "source": [
    "from omnigenome import OmniGenomeModelForRNADesign  # Assuming this is where the model class is defined\n",
    " \n",
    "# Initialize the model for RNA design\n",
    "model = OmniGenomeModelForRNADesign(model_path=\"anonymous8/OmniGenome-186M\")"
   ]
  },
  {
   "cell_type": "markdown",
   "id": "bf6b2e14",
   "metadata": {},
   "source": [
    "\n",
    "### Explanation\n",
    "- **model_path**: Path to the pre-trained model for RNA design. We are using `\"anonymous8/OmniGenome-186M\"`.\n",
    "    "
   ]
  },
  {
   "cell_type": "markdown",
   "id": "ea10fcee",
   "metadata": {},
   "source": [
    "## Tutorial 2: Running RNA Sequence Design"
   ]
  },
  {
   "cell_type": "code",
   "execution_count": 3,
   "id": "cb016d85",
   "metadata": {
    "scrolled": true
   },
   "outputs": [
    {
     "name": "stdout",
     "output_type": "stream",
     "text": [
      "Best RNA sequences: ['GCTGCTGGGC', 'GCTGTGGGGC', 'GCCAGCTGGC', 'GCTCTGGAGC', 'GCTGATGGGC', 'GGTGGCAGCC', 'GCCAAAGGGC', 'GCTGGAGGGC', 'GCCAAAGGGC', 'CGGATTCCCG', 'GCTCTCAAGC', 'GCTGTGGGGC', 'GGGCTTTCCC', 'GCTCAAGGGC', 'GCGCGCGCGC', 'CGCCTCGGCG', 'GCTGAGAGGC', 'GCTGCAGGGC', 'GCTGAAGGGC', 'GGCGAGGGCC', 'GCTAGGAGGC', 'GGGCTTGCCC', 'GGGATGGCCC', 'GCTGCCAAGC', 'GGCGAGGGCC', 'GCTGGCGGGC', 'GCCTTTTGGC', 'GGTGAAGGCC', 'GGCGGCGGCC', 'GCGGCTGCGC', 'GCTGCATGGC', 'GCTGTGGGGC', 'CGCGCGGGCG', 'GGTGCCCGCC', 'TGGAACCCCA', 'GCCCATGGGC', 'CCGAAGCCGG', 'GGGGGGGCCC', 'GCTGCATAGC', 'GCCCTCTGGC', 'GCCGCGGGGC', 'GCTACATGGC', 'GCGGGAGCGC', 'GGTGGCTGCC', 'GCCGTGGGGC', 'GCGCCCCCGC', 'GGTGTCAGCC', 'GGTGTGGGCC', 'GCTCCCGGGC', 'GCTGAGGAGC', 'GCTGCTGGGC', 'GGCCTTCGCC', 'GCGCCCCCGC', 'GCCCTTGGGC', 'GCCGTGGGGC', 'GGCGGCGGCC', 'CGTGCTGACG', 'CCTGAGGAGG', 'GCTACTTGGC', 'TGCGAGGGCA', 'GGCAAAGGCC', 'GCTGAAGAGC', 'CGGCTTGCCG', 'GGGCTTGCCC', 'GCTGAAGAGC', 'GCTGAAGGGC', 'GCCAGTGGGC', 'GGCGCGGGCC', 'GCGGAGGCGC', 'CCTGAGGGGG', 'GCGAAACCGC', 'GCTGAGGGGC', 'GCTTGCAGGC', 'GCTTTCTGGC', 'GGGCTGGCCC', 'GCCATGAGGC', 'GAGGAAGCTC', 'GCTGAAGAGC', 'GCTGCAAGGC', 'CGGGCGGCCG', 'GCCGCGGGGC', 'GCGCGCGCGC', 'CCTGAGGGGG', 'GGGGCTGCCC', 'GCTGAGAGGC', 'GCTAAATGGC', 'GCCGGCAGGC', 'GCCGCTGGGC', 'GCTGGAGGGC', 'GGCGGCGGCC']\n"
     ]
    }
   ],
   "source": [
    "\n",
    "# Define the target RNA structure\n",
    "structure = \"(((....)))\"  # Example of a simple RNA hairpin structure\n",
    "\n",
    "# Run the genetic algorithm to design RNA sequences\n",
    "best_sequences = model.run_rna_design(structure=structure, mutation_ratio=0.5, num_population=100, num_generation=100)\n",
    "\n",
    "# Print the best sequence(s)\n",
    "print(\"Best RNA sequences:\", best_sequences)\n"
   ]
  },
  {
   "cell_type": "markdown",
   "id": "d5707d4a",
   "metadata": {},
   "source": [
    "\n",
    "In this tutorial, we:\n",
    "- Defined the RNA structure\n",
    "- Ran the genetic algorithm for RNA design\n",
    "    "
   ]
  },
  {
   "cell_type": "markdown",
   "id": "306a62b5",
   "metadata": {},
   "source": [
    "## Tutorial 3: Saving and Loading Designed RNA Sequences"
   ]
  },
  {
   "cell_type": "code",
   "execution_count": 4,
   "id": "a47bfd36",
   "metadata": {},
   "outputs": [
    {
     "name": "stdout",
     "output_type": "stream",
     "text": [
      "Best sequences saved to best_rna_sequences.json\n"
     ]
    }
   ],
   "source": [
    "\n",
    "import json\n",
    "\n",
    "# Save the best sequences to a file\n",
    "output_file = \"best_rna_sequences.json\"\n",
    "with open(output_file, \"w\") as f:\n",
    "    json.dump({\"structure\": structure, \"best_sequences\": best_sequences}, f)\n",
    "\n",
    "print(f\"Best sequences saved to {output_file}\")\n"
   ]
  },
  {
   "cell_type": "code",
   "execution_count": 5,
   "id": "b219e6c9",
   "metadata": {},
   "outputs": [
    {
     "name": "stdout",
     "output_type": "stream",
     "text": [
      "Loaded RNA structure: (((....)))\n",
      "Loaded best sequences: ['GCTGCTGGGC', 'GCTGTGGGGC', 'GCCAGCTGGC', 'GCTCTGGAGC', 'GCTGATGGGC', 'GGTGGCAGCC', 'GCCAAAGGGC', 'GCTGGAGGGC', 'GCCAAAGGGC', 'CGGATTCCCG', 'GCTCTCAAGC', 'GCTGTGGGGC', 'GGGCTTTCCC', 'GCTCAAGGGC', 'GCGCGCGCGC', 'CGCCTCGGCG', 'GCTGAGAGGC', 'GCTGCAGGGC', 'GCTGAAGGGC', 'GGCGAGGGCC', 'GCTAGGAGGC', 'GGGCTTGCCC', 'GGGATGGCCC', 'GCTGCCAAGC', 'GGCGAGGGCC', 'GCTGGCGGGC', 'GCCTTTTGGC', 'GGTGAAGGCC', 'GGCGGCGGCC', 'GCGGCTGCGC', 'GCTGCATGGC', 'GCTGTGGGGC', 'CGCGCGGGCG', 'GGTGCCCGCC', 'TGGAACCCCA', 'GCCCATGGGC', 'CCGAAGCCGG', 'GGGGGGGCCC', 'GCTGCATAGC', 'GCCCTCTGGC', 'GCCGCGGGGC', 'GCTACATGGC', 'GCGGGAGCGC', 'GGTGGCTGCC', 'GCCGTGGGGC', 'GCGCCCCCGC', 'GGTGTCAGCC', 'GGTGTGGGCC', 'GCTCCCGGGC', 'GCTGAGGAGC', 'GCTGCTGGGC', 'GGCCTTCGCC', 'GCGCCCCCGC', 'GCCCTTGGGC', 'GCCGTGGGGC', 'GGCGGCGGCC', 'CGTGCTGACG', 'CCTGAGGAGG', 'GCTACTTGGC', 'TGCGAGGGCA', 'GGCAAAGGCC', 'GCTGAAGAGC', 'CGGCTTGCCG', 'GGGCTTGCCC', 'GCTGAAGAGC', 'GCTGAAGGGC', 'GCCAGTGGGC', 'GGCGCGGGCC', 'GCGGAGGCGC', 'CCTGAGGGGG', 'GCGAAACCGC', 'GCTGAGGGGC', 'GCTTGCAGGC', 'GCTTTCTGGC', 'GGGCTGGCCC', 'GCCATGAGGC', 'GAGGAAGCTC', 'GCTGAAGAGC', 'GCTGCAAGGC', 'CGGGCGGCCG', 'GCCGCGGGGC', 'GCGCGCGCGC', 'CCTGAGGGGG', 'GGGGCTGCCC', 'GCTGAGAGGC', 'GCTAAATGGC', 'GCCGGCAGGC', 'GCCGCTGGGC', 'GCTGGAGGGC', 'GGCGGCGGCC']\n"
     ]
    }
   ],
   "source": [
    "\n",
    "# Load the sequences from the saved file\n",
    "with open(output_file, \"r\") as f:\n",
    "    loaded_data = json.load(f)\n",
    "\n",
    "print(\"Loaded RNA structure:\", loaded_data[\"structure\"])\n",
    "print(\"Loaded best sequences:\", loaded_data[\"best_sequences\"])\n"
   ]
  },
  {
   "cell_type": "markdown",
   "id": "2970b12d",
   "metadata": {},
   "source": [
    "## Tutorial 4: Fine-Tuning Parameters for Better RNA Sequence Design"
   ]
  },
  {
   "cell_type": "code",
   "execution_count": null,
   "id": "532892c4",
   "metadata": {},
   "outputs": [],
   "source": [
    "\n",
    "# Run the design with a higher mutation ratio\n",
    "best_sequences = model.run_rna_design(structure=structure, mutation_ratio=0.7, num_population=100, num_generation=100)\n",
    "print(\"Best RNA sequences with higher mutation:\", best_sequences)\n"
   ]
  },
  {
   "cell_type": "code",
   "execution_count": null,
   "id": "9044ecf7",
   "metadata": {},
   "outputs": [],
   "source": [
    "\n",
    "# Run the design with a larger population size\n",
    "best_sequences = model.run_rna_design(structure=structure, mutation_ratio=0.5, num_population=200, num_generation=100)\n",
    "print(\"Best RNA sequences with larger population:\", best_sequences)\n"
   ]
  },
  {
   "cell_type": "code",
   "execution_count": null,
   "id": "c39cf68b",
   "metadata": {},
   "outputs": [],
   "source": [
    "\n",
    "# Run the design for more generations\n",
    "best_sequences = model.run_rna_design(structure=structure, mutation_ratio=0.5, num_population=100, num_generation=200)\n",
    "print(\"Best RNA sequences with more generations:\", best_sequences)\n"
   ]
  },
  {
   "cell_type": "markdown",
   "id": "2070a0f0",
   "metadata": {},
   "source": [
    "## Tutorial 5: Visualizing the RNA Structure"
   ]
  },
  {
   "cell_type": "markdown",
   "id": "800a0b2b",
   "metadata": {},
   "source": [
    "\n",
    "You can visualize the RNA secondary structure using external tools like RNAfold from ViennaRNA.\n",
    "\n",
    "### Step 1: Install RNAfold\n",
    "To install RNAfold, you can use the following command (if on Ubuntu):\n",
    "\n",
    "```bash\n",
    "sudo apt-get install vienna-rna\n",
    "```\n",
    "\n",
    "### Step 2: Visualizing the Designed RNA\n",
    "After obtaining your RNA sequence, you can visualize its secondary structure using RNAfold:\n",
    "\n",
    "```bash\n",
    "echo \"GCGCUACGUCGCGAU\" | RNAfold\n",
    "```\n",
    "\n",
    "This will output the predicted secondary structure along with the minimum free energy (MFE).\n"
   ]
  },
  {
   "cell_type": "markdown",
   "id": "bb2949b6",
   "metadata": {},
   "source": [
    "## Conclusion"
   ]
  },
  {
   "cell_type": "markdown",
   "id": "333d9c8a",
   "metadata": {},
   "source": [
    "\n",
    "By following these tutorials, you can:\n",
    "- Set up and initialize the OmniGenomeModelforRNADesign for RNA sequence design.\n",
    "- Run RNA sequence design with a genetic algorithm.\n",
    "- Tune the parameters to optimize the design process.\n",
    "- Save and load results.\n",
    "- Visualize the RNA secondary structure using RNAfold.\n",
    "\n",
    "Explore more advanced configurations and tweak parameters for better results!\n"
   ]
  }
 ],
 "metadata": {
  "kernelspec": {
   "display_name": "Python 3 (ipykernel)",
   "language": "python",
   "name": "python3"
  },
  "language_info": {
   "codemirror_mode": {
    "name": "ipython",
    "version": 3
   },
   "file_extension": ".py",
   "mimetype": "text/x-python",
   "name": "python",
   "nbconvert_exporter": "python",
   "pygments_lexer": "ipython3",
   "version": "3.12.4"
  }
 },
 "nbformat": 4,
 "nbformat_minor": 5
}
