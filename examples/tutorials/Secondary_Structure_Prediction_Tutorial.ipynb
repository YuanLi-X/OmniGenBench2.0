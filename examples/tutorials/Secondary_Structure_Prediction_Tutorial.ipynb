{
 "cells": [
  {
   "cell_type": "markdown",
   "id": "cb8791301d129bc3",
   "metadata": {
    "collapsed": false,
    "jupyter": {
     "outputs_hidden": false
    }
   },
   "source": [
    "# OmniGenome - A Demonstration based on RNA Secondary Structure Prediction\n",
    "GitHub: https://github.com/yangheng95/OmniGenome\n",
    "OmniGenome Hub: Huggingface Spaces"
   ]
  },
  {
   "cell_type": "markdown",
   "id": "e6ba6af13c774056",
   "metadata": {
    "collapsed": false,
    "jupyter": {
     "outputs_hidden": false
    }
   },
   "source": [
    "## Introduction\n",
    "OmniGenome is a comprehensive package designed for pretrained genomic foundation models (FMs) development and FM benchmark. \n",
    "OmniGenome have the following key features:\n",
    "- Automated genomic FM benchmarking on public genomic datasets\n",
    "- Scalable genomic FM training and fine-tuning on genomic tasks\n",
    "- Diversified genomic FMs implementation\n",
    "- Easy-to-use pipeline for genomic FM development with no coding expertise required\n",
    "- Accessible OmniGenome Hub for sharing FMs, datasets, and pipelines\n",
    "- Extensive documentation and tutorials for genomic FM development\n",
    "\n",
    "We begin to introduce OmniGenome by delivering a demonstration to train a model to predict RNA secondary structures. The dataset used in this demonstration is the bpRNA dataset which contains RNA sequences and their corresponding secondary structures. The secondary structure of an RNA sequence is a set of base pairs that describe the folding of the RNA molecule. The secondary structure of an RNA sequence is important for understanding the function of the RNA molecule. In this demonstration, we will train a model to predict the secondary structure of an RNA sequence given its primary sequence."
   ]
  },
  {
   "cell_type": "markdown",
   "id": "d27e521782ae2e1",
   "metadata": {
    "collapsed": false,
    "jupyter": {
     "outputs_hidden": false
    }
   },
   "source": [
    "## Requirements\n",
    "OmniGenome requires the following recommended dependencies:\n",
    "- Python 3.9+\n",
    "- PyTorch 2.0.0+\n",
    "- Transformers 4.37.0+\n",
    "- Pandas 1.3.3+\n",
    "- Others in case of specific tasks"
   ]
  },
  {
   "cell_type": "markdown",
   "id": "088128bb-9047-4805-ba69-87d429075428",
   "metadata": {},
   "source": [
    "pip install OmniGenome\n"
   ]
  },
  {
   "cell_type": "markdown",
   "id": "3c9549d261227cd9",
   "metadata": {
    "collapsed": false,
    "jupyter": {
     "outputs_hidden": false
    }
   },
   "source": [
    "## Fine-tuning Genomic FMs for RNA Secondary Structure Prediction"
   ]
  },
  {
   "cell_type": "markdown",
   "id": "663dd5c83138b645",
   "metadata": {
    "collapsed": false,
    "jupyter": {
     "outputs_hidden": false
    }
   },
   "source": [
    "### Step 1: Import Libraries"
   ]
  },
  {
   "cell_type": "code",
   "id": "ca34214dcffab840",
   "metadata": {
    "collapsed": false,
    "jupyter": {
     "outputs_hidden": false
    },
    "ExecuteTime": {
     "end_time": "2025-06-28T19:04:38.152476Z",
     "start_time": "2025-06-28T19:04:24.806665Z"
    }
   },
   "source": [
    "import autocuda\n",
    "import torch\n",
    "from metric_visualizer import MetricVisualizer\n",
    "\n",
    "from omnigenome import OmniGenomeDatasetForTokenClassification\n",
    "from omnigenome import ClassificationMetric\n",
    "from omnigenome import OmniSingleNucleotideTokenizer, OmniKmersTokenizer\n",
    "from omnigenome import OmniGenomeModelForTokenClassification\n",
    "from omnigenome import Trainer"
   ],
   "outputs": [
    {
     "name": "stderr",
     "output_type": "stream",
     "text": [
      "C:\\Users\\hengu\\miniconda3\\envs\\py312\\Lib\\site-packages\\requests\\__init__.py:86: RequestsDependencyWarning: Unable to find acceptable character detection dependency (chardet or charset_normalizer).\n",
      "  warnings.warn(\n",
      "C:\\Users\\hengu\\miniconda3\\envs\\py312\\Lib\\site-packages\\tqdm\\auto.py:21: TqdmWarning: IProgress not found. Please update jupyter and ipywidgets. See https://ipywidgets.readthedocs.io/en/stable/user_install.html\n",
      "  from .autonotebook import tqdm as notebook_tqdm\n"
     ]
    },
    {
     "name": "stdout",
     "output_type": "stream",
     "text": [
      "\n",
      "                                \n",
      "   **  +----------- **           ___                     _ \n",
      "  @@                 @@         / _ \\  _ __ ___   _ __  (_)\n",
      " @@* #============== *@@       | | | || '_ ` _ \\ | '_ \\ | |\n",
      " @@*                 *@@       | |_| || | | | | || | | || |\n",
      " *@@  +------------ *@@         \\___/ |_| |_| |_||_| |_||_|\n",
      "  *@*               @@*       \n",
      "   *@@  #========= @@*        \n",
      "    *@@*         *@@*          \n",
      "      *@@  +---@@@*              ____  \n",
      "        *@@*   **               / ___|  ___  _ __    ___   _ __ ___    ___ \n",
      "          **@**                | |  _  / _ \\| '_ \\  / _ \\ | '_ ` _ \\  / _ \\ \n",
      "        *@@* *@@*              | |_| ||  __/| | | || (_) || | | | | ||  __/ \n",
      "      *@@ ---+  @@*             \\____| \\___||_| |_| \\___/ |_| |_| |_| \\___| \n",
      "    *@@*         *@@*          \n",
      "   *@@ =========#  @@*         \n",
      "  *@@               @@*        \n",
      " *@@ -------------+  @@*        ____                      _   \n",
      " @@                   @@       | __ )   ___  _ __    ___ | |__ \n",
      " @@ ===============#  @@       |  _ \\  / _ \\| '_ \\  / __|| '_ \\ \n",
      "  @@                 @@        | |_) ||  __/| | | || (__ | | | |\n",
      "   ** -----------+  **         |____/  \\___||_| |_| \\___||_| |_|\n",
      "\n"
     ]
    }
   ],
   "execution_count": 1
  },
  {
   "cell_type": "markdown",
   "id": "7503b044b1583f95",
   "metadata": {
    "collapsed": false,
    "jupyter": {
     "outputs_hidden": false
    }
   },
   "source": [
    "### Step 2: Define and Initialize the Tokenizer"
   ]
  },
  {
   "cell_type": "code",
   "id": "16024cfe02062f96",
   "metadata": {
    "collapsed": false,
    "jupyter": {
     "outputs_hidden": false
    },
    "ExecuteTime": {
     "end_time": "2025-06-28T19:04:40.980126Z",
     "start_time": "2025-06-28T19:04:38.416003Z"
    }
   },
   "source": [
    "# Predefined dataset label mapping\n",
    "label2id = {\"(\": 0, \")\": 1, \".\": 2}  # label2id is a dictionary that maps the labels to indices for prediction.\n",
    "\n",
    "# The is FM is exclusively powered by the OmniGenome package\n",
    "model_name_or_path = \"anonymous8/OmniGenome-186M\"\n",
    "\n",
    "# Generally, we use the tokenizers from transformers library, such as AutoTokenizer\n",
    "# tokenizer = AutoTokenizer.from_pretrained(model_name_or_path)\n",
    "\n",
    "# However, OmniGenome provides specialized tokenizers for genomic data, such as single nucleotide tokenizer and k-mers tokenizer\n",
    "# we can force the tokenizer to be used in the model\n",
    "tokenizer = OmniSingleNucleotideTokenizer.from_pretrained(model_name_or_path)"
   ],
   "outputs": [],
   "execution_count": 2
  },
  {
   "cell_type": "markdown",
   "id": "8595c35b48e02524",
   "metadata": {
    "collapsed": false,
    "jupyter": {
     "outputs_hidden": false
    }
   },
   "source": [
    "### Step 3: Define and Initialize the Model"
   ]
  },
  {
   "cell_type": "code",
   "id": "1320999dd4bdeafd",
   "metadata": {
    "collapsed": false,
    "jupyter": {
     "outputs_hidden": false
    },
    "ExecuteTime": {
     "end_time": "2025-06-28T19:05:38.366942Z",
     "start_time": "2025-06-28T19:04:41.000561Z"
    }
   },
   "source": [
    "# We have implemented a diverse set of genomic models in OmniGenome, please refer to the documentation for more details\n",
    "ssp_model = OmniGenomeModelForTokenClassification(\n",
    "    model_name_or_path,\n",
    "    tokenizer=tokenizer,\n",
    "    label2id=label2id,\n",
    ")"
   ],
   "outputs": [
    {
     "name": "stderr",
     "output_type": "stream",
     "text": [
      "A new version of the following files was downloaded from https://huggingface.co/anonymous8/OmniGenome-186M:\n",
      "- configuration_omnigenome.py\n",
      ". Make sure to double-check they do not contain any added malicious code. To avoid downloading new versions of the code file, you can pin a revision.\n",
      "A new version of the following files was downloaded from https://huggingface.co/anonymous8/OmniGenome-186M:\n",
      "- modeling_omnigenome.py\n",
      ". Make sure to double-check they do not contain any added malicious code. To avoid downloading new versions of the code file, you can pin a revision.\n",
      "Some weights of OmniGenomeModel were not initialized from the model checkpoint at anonymous8/OmniGenome-186M and are newly initialized: ['pooler.dense.bias', 'pooler.dense.weight']\n",
      "You should probably TRAIN this model on a down-stream task to be able to use it for predictions and inference.\n"
     ]
    },
    {
     "name": "stdout",
     "output_type": "stream",
     "text": [
      "[2025-06-28 20:05:38] [OmniGenome 0.2.7alpha]  Model Name: OmniGenomeModelForTokenClassification\n",
      "Model Metadata: {'library_name': 'OmniGenome', 'omnigenome_version': '0.2.7alpha', 'torch_version': '2.7.0+cu128+cu12.8+git134179474539648ba7dee1317959529fbd0e7f89', 'transformers_version': '4.52.4', 'model_cls': 'OmniGenomeModelForTokenClassification', 'tokenizer_cls': 'OmniSingleNucleotideTokenizer', 'model_name': 'OmniGenomeModelForTokenClassification'}\n",
      "Base Model Name: anonymous8/OmniGenome-186M\n",
      "Model Type: omnigenome\n",
      "Model Architecture: None\n",
      "Model Parameters: 185.886801 M\n",
      "Model Config: OmniGenomeConfig {\n",
      "  \"OmniGenomefold_config\": null,\n",
      "  \"attention_probs_dropout_prob\": 0.0,\n",
      "  \"auto_map\": {\n",
      "    \"AutoConfig\": \"anonymous8/OmniGenome-186M--configuration_omnigenome.OmniGenomeConfig\",\n",
      "    \"AutoModel\": \"anonymous8/OmniGenome-186M--modeling_omnigenome.OmniGenomeModel\",\n",
      "    \"AutoModelForMaskedLM\": \"anonymous8/OmniGenome-186M--modeling_omnigenome.OmniGenomeForMaskedLM\",\n",
      "    \"AutoModelForSeq2SeqLM\": \"anonymous8/OmniGenome-186M--modeling_omnigenome.OmniGenomeForSeq2SeqLM\",\n",
      "    \"AutoModelForSequenceClassification\": \"anonymous8/OmniGenome-186M--modeling_omnigenome.OmniGenomeForSequenceClassification\",\n",
      "    \"AutoModelForTokenClassification\": \"anonymous8/OmniGenome-186M--modeling_omnigenome.OmniGenomeForTokenClassification\"\n",
      "  },\n",
      "  \"classifier_dropout\": null,\n",
      "  \"emb_layer_norm_before\": false,\n",
      "  \"hidden_act\": \"gelu\",\n",
      "  \"hidden_dropout_prob\": 0,\n",
      "  \"hidden_size\": 720,\n",
      "  \"id2label\": {\n",
      "    \"0\": \"(\",\n",
      "    \"1\": \")\",\n",
      "    \"2\": \".\"\n",
      "  },\n",
      "  \"initializer_range\": 0.02,\n",
      "  \"intermediate_size\": 2560,\n",
      "  \"is_folding_model\": false,\n",
      "  \"label2id\": {\n",
      "    \"(\": 0,\n",
      "    \")\": 1,\n",
      "    \".\": 2\n",
      "  },\n",
      "  \"layer_norm_eps\": 1e-05,\n",
      "  \"mask_token_id\": 23,\n",
      "  \"max_position_embeddings\": 1026,\n",
      "  \"model_type\": \"omnigenome\",\n",
      "  \"num_attention_heads\": 30,\n",
      "  \"num_generation\": 50,\n",
      "  \"num_hidden_layers\": 32,\n",
      "  \"num_population\": 100,\n",
      "  \"pad_token_id\": 1,\n",
      "  \"position_embedding_type\": \"rotary\",\n",
      "  \"token_dropout\": true,\n",
      "  \"torch_dtype\": \"float32\",\n",
      "  \"transformers_version\": \"4.52.4\",\n",
      "  \"use_cache\": true,\n",
      "  \"vocab_list\": null,\n",
      "  \"vocab_size\": 24\n",
      "}\n",
      "\n",
      "\n"
     ]
    }
   ],
   "execution_count": 3
  },
  {
   "cell_type": "markdown",
   "id": "8519de4909b09ace",
   "metadata": {
    "collapsed": false,
    "jupyter": {
     "outputs_hidden": false
    }
   },
   "source": [
    "### Step 4: Define and Load the Dataset"
   ]
  },
  {
   "cell_type": "code",
   "id": "3e25475aaf00da22",
   "metadata": {
    "collapsed": false,
    "jupyter": {
     "outputs_hidden": false
    },
    "ExecuteTime": {
     "end_time": "2025-06-28T19:05:38.910505Z",
     "start_time": "2025-06-28T19:05:38.381476Z"
    }
   },
   "source": [
    "# necessary hyperparameters\n",
    "epochs = 10\n",
    "learning_rate = 2e-5\n",
    "weight_decay = 1e-5\n",
    "batch_size = 8\n",
    "max_length = 512\n",
    "seeds = [45]  # Each seed will be used for one run\n",
    "\n",
    "\n",
    "# Load the dataset according to the path\n",
    "train_file = \"toy_datasets/Archive2/train.json\"\n",
    "test_file = \"toy_datasets/Archive2/test.json\"\n",
    "valid_file = \"toy_datasets/Archive2/valid.json\"\n",
    "\n",
    "train_set = OmniGenomeDatasetForTokenClassification(\n",
    "    data_source=train_file,\n",
    "    tokenizer=tokenizer,\n",
    "    label2id=label2id,\n",
    "    max_length=max_length,\n",
    ")\n",
    "test_set = OmniGenomeDatasetForTokenClassification(\n",
    "    data_source=test_file,\n",
    "    tokenizer=tokenizer,\n",
    "    label2id=label2id,\n",
    "    max_length=max_length,\n",
    ")\n",
    "valid_set = OmniGenomeDatasetForTokenClassification(\n",
    "    data_source=valid_file,\n",
    "    tokenizer=tokenizer,\n",
    "    label2id=label2id,\n",
    "    max_length=max_length,\n",
    ")\n",
    "train_loader = torch.utils.data.DataLoader(\n",
    "    train_set, batch_size=batch_size, shuffle=True\n",
    ")\n",
    "valid_loader = torch.utils.data.DataLoader(valid_set, batch_size=batch_size)\n",
    "test_loader = torch.utils.data.DataLoader(test_set, batch_size=batch_size)"
   ],
   "outputs": [
    {
     "name": "stdout",
     "output_type": "stream",
     "text": [
      "[2025-06-28 20:05:38] [OmniGenome 0.2.7alpha]  Detected max_length=512 in the dataset, using it as the max_length.\n",
      "[2025-06-28 20:05:38] [OmniGenome 0.2.7alpha]  Loading data from toy_datasets/Archive2/train.json...\n",
      "[2025-06-28 20:05:38] [OmniGenome 0.2.7alpha]  Loaded 608 examples from toy_datasets/Archive2/train.json\n",
      "[2025-06-28 20:05:38] [OmniGenome 0.2.7alpha]  Detected shuffle=True, shuffling the examples...\n"
     ]
    },
    {
     "name": "stderr",
     "output_type": "stream",
     "text": [
      "100%|██████████| 608/608 [00:00<00:00, 2052.78it/s]\n"
     ]
    },
    {
     "name": "stdout",
     "output_type": "stream",
     "text": [
      "[2025-06-28 20:05:38] [OmniGenome 0.2.7alpha]  Max sequence length updated -> Reset max_length=504, label_padding_length=504\n",
      "[2025-06-28 20:05:38] [OmniGenome 0.2.7alpha]  {'avg_seq_len': np.float64(130.54276315789474), 'max_seq_len': np.int64(501), 'min_seq_len': np.int64(56), 'avg_label_len': np.float64(504.0), 'max_label_len': np.int64(504), 'min_label_len': np.int64(504)}\n",
      "[2025-06-28 20:05:38] [OmniGenome 0.2.7alpha]  Preview of the first two samples in the dataset:\n",
      "[2025-06-28 20:05:38] [OmniGenome 0.2.7alpha]  {'input_ids': tensor([0, 6, 5, 5, 6, 6, 6, 5, 6, 9, 9, 6, 9, 6, 6, 5, 6, 4, 6, 5, 6, 5, 9, 9,\n",
      "        6, 9, 4, 4, 9, 5, 5, 4, 4, 6, 9, 6, 4, 5, 9, 6, 6, 6, 4, 6, 6, 5, 4, 9,\n",
      "        6, 9, 6, 6, 9, 6, 6, 5, 6, 6, 4, 9, 6, 6, 4, 6, 9, 6, 4, 6, 4, 6, 6, 4,\n",
      "        6, 6, 4, 6, 9, 5, 5, 9, 6, 6, 5, 9, 6, 4, 9, 6, 5, 9, 9, 6, 6, 5, 6, 6,\n",
      "        9, 6, 6, 5, 6, 4, 5, 5, 6, 4, 6, 5, 6, 9, 5, 5, 4, 6, 6, 5, 5, 4, 4, 6,\n",
      "        5, 6, 9, 6, 6, 5, 6, 9, 5, 6, 4, 5, 4, 4, 6, 6, 9, 6, 9, 5, 6, 4, 6, 4,\n",
      "        9, 4, 6, 6, 4, 6, 9, 6, 9, 5, 4, 9, 5, 6, 6, 9, 4, 5, 5, 9, 6, 6, 9, 5,\n",
      "        6, 5, 4, 9, 4, 4, 9, 6, 4, 6, 6, 6, 6, 5, 6, 9, 4, 5, 6, 6, 5, 9, 5, 4,\n",
      "        6, 6, 6, 5, 5, 6, 4, 4, 4, 6, 6, 5, 4, 6, 5, 4, 6, 6, 5, 4, 4, 4, 4, 6,\n",
      "        9, 5, 5, 5, 5, 6, 5, 6, 9, 5, 4, 9, 6, 4, 5, 4, 6, 9, 6, 6, 5, 5, 6, 6,\n",
      "        4, 9, 4, 6, 5, 6, 5, 9, 9, 6, 5, 6, 4, 6, 9, 5, 6, 9, 5, 6, 6, 9, 4, 9,\n",
      "        9, 4, 6, 9, 5, 4, 6, 5, 5, 9, 9, 6, 9, 5, 4, 4, 9, 4, 5, 5, 9, 5, 5, 4,\n",
      "        6, 4, 5, 5, 5, 4, 9, 5, 6, 5, 9, 9, 9, 9, 2, 1, 1, 1, 1, 1, 1, 1, 1, 1,\n",
      "        1, 1, 1, 1, 1, 1, 1, 1, 1, 1, 1, 1, 1, 1, 1, 1, 1, 1, 1, 1, 1, 1, 1, 1,\n",
      "        1, 1, 1, 1, 1, 1, 1, 1, 1, 1, 1, 1, 1, 1, 1, 1, 1, 1, 1, 1, 1, 1, 1, 1,\n",
      "        1, 1, 1, 1, 1, 1, 1, 1, 1, 1, 1, 1, 1, 1, 1, 1, 1, 1, 1, 1, 1, 1, 1, 1,\n",
      "        1, 1, 1, 1, 1, 1, 1, 1, 1, 1, 1, 1, 1, 1, 1, 1, 1, 1, 1, 1, 1, 1, 1, 1,\n",
      "        1, 1, 1, 1, 1, 1, 1, 1, 1, 1, 1, 1, 1, 1, 1, 1, 1, 1, 1, 1, 1, 1, 1, 1,\n",
      "        1, 1, 1, 1, 1, 1, 1, 1, 1, 1, 1, 1, 1, 1, 1, 1, 1, 1, 1, 1, 1, 1, 1, 1,\n",
      "        1, 1, 1, 1, 1, 1, 1, 1, 1, 1, 1, 1, 1, 1, 1, 1, 1, 1, 1, 1, 1, 1, 1, 1,\n",
      "        1, 1, 1, 1, 1, 1, 1, 1, 1, 1, 1, 1, 1, 1, 1, 1, 1, 1, 1, 1, 1, 1, 1, 1]), 'attention_mask': tensor([1, 1, 1, 1, 1, 1, 1, 1, 1, 1, 1, 1, 1, 1, 1, 1, 1, 1, 1, 1, 1, 1, 1, 1,\n",
      "        1, 1, 1, 1, 1, 1, 1, 1, 1, 1, 1, 1, 1, 1, 1, 1, 1, 1, 1, 1, 1, 1, 1, 1,\n",
      "        1, 1, 1, 1, 1, 1, 1, 1, 1, 1, 1, 1, 1, 1, 1, 1, 1, 1, 1, 1, 1, 1, 1, 1,\n",
      "        1, 1, 1, 1, 1, 1, 1, 1, 1, 1, 1, 1, 1, 1, 1, 1, 1, 1, 1, 1, 1, 1, 1, 1,\n",
      "        1, 1, 1, 1, 1, 1, 1, 1, 1, 1, 1, 1, 1, 1, 1, 1, 1, 1, 1, 1, 1, 1, 1, 1,\n",
      "        1, 1, 1, 1, 1, 1, 1, 1, 1, 1, 1, 1, 1, 1, 1, 1, 1, 1, 1, 1, 1, 1, 1, 1,\n",
      "        1, 1, 1, 1, 1, 1, 1, 1, 1, 1, 1, 1, 1, 1, 1, 1, 1, 1, 1, 1, 1, 1, 1, 1,\n",
      "        1, 1, 1, 1, 1, 1, 1, 1, 1, 1, 1, 1, 1, 1, 1, 1, 1, 1, 1, 1, 1, 1, 1, 1,\n",
      "        1, 1, 1, 1, 1, 1, 1, 1, 1, 1, 1, 1, 1, 1, 1, 1, 1, 1, 1, 1, 1, 1, 1, 1,\n",
      "        1, 1, 1, 1, 1, 1, 1, 1, 1, 1, 1, 1, 1, 1, 1, 1, 1, 1, 1, 1, 1, 1, 1, 1,\n",
      "        1, 1, 1, 1, 1, 1, 1, 1, 1, 1, 1, 1, 1, 1, 1, 1, 1, 1, 1, 1, 1, 1, 1, 1,\n",
      "        1, 1, 1, 1, 1, 1, 1, 1, 1, 1, 1, 1, 1, 1, 1, 1, 1, 1, 1, 1, 1, 1, 1, 1,\n",
      "        1, 1, 1, 1, 1, 1, 1, 1, 1, 1, 1, 1, 1, 1, 1, 0, 0, 0, 0, 0, 0, 0, 0, 0,\n",
      "        0, 0, 0, 0, 0, 0, 0, 0, 0, 0, 0, 0, 0, 0, 0, 0, 0, 0, 0, 0, 0, 0, 0, 0,\n",
      "        0, 0, 0, 0, 0, 0, 0, 0, 0, 0, 0, 0, 0, 0, 0, 0, 0, 0, 0, 0, 0, 0, 0, 0,\n",
      "        0, 0, 0, 0, 0, 0, 0, 0, 0, 0, 0, 0, 0, 0, 0, 0, 0, 0, 0, 0, 0, 0, 0, 0,\n",
      "        0, 0, 0, 0, 0, 0, 0, 0, 0, 0, 0, 0, 0, 0, 0, 0, 0, 0, 0, 0, 0, 0, 0, 0,\n",
      "        0, 0, 0, 0, 0, 0, 0, 0, 0, 0, 0, 0, 0, 0, 0, 0, 0, 0, 0, 0, 0, 0, 0, 0,\n",
      "        0, 0, 0, 0, 0, 0, 0, 0, 0, 0, 0, 0, 0, 0, 0, 0, 0, 0, 0, 0, 0, 0, 0, 0,\n",
      "        0, 0, 0, 0, 0, 0, 0, 0, 0, 0, 0, 0, 0, 0, 0, 0, 0, 0, 0, 0, 0, 0, 0, 0,\n",
      "        0, 0, 0, 0, 0, 0, 0, 0, 0, 0, 0, 0, 0, 0, 0, 0, 0, 0, 0, 0, 0, 0, 0, 0]), 'labels': tensor([-100,    0,    0,    0,    0,    0,    0,    0,    0,    0,    0,    2,\n",
      "           2,    2,    2,    2,    2,    1,    1,    1,    1,    1,    1,    1,\n",
      "           2,    2,    2,    2,    0,    0,    0,    2,    2,    2,    2,    2,\n",
      "           2,    2,    2,    2,    1,    1,    1,    1,    1,    1,    2,    2,\n",
      "           2,    0,    0,    0,    0,    0,    0,    2,    2,    2,    2,    0,\n",
      "           0,    0,    0,    0,    2,    2,    2,    0,    0,    2,    0,    0,\n",
      "           0,    0,    2,    2,    2,    2,    0,    0,    0,    0,    0,    0,\n",
      "           0,    0,    0,    2,    2,    0,    0,    0,    0,    0,    0,    0,\n",
      "           0,    2,    2,    2,    2,    2,    2,    0,    0,    0,    0,    0,\n",
      "           0,    0,    0,    0,    2,    0,    0,    0,    0,    0,    2,    0,\n",
      "           2,    0,    0,    0,    0,    0,    0,    0,    0,    0,    0,    0,\n",
      "           2,    0,    0,    0,    0,    0,    0,    0,    0,    0,    2,    0,\n",
      "           0,    0,    2,    2,    2,    2,    1,    1,    1,    2,    2,    1,\n",
      "           1,    1,    1,    1,    1,    1,    1,    1,    2,    1,    1,    1,\n",
      "           1,    0,    0,    2,    2,    2,    1,    1,    2,    0,    0,    0,\n",
      "           0,    0,    2,    2,    2,    2,    2,    0,    0,    0,    2,    2,\n",
      "           2,    2,    0,    0,    0,    2,    2,    2,    2,    1,    1,    1,\n",
      "           2,    2,    2,    2,    1,    1,    1,    2,    2,    2,    2,    1,\n",
      "           1,    1,    1,    1,    2,    1,    1,    1,    1,    1,    1,    1,\n",
      "           2,    2,    1,    2,    2,    1,    1,    1,    1,    1,    1,    1,\n",
      "           2,    2,    2,    1,    1,    1,    1,    1,    1,    1,    2,    2,\n",
      "           2,    1,    1,    1,    1,    1,    1,    1,    1,    2,    1,    1,\n",
      "           1,    1,    1,    1,    1,    1,    1,    1,    1,    1,    1,    2,\n",
      "           1,    1,    2,    2,    2,    2,    2,    1,    1,    1,    1,    1,\n",
      "           2,    2,    2,    1,    1,    1,    1,    1,    1,    2,    2,    2,\n",
      "           2,    2, -100, -100, -100, -100, -100, -100, -100, -100, -100, -100,\n",
      "        -100, -100, -100, -100, -100, -100, -100, -100, -100, -100, -100, -100,\n",
      "        -100, -100, -100, -100, -100, -100, -100, -100, -100, -100, -100, -100,\n",
      "        -100, -100, -100, -100, -100, -100, -100, -100, -100, -100, -100, -100,\n",
      "        -100, -100, -100, -100, -100, -100, -100, -100, -100, -100, -100, -100,\n",
      "        -100, -100, -100, -100, -100, -100, -100, -100, -100, -100, -100, -100,\n",
      "        -100, -100, -100, -100, -100, -100, -100, -100, -100, -100, -100, -100,\n",
      "        -100, -100, -100, -100, -100, -100, -100, -100, -100, -100, -100, -100,\n",
      "        -100, -100, -100, -100, -100, -100, -100, -100, -100, -100, -100, -100,\n",
      "        -100, -100, -100, -100, -100, -100, -100, -100, -100, -100, -100, -100,\n",
      "        -100, -100, -100, -100, -100, -100, -100, -100, -100, -100, -100, -100,\n",
      "        -100, -100, -100, -100, -100, -100, -100, -100, -100, -100, -100, -100,\n",
      "        -100, -100, -100, -100, -100, -100, -100, -100, -100, -100, -100, -100,\n",
      "        -100, -100, -100, -100, -100, -100, -100, -100, -100, -100, -100, -100,\n",
      "        -100, -100, -100, -100, -100, -100, -100, -100, -100, -100, -100, -100,\n",
      "        -100, -100, -100, -100, -100, -100, -100, -100, -100, -100, -100, -100,\n",
      "        -100, -100, -100, -100, -100, -100, -100, -100, -100, -100, -100, -100])}\n",
      "[2025-06-28 20:05:38] [OmniGenome 0.2.7alpha]  {'input_ids': tensor([0, 6, 6, 4, 6, 4, 6, 4, 9, 6, 5, 5, 6, 6, 4, 6, 5, 6, 6, 5, 9, 6, 4, 4,\n",
      "        5, 6, 6, 4, 5, 5, 6, 6, 9, 5, 9, 5, 6, 4, 4, 4, 4, 5, 5, 6, 6, 4, 6, 9,\n",
      "        4, 6, 6, 6, 6, 5, 4, 4, 5, 9, 5, 9, 4, 5, 5, 6, 6, 6, 6, 6, 9, 9, 5, 4,\n",
      "        4, 4, 9, 5, 5, 5, 5, 5, 9, 5, 9, 5, 9, 5, 5, 6, 5, 5, 4, 2, 1, 1, 1, 1,\n",
      "        1, 1, 1, 1, 1, 1, 1, 1, 1, 1, 1, 1, 1, 1, 1, 1, 1, 1, 1, 1, 1, 1, 1, 1,\n",
      "        1, 1, 1, 1, 1, 1, 1, 1, 1, 1, 1, 1, 1, 1, 1, 1, 1, 1, 1, 1, 1, 1, 1, 1,\n",
      "        1, 1, 1, 1, 1, 1, 1, 1, 1, 1, 1, 1, 1, 1, 1, 1, 1, 1, 1, 1, 1, 1, 1, 1,\n",
      "        1, 1, 1, 1, 1, 1, 1, 1, 1, 1, 1, 1, 1, 1, 1, 1, 1, 1, 1, 1, 1, 1, 1, 1,\n",
      "        1, 1, 1, 1, 1, 1, 1, 1, 1, 1, 1, 1, 1, 1, 1, 1, 1, 1, 1, 1, 1, 1, 1, 1,\n",
      "        1, 1, 1, 1, 1, 1, 1, 1, 1, 1, 1, 1, 1, 1, 1, 1, 1, 1, 1, 1, 1, 1, 1, 1,\n",
      "        1, 1, 1, 1, 1, 1, 1, 1, 1, 1, 1, 1, 1, 1, 1, 1, 1, 1, 1, 1, 1, 1, 1, 1,\n",
      "        1, 1, 1, 1, 1, 1, 1, 1, 1, 1, 1, 1, 1, 1, 1, 1, 1, 1, 1, 1, 1, 1, 1, 1,\n",
      "        1, 1, 1, 1, 1, 1, 1, 1, 1, 1, 1, 1, 1, 1, 1, 1, 1, 1, 1, 1, 1, 1, 1, 1,\n",
      "        1, 1, 1, 1, 1, 1, 1, 1, 1, 1, 1, 1, 1, 1, 1, 1, 1, 1, 1, 1, 1, 1, 1, 1,\n",
      "        1, 1, 1, 1, 1, 1, 1, 1, 1, 1, 1, 1, 1, 1, 1, 1, 1, 1, 1, 1, 1, 1, 1, 1,\n",
      "        1, 1, 1, 1, 1, 1, 1, 1, 1, 1, 1, 1, 1, 1, 1, 1, 1, 1, 1, 1, 1, 1, 1, 1,\n",
      "        1, 1, 1, 1, 1, 1, 1, 1, 1, 1, 1, 1, 1, 1, 1, 1, 1, 1, 1, 1, 1, 1, 1, 1,\n",
      "        1, 1, 1, 1, 1, 1, 1, 1, 1, 1, 1, 1, 1, 1, 1, 1, 1, 1, 1, 1, 1, 1, 1, 1,\n",
      "        1, 1, 1, 1, 1, 1, 1, 1, 1, 1, 1, 1, 1, 1, 1, 1, 1, 1, 1, 1, 1, 1, 1, 1,\n",
      "        1, 1, 1, 1, 1, 1, 1, 1, 1, 1, 1, 1, 1, 1, 1, 1, 1, 1, 1, 1, 1, 1, 1, 1,\n",
      "        1, 1, 1, 1, 1, 1, 1, 1, 1, 1, 1, 1, 1, 1, 1, 1, 1, 1, 1, 1, 1, 1, 1, 1]), 'attention_mask': tensor([1, 1, 1, 1, 1, 1, 1, 1, 1, 1, 1, 1, 1, 1, 1, 1, 1, 1, 1, 1, 1, 1, 1, 1,\n",
      "        1, 1, 1, 1, 1, 1, 1, 1, 1, 1, 1, 1, 1, 1, 1, 1, 1, 1, 1, 1, 1, 1, 1, 1,\n",
      "        1, 1, 1, 1, 1, 1, 1, 1, 1, 1, 1, 1, 1, 1, 1, 1, 1, 1, 1, 1, 1, 1, 1, 1,\n",
      "        1, 1, 1, 1, 1, 1, 1, 1, 1, 1, 1, 1, 1, 1, 1, 1, 1, 1, 1, 1, 0, 0, 0, 0,\n",
      "        0, 0, 0, 0, 0, 0, 0, 0, 0, 0, 0, 0, 0, 0, 0, 0, 0, 0, 0, 0, 0, 0, 0, 0,\n",
      "        0, 0, 0, 0, 0, 0, 0, 0, 0, 0, 0, 0, 0, 0, 0, 0, 0, 0, 0, 0, 0, 0, 0, 0,\n",
      "        0, 0, 0, 0, 0, 0, 0, 0, 0, 0, 0, 0, 0, 0, 0, 0, 0, 0, 0, 0, 0, 0, 0, 0,\n",
      "        0, 0, 0, 0, 0, 0, 0, 0, 0, 0, 0, 0, 0, 0, 0, 0, 0, 0, 0, 0, 0, 0, 0, 0,\n",
      "        0, 0, 0, 0, 0, 0, 0, 0, 0, 0, 0, 0, 0, 0, 0, 0, 0, 0, 0, 0, 0, 0, 0, 0,\n",
      "        0, 0, 0, 0, 0, 0, 0, 0, 0, 0, 0, 0, 0, 0, 0, 0, 0, 0, 0, 0, 0, 0, 0, 0,\n",
      "        0, 0, 0, 0, 0, 0, 0, 0, 0, 0, 0, 0, 0, 0, 0, 0, 0, 0, 0, 0, 0, 0, 0, 0,\n",
      "        0, 0, 0, 0, 0, 0, 0, 0, 0, 0, 0, 0, 0, 0, 0, 0, 0, 0, 0, 0, 0, 0, 0, 0,\n",
      "        0, 0, 0, 0, 0, 0, 0, 0, 0, 0, 0, 0, 0, 0, 0, 0, 0, 0, 0, 0, 0, 0, 0, 0,\n",
      "        0, 0, 0, 0, 0, 0, 0, 0, 0, 0, 0, 0, 0, 0, 0, 0, 0, 0, 0, 0, 0, 0, 0, 0,\n",
      "        0, 0, 0, 0, 0, 0, 0, 0, 0, 0, 0, 0, 0, 0, 0, 0, 0, 0, 0, 0, 0, 0, 0, 0,\n",
      "        0, 0, 0, 0, 0, 0, 0, 0, 0, 0, 0, 0, 0, 0, 0, 0, 0, 0, 0, 0, 0, 0, 0, 0,\n",
      "        0, 0, 0, 0, 0, 0, 0, 0, 0, 0, 0, 0, 0, 0, 0, 0, 0, 0, 0, 0, 0, 0, 0, 0,\n",
      "        0, 0, 0, 0, 0, 0, 0, 0, 0, 0, 0, 0, 0, 0, 0, 0, 0, 0, 0, 0, 0, 0, 0, 0,\n",
      "        0, 0, 0, 0, 0, 0, 0, 0, 0, 0, 0, 0, 0, 0, 0, 0, 0, 0, 0, 0, 0, 0, 0, 0,\n",
      "        0, 0, 0, 0, 0, 0, 0, 0, 0, 0, 0, 0, 0, 0, 0, 0, 0, 0, 0, 0, 0, 0, 0, 0,\n",
      "        0, 0, 0, 0, 0, 0, 0, 0, 0, 0, 0, 0, 0, 0, 0, 0, 0, 0, 0, 0, 0, 0, 0, 0]), 'labels': tensor([-100,    0,    0,    0,    0,    0,    0,    0,    2,    2,    0,    0,\n",
      "           0,    2,    2,    2,    2,    2,    2,    2,    2,    2,    2,    2,\n",
      "           1,    1,    1,    2,    0,    0,    0,    0,    0,    2,    2,    2,\n",
      "           2,    2,    2,    2,    1,    1,    1,    1,    1,    2,    2,    2,\n",
      "           2,    2,    2,    2,    2,    2,    2,    2,    2,    2,    2,    2,\n",
      "           2,    2,    2,    0,    0,    0,    0,    0,    2,    2,    2,    2,\n",
      "           2,    2,    2,    1,    1,    1,    1,    1,    1,    1,    1,    1,\n",
      "           1,    1,    1,    2,    2,    2,    2, -100, -100, -100, -100, -100,\n",
      "        -100, -100, -100, -100, -100, -100, -100, -100, -100, -100, -100, -100,\n",
      "        -100, -100, -100, -100, -100, -100, -100, -100, -100, -100, -100, -100,\n",
      "        -100, -100, -100, -100, -100, -100, -100, -100, -100, -100, -100, -100,\n",
      "        -100, -100, -100, -100, -100, -100, -100, -100, -100, -100, -100, -100,\n",
      "        -100, -100, -100, -100, -100, -100, -100, -100, -100, -100, -100, -100,\n",
      "        -100, -100, -100, -100, -100, -100, -100, -100, -100, -100, -100, -100,\n",
      "        -100, -100, -100, -100, -100, -100, -100, -100, -100, -100, -100, -100,\n",
      "        -100, -100, -100, -100, -100, -100, -100, -100, -100, -100, -100, -100,\n",
      "        -100, -100, -100, -100, -100, -100, -100, -100, -100, -100, -100, -100,\n",
      "        -100, -100, -100, -100, -100, -100, -100, -100, -100, -100, -100, -100,\n",
      "        -100, -100, -100, -100, -100, -100, -100, -100, -100, -100, -100, -100,\n",
      "        -100, -100, -100, -100, -100, -100, -100, -100, -100, -100, -100, -100,\n",
      "        -100, -100, -100, -100, -100, -100, -100, -100, -100, -100, -100, -100,\n",
      "        -100, -100, -100, -100, -100, -100, -100, -100, -100, -100, -100, -100,\n",
      "        -100, -100, -100, -100, -100, -100, -100, -100, -100, -100, -100, -100,\n",
      "        -100, -100, -100, -100, -100, -100, -100, -100, -100, -100, -100, -100,\n",
      "        -100, -100, -100, -100, -100, -100, -100, -100, -100, -100, -100, -100,\n",
      "        -100, -100, -100, -100, -100, -100, -100, -100, -100, -100, -100, -100,\n",
      "        -100, -100, -100, -100, -100, -100, -100, -100, -100, -100, -100, -100,\n",
      "        -100, -100, -100, -100, -100, -100, -100, -100, -100, -100, -100, -100,\n",
      "        -100, -100, -100, -100, -100, -100, -100, -100, -100, -100, -100, -100,\n",
      "        -100, -100, -100, -100, -100, -100, -100, -100, -100, -100, -100, -100,\n",
      "        -100, -100, -100, -100, -100, -100, -100, -100, -100, -100, -100, -100,\n",
      "        -100, -100, -100, -100, -100, -100, -100, -100, -100, -100, -100, -100,\n",
      "        -100, -100, -100, -100, -100, -100, -100, -100, -100, -100, -100, -100,\n",
      "        -100, -100, -100, -100, -100, -100, -100, -100, -100, -100, -100, -100,\n",
      "        -100, -100, -100, -100, -100, -100, -100, -100, -100, -100, -100, -100,\n",
      "        -100, -100, -100, -100, -100, -100, -100, -100, -100, -100, -100, -100,\n",
      "        -100, -100, -100, -100, -100, -100, -100, -100, -100, -100, -100, -100,\n",
      "        -100, -100, -100, -100, -100, -100, -100, -100, -100, -100, -100, -100,\n",
      "        -100, -100, -100, -100, -100, -100, -100, -100, -100, -100, -100, -100,\n",
      "        -100, -100, -100, -100, -100, -100, -100, -100, -100, -100, -100, -100,\n",
      "        -100, -100, -100, -100, -100, -100, -100, -100, -100, -100, -100, -100,\n",
      "        -100, -100, -100, -100, -100, -100, -100, -100, -100, -100, -100, -100])}\n",
      "[2025-06-28 20:05:38] [OmniGenome 0.2.7alpha]  Detected max_length=512 in the dataset, using it as the max_length.\n",
      "[2025-06-28 20:05:38] [OmniGenome 0.2.7alpha]  Loading data from toy_datasets/Archive2/test.json...\n",
      "[2025-06-28 20:05:38] [OmniGenome 0.2.7alpha]  Loaded 82 examples from toy_datasets/Archive2/test.json\n",
      "[2025-06-28 20:05:38] [OmniGenome 0.2.7alpha]  Detected shuffle=True, shuffling the examples...\n"
     ]
    },
    {
     "name": "stderr",
     "output_type": "stream",
     "text": [
      "100%|██████████| 82/82 [00:00<00:00, 1950.21it/s]\n"
     ]
    },
    {
     "name": "stdout",
     "output_type": "stream",
     "text": [
      "[2025-06-28 20:05:38] [OmniGenome 0.2.7alpha]  Max sequence length updated -> Reset max_length=328, label_padding_length=328\n",
      "[2025-06-28 20:05:38] [OmniGenome 0.2.7alpha]  {'avg_seq_len': np.float64(131.23170731707316), 'max_seq_len': np.int64(321), 'min_seq_len': np.int64(67), 'avg_label_len': np.float64(328.0), 'max_label_len': np.int64(328), 'min_label_len': np.int64(328)}\n",
      "[2025-06-28 20:05:38] [OmniGenome 0.2.7alpha]  Preview of the first two samples in the dataset:\n",
      "[2025-06-28 20:05:38] [OmniGenome 0.2.7alpha]  {'input_ids': tensor([0, 6, 6, 4, 6, 4, 6, 5, 9, 6, 9, 5, 5, 6, 4, 6, 9, 6, 6, 9, 5, 6, 4, 4,\n",
      "        6, 6, 4, 6, 5, 4, 5, 6, 4, 9, 9, 6, 6, 4, 4, 4, 9, 5, 6, 9, 6, 9, 4, 6,\n",
      "        6, 5, 6, 6, 9, 5, 4, 4, 5, 9, 5, 5, 6, 9, 5, 9, 5, 4, 4, 6, 6, 6, 9, 9,\n",
      "        5, 6, 4, 4, 9, 5, 5, 5, 9, 9, 6, 5, 9, 5, 9, 5, 5, 6, 5, 5, 4, 2, 1, 1,\n",
      "        1, 1, 1, 1, 1, 1, 1, 1, 1, 1, 1, 1, 1, 1, 1, 1, 1, 1, 1, 1, 1, 1, 1, 1,\n",
      "        1, 1, 1, 1, 1, 1, 1, 1, 1, 1, 1, 1, 1, 1, 1, 1, 1, 1, 1, 1, 1, 1, 1, 1,\n",
      "        1, 1, 1, 1, 1, 1, 1, 1, 1, 1, 1, 1, 1, 1, 1, 1, 1, 1, 1, 1, 1, 1, 1, 1,\n",
      "        1, 1, 1, 1, 1, 1, 1, 1, 1, 1, 1, 1, 1, 1, 1, 1, 1, 1, 1, 1, 1, 1, 1, 1,\n",
      "        1, 1, 1, 1, 1, 1, 1, 1, 1, 1, 1, 1, 1, 1, 1, 1, 1, 1, 1, 1, 1, 1, 1, 1,\n",
      "        1, 1, 1, 1, 1, 1, 1, 1, 1, 1, 1, 1, 1, 1, 1, 1, 1, 1, 1, 1, 1, 1, 1, 1,\n",
      "        1, 1, 1, 1, 1, 1, 1, 1, 1, 1, 1, 1, 1, 1, 1, 1, 1, 1, 1, 1, 1, 1, 1, 1,\n",
      "        1, 1, 1, 1, 1, 1, 1, 1, 1, 1, 1, 1, 1, 1, 1, 1, 1, 1, 1, 1, 1, 1, 1, 1,\n",
      "        1, 1, 1, 1, 1, 1, 1, 1, 1, 1, 1, 1, 1, 1, 1, 1, 1, 1, 1, 1, 1, 1, 1, 1,\n",
      "        1, 1, 1, 1, 1, 1, 1, 1, 1, 1, 1, 1, 1, 1, 1, 1]), 'attention_mask': tensor([1, 1, 1, 1, 1, 1, 1, 1, 1, 1, 1, 1, 1, 1, 1, 1, 1, 1, 1, 1, 1, 1, 1, 1,\n",
      "        1, 1, 1, 1, 1, 1, 1, 1, 1, 1, 1, 1, 1, 1, 1, 1, 1, 1, 1, 1, 1, 1, 1, 1,\n",
      "        1, 1, 1, 1, 1, 1, 1, 1, 1, 1, 1, 1, 1, 1, 1, 1, 1, 1, 1, 1, 1, 1, 1, 1,\n",
      "        1, 1, 1, 1, 1, 1, 1, 1, 1, 1, 1, 1, 1, 1, 1, 1, 1, 1, 1, 1, 1, 1, 0, 0,\n",
      "        0, 0, 0, 0, 0, 0, 0, 0, 0, 0, 0, 0, 0, 0, 0, 0, 0, 0, 0, 0, 0, 0, 0, 0,\n",
      "        0, 0, 0, 0, 0, 0, 0, 0, 0, 0, 0, 0, 0, 0, 0, 0, 0, 0, 0, 0, 0, 0, 0, 0,\n",
      "        0, 0, 0, 0, 0, 0, 0, 0, 0, 0, 0, 0, 0, 0, 0, 0, 0, 0, 0, 0, 0, 0, 0, 0,\n",
      "        0, 0, 0, 0, 0, 0, 0, 0, 0, 0, 0, 0, 0, 0, 0, 0, 0, 0, 0, 0, 0, 0, 0, 0,\n",
      "        0, 0, 0, 0, 0, 0, 0, 0, 0, 0, 0, 0, 0, 0, 0, 0, 0, 0, 0, 0, 0, 0, 0, 0,\n",
      "        0, 0, 0, 0, 0, 0, 0, 0, 0, 0, 0, 0, 0, 0, 0, 0, 0, 0, 0, 0, 0, 0, 0, 0,\n",
      "        0, 0, 0, 0, 0, 0, 0, 0, 0, 0, 0, 0, 0, 0, 0, 0, 0, 0, 0, 0, 0, 0, 0, 0,\n",
      "        0, 0, 0, 0, 0, 0, 0, 0, 0, 0, 0, 0, 0, 0, 0, 0, 0, 0, 0, 0, 0, 0, 0, 0,\n",
      "        0, 0, 0, 0, 0, 0, 0, 0, 0, 0, 0, 0, 0, 0, 0, 0, 0, 0, 0, 0, 0, 0, 0, 0,\n",
      "        0, 0, 0, 0, 0, 0, 0, 0, 0, 0, 0, 0, 0, 0, 0, 0]), 'labels': tensor([-100,    0,    0,    0,    0,    0,    0,    0,    2,    2,    0,    0,\n",
      "           0,    2,    2,    2,    2,    2,    2,    2,    2,    2,    2,    2,\n",
      "           1,    1,    1,    0,    0,    0,    0,    0,    0,    2,    2,    2,\n",
      "           2,    2,    2,    2,    1,    1,    1,    1,    1,    1,    2,    2,\n",
      "           2,    2,    2,    2,    2,    2,    2,    2,    2,    2,    2,    2,\n",
      "           2,    2,    2,    2,    2,    0,    0,    0,    0,    0,    2,    2,\n",
      "           2,    2,    2,    2,    2,    1,    1,    1,    1,    1,    1,    1,\n",
      "           1,    1,    1,    1,    1,    2,    2,    2,    2, -100, -100, -100,\n",
      "        -100, -100, -100, -100, -100, -100, -100, -100, -100, -100, -100, -100,\n",
      "        -100, -100, -100, -100, -100, -100, -100, -100, -100, -100, -100, -100,\n",
      "        -100, -100, -100, -100, -100, -100, -100, -100, -100, -100, -100, -100,\n",
      "        -100, -100, -100, -100, -100, -100, -100, -100, -100, -100, -100, -100,\n",
      "        -100, -100, -100, -100, -100, -100, -100, -100, -100, -100, -100, -100,\n",
      "        -100, -100, -100, -100, -100, -100, -100, -100, -100, -100, -100, -100,\n",
      "        -100, -100, -100, -100, -100, -100, -100, -100, -100, -100, -100, -100,\n",
      "        -100, -100, -100, -100, -100, -100, -100, -100, -100, -100, -100, -100,\n",
      "        -100, -100, -100, -100, -100, -100, -100, -100, -100, -100, -100, -100,\n",
      "        -100, -100, -100, -100, -100, -100, -100, -100, -100, -100, -100, -100,\n",
      "        -100, -100, -100, -100, -100, -100, -100, -100, -100, -100, -100, -100,\n",
      "        -100, -100, -100, -100, -100, -100, -100, -100, -100, -100, -100, -100,\n",
      "        -100, -100, -100, -100, -100, -100, -100, -100, -100, -100, -100, -100,\n",
      "        -100, -100, -100, -100, -100, -100, -100, -100, -100, -100, -100, -100,\n",
      "        -100, -100, -100, -100, -100, -100, -100, -100, -100, -100, -100, -100,\n",
      "        -100, -100, -100, -100, -100, -100, -100, -100, -100, -100, -100, -100,\n",
      "        -100, -100, -100, -100, -100, -100, -100, -100, -100, -100, -100, -100,\n",
      "        -100, -100, -100, -100, -100, -100, -100, -100, -100, -100, -100, -100,\n",
      "        -100, -100, -100, -100, -100, -100, -100, -100, -100, -100, -100, -100,\n",
      "        -100, -100, -100, -100])}\n",
      "[2025-06-28 20:05:38] [OmniGenome 0.2.7alpha]  {'input_ids': tensor([0, 6, 5, 5, 5, 5, 5, 6, 9, 6, 6, 9, 6, 9, 4, 6, 5, 5, 4, 6, 6, 9, 5, 9,\n",
      "        4, 6, 5, 4, 9, 4, 5, 6, 6, 6, 6, 9, 9, 5, 9, 5, 6, 9, 5, 5, 5, 5, 6, 9,\n",
      "        6, 4, 5, 5, 5, 6, 6, 6, 9, 9, 5, 4, 4, 4, 9, 5, 5, 5, 6, 6, 5, 6, 6, 6,\n",
      "        6, 6, 5, 4, 5, 5, 4, 2, 1, 1, 1, 1, 1, 1, 1, 1, 1, 1, 1, 1, 1, 1, 1, 1,\n",
      "        1, 1, 1, 1, 1, 1, 1, 1, 1, 1, 1, 1, 1, 1, 1, 1, 1, 1, 1, 1, 1, 1, 1, 1,\n",
      "        1, 1, 1, 1, 1, 1, 1, 1, 1, 1, 1, 1, 1, 1, 1, 1, 1, 1, 1, 1, 1, 1, 1, 1,\n",
      "        1, 1, 1, 1, 1, 1, 1, 1, 1, 1, 1, 1, 1, 1, 1, 1, 1, 1, 1, 1, 1, 1, 1, 1,\n",
      "        1, 1, 1, 1, 1, 1, 1, 1, 1, 1, 1, 1, 1, 1, 1, 1, 1, 1, 1, 1, 1, 1, 1, 1,\n",
      "        1, 1, 1, 1, 1, 1, 1, 1, 1, 1, 1, 1, 1, 1, 1, 1, 1, 1, 1, 1, 1, 1, 1, 1,\n",
      "        1, 1, 1, 1, 1, 1, 1, 1, 1, 1, 1, 1, 1, 1, 1, 1, 1, 1, 1, 1, 1, 1, 1, 1,\n",
      "        1, 1, 1, 1, 1, 1, 1, 1, 1, 1, 1, 1, 1, 1, 1, 1, 1, 1, 1, 1, 1, 1, 1, 1,\n",
      "        1, 1, 1, 1, 1, 1, 1, 1, 1, 1, 1, 1, 1, 1, 1, 1, 1, 1, 1, 1, 1, 1, 1, 1,\n",
      "        1, 1, 1, 1, 1, 1, 1, 1, 1, 1, 1, 1, 1, 1, 1, 1, 1, 1, 1, 1, 1, 1, 1, 1,\n",
      "        1, 1, 1, 1, 1, 1, 1, 1, 1, 1, 1, 1, 1, 1, 1, 1]), 'attention_mask': tensor([1, 1, 1, 1, 1, 1, 1, 1, 1, 1, 1, 1, 1, 1, 1, 1, 1, 1, 1, 1, 1, 1, 1, 1,\n",
      "        1, 1, 1, 1, 1, 1, 1, 1, 1, 1, 1, 1, 1, 1, 1, 1, 1, 1, 1, 1, 1, 1, 1, 1,\n",
      "        1, 1, 1, 1, 1, 1, 1, 1, 1, 1, 1, 1, 1, 1, 1, 1, 1, 1, 1, 1, 1, 1, 1, 1,\n",
      "        1, 1, 1, 1, 1, 1, 1, 1, 0, 0, 0, 0, 0, 0, 0, 0, 0, 0, 0, 0, 0, 0, 0, 0,\n",
      "        0, 0, 0, 0, 0, 0, 0, 0, 0, 0, 0, 0, 0, 0, 0, 0, 0, 0, 0, 0, 0, 0, 0, 0,\n",
      "        0, 0, 0, 0, 0, 0, 0, 0, 0, 0, 0, 0, 0, 0, 0, 0, 0, 0, 0, 0, 0, 0, 0, 0,\n",
      "        0, 0, 0, 0, 0, 0, 0, 0, 0, 0, 0, 0, 0, 0, 0, 0, 0, 0, 0, 0, 0, 0, 0, 0,\n",
      "        0, 0, 0, 0, 0, 0, 0, 0, 0, 0, 0, 0, 0, 0, 0, 0, 0, 0, 0, 0, 0, 0, 0, 0,\n",
      "        0, 0, 0, 0, 0, 0, 0, 0, 0, 0, 0, 0, 0, 0, 0, 0, 0, 0, 0, 0, 0, 0, 0, 0,\n",
      "        0, 0, 0, 0, 0, 0, 0, 0, 0, 0, 0, 0, 0, 0, 0, 0, 0, 0, 0, 0, 0, 0, 0, 0,\n",
      "        0, 0, 0, 0, 0, 0, 0, 0, 0, 0, 0, 0, 0, 0, 0, 0, 0, 0, 0, 0, 0, 0, 0, 0,\n",
      "        0, 0, 0, 0, 0, 0, 0, 0, 0, 0, 0, 0, 0, 0, 0, 0, 0, 0, 0, 0, 0, 0, 0, 0,\n",
      "        0, 0, 0, 0, 0, 0, 0, 0, 0, 0, 0, 0, 0, 0, 0, 0, 0, 0, 0, 0, 0, 0, 0, 0,\n",
      "        0, 0, 0, 0, 0, 0, 0, 0, 0, 0, 0, 0, 0, 0, 0, 0]), 'labels': tensor([-100,    0,    0,    0,    0,    0,    0,    0,    2,    2,    0,    0,\n",
      "           0,    0,    2,    2,    2,    2,    2,    2,    2,    2,    2,    2,\n",
      "           2,    1,    1,    1,    1,    2,    0,    0,    0,    0,    0,    2,\n",
      "           2,    2,    2,    2,    2,    2,    1,    1,    1,    1,    1,    2,\n",
      "           2,    2,    2,    0,    0,    0,    0,    0,    2,    2,    2,    2,\n",
      "           2,    2,    2,    1,    1,    1,    1,    1,    1,    1,    1,    1,\n",
      "           1,    1,    1,    2,    2,    2,    2, -100, -100, -100, -100, -100,\n",
      "        -100, -100, -100, -100, -100, -100, -100, -100, -100, -100, -100, -100,\n",
      "        -100, -100, -100, -100, -100, -100, -100, -100, -100, -100, -100, -100,\n",
      "        -100, -100, -100, -100, -100, -100, -100, -100, -100, -100, -100, -100,\n",
      "        -100, -100, -100, -100, -100, -100, -100, -100, -100, -100, -100, -100,\n",
      "        -100, -100, -100, -100, -100, -100, -100, -100, -100, -100, -100, -100,\n",
      "        -100, -100, -100, -100, -100, -100, -100, -100, -100, -100, -100, -100,\n",
      "        -100, -100, -100, -100, -100, -100, -100, -100, -100, -100, -100, -100,\n",
      "        -100, -100, -100, -100, -100, -100, -100, -100, -100, -100, -100, -100,\n",
      "        -100, -100, -100, -100, -100, -100, -100, -100, -100, -100, -100, -100,\n",
      "        -100, -100, -100, -100, -100, -100, -100, -100, -100, -100, -100, -100,\n",
      "        -100, -100, -100, -100, -100, -100, -100, -100, -100, -100, -100, -100,\n",
      "        -100, -100, -100, -100, -100, -100, -100, -100, -100, -100, -100, -100,\n",
      "        -100, -100, -100, -100, -100, -100, -100, -100, -100, -100, -100, -100,\n",
      "        -100, -100, -100, -100, -100, -100, -100, -100, -100, -100, -100, -100,\n",
      "        -100, -100, -100, -100, -100, -100, -100, -100, -100, -100, -100, -100,\n",
      "        -100, -100, -100, -100, -100, -100, -100, -100, -100, -100, -100, -100,\n",
      "        -100, -100, -100, -100, -100, -100, -100, -100, -100, -100, -100, -100,\n",
      "        -100, -100, -100, -100, -100, -100, -100, -100, -100, -100, -100, -100,\n",
      "        -100, -100, -100, -100, -100, -100, -100, -100, -100, -100, -100, -100,\n",
      "        -100, -100, -100, -100, -100, -100, -100, -100, -100, -100, -100, -100,\n",
      "        -100, -100, -100, -100])}\n",
      "[2025-06-28 20:05:38] [OmniGenome 0.2.7alpha]  Detected max_length=512 in the dataset, using it as the max_length.\n",
      "[2025-06-28 20:05:38] [OmniGenome 0.2.7alpha]  Loading data from toy_datasets/Archive2/valid.json...\n",
      "[2025-06-28 20:05:38] [OmniGenome 0.2.7alpha]  Loaded 76 examples from toy_datasets/Archive2/valid.json\n",
      "[2025-06-28 20:05:38] [OmniGenome 0.2.7alpha]  Detected shuffle=True, shuffling the examples...\n"
     ]
    },
    {
     "name": "stderr",
     "output_type": "stream",
     "text": [
      "100%|██████████| 76/76 [00:00<00:00, 2034.90it/s]\n"
     ]
    },
    {
     "name": "stdout",
     "output_type": "stream",
     "text": [
      "[2025-06-28 20:05:38] [OmniGenome 0.2.7alpha]  Max sequence length updated -> Reset max_length=312, label_padding_length=312\n",
      "[2025-06-28 20:05:38] [OmniGenome 0.2.7alpha]  {'avg_seq_len': np.float64(117.39473684210526), 'max_seq_len': np.int64(308), 'min_seq_len': np.int64(60), 'avg_label_len': np.float64(312.0), 'max_label_len': np.int64(312), 'min_label_len': np.int64(312)}\n",
      "[2025-06-28 20:05:38] [OmniGenome 0.2.7alpha]  Preview of the first two samples in the dataset:\n",
      "[2025-06-28 20:05:38] [OmniGenome 0.2.7alpha]  {'input_ids': tensor([0, 6, 6, 4, 5, 5, 9, 9, 9, 4, 6, 5, 9, 5, 4, 6, 9, 9, 6, 6, 9, 9, 4, 6,\n",
      "        4, 6, 5, 4, 9, 5, 5, 6, 6, 5, 9, 5, 4, 9, 4, 4, 5, 5, 6, 6, 4, 5, 6, 6,\n",
      "        9, 5, 4, 9, 9, 6, 6, 9, 9, 5, 4, 4, 6, 9, 5, 5, 4, 4, 9, 4, 4, 6, 6, 9,\n",
      "        5, 5, 4, 5, 5, 4, 2, 1, 1, 1, 1, 1, 1, 1, 1, 1, 1, 1, 1, 1, 1, 1, 1, 1,\n",
      "        1, 1, 1, 1, 1, 1, 1, 1, 1, 1, 1, 1, 1, 1, 1, 1, 1, 1, 1, 1, 1, 1, 1, 1,\n",
      "        1, 1, 1, 1, 1, 1, 1, 1, 1, 1, 1, 1, 1, 1, 1, 1, 1, 1, 1, 1, 1, 1, 1, 1,\n",
      "        1, 1, 1, 1, 1, 1, 1, 1, 1, 1, 1, 1, 1, 1, 1, 1, 1, 1, 1, 1, 1, 1, 1, 1,\n",
      "        1, 1, 1, 1, 1, 1, 1, 1, 1, 1, 1, 1, 1, 1, 1, 1, 1, 1, 1, 1, 1, 1, 1, 1,\n",
      "        1, 1, 1, 1, 1, 1, 1, 1, 1, 1, 1, 1, 1, 1, 1, 1, 1, 1, 1, 1, 1, 1, 1, 1,\n",
      "        1, 1, 1, 1, 1, 1, 1, 1, 1, 1, 1, 1, 1, 1, 1, 1, 1, 1, 1, 1, 1, 1, 1, 1,\n",
      "        1, 1, 1, 1, 1, 1, 1, 1, 1, 1, 1, 1, 1, 1, 1, 1, 1, 1, 1, 1, 1, 1, 1, 1,\n",
      "        1, 1, 1, 1, 1, 1, 1, 1, 1, 1, 1, 1, 1, 1, 1, 1, 1, 1, 1, 1, 1, 1, 1, 1,\n",
      "        1, 1, 1, 1, 1, 1, 1, 1, 1, 1, 1, 1, 1, 1, 1, 1, 1, 1, 1, 1, 1, 1, 1, 1]), 'attention_mask': tensor([1, 1, 1, 1, 1, 1, 1, 1, 1, 1, 1, 1, 1, 1, 1, 1, 1, 1, 1, 1, 1, 1, 1, 1,\n",
      "        1, 1, 1, 1, 1, 1, 1, 1, 1, 1, 1, 1, 1, 1, 1, 1, 1, 1, 1, 1, 1, 1, 1, 1,\n",
      "        1, 1, 1, 1, 1, 1, 1, 1, 1, 1, 1, 1, 1, 1, 1, 1, 1, 1, 1, 1, 1, 1, 1, 1,\n",
      "        1, 1, 1, 1, 1, 1, 1, 0, 0, 0, 0, 0, 0, 0, 0, 0, 0, 0, 0, 0, 0, 0, 0, 0,\n",
      "        0, 0, 0, 0, 0, 0, 0, 0, 0, 0, 0, 0, 0, 0, 0, 0, 0, 0, 0, 0, 0, 0, 0, 0,\n",
      "        0, 0, 0, 0, 0, 0, 0, 0, 0, 0, 0, 0, 0, 0, 0, 0, 0, 0, 0, 0, 0, 0, 0, 0,\n",
      "        0, 0, 0, 0, 0, 0, 0, 0, 0, 0, 0, 0, 0, 0, 0, 0, 0, 0, 0, 0, 0, 0, 0, 0,\n",
      "        0, 0, 0, 0, 0, 0, 0, 0, 0, 0, 0, 0, 0, 0, 0, 0, 0, 0, 0, 0, 0, 0, 0, 0,\n",
      "        0, 0, 0, 0, 0, 0, 0, 0, 0, 0, 0, 0, 0, 0, 0, 0, 0, 0, 0, 0, 0, 0, 0, 0,\n",
      "        0, 0, 0, 0, 0, 0, 0, 0, 0, 0, 0, 0, 0, 0, 0, 0, 0, 0, 0, 0, 0, 0, 0, 0,\n",
      "        0, 0, 0, 0, 0, 0, 0, 0, 0, 0, 0, 0, 0, 0, 0, 0, 0, 0, 0, 0, 0, 0, 0, 0,\n",
      "        0, 0, 0, 0, 0, 0, 0, 0, 0, 0, 0, 0, 0, 0, 0, 0, 0, 0, 0, 0, 0, 0, 0, 0,\n",
      "        0, 0, 0, 0, 0, 0, 0, 0, 0, 0, 0, 0, 0, 0, 0, 0, 0, 0, 0, 0, 0, 0, 0, 0]), 'labels': tensor([-100,    0,    0,    0,    0,    0,    0,    0,    2,    2,    0,    0,\n",
      "           0,    0,    2,    2,    2,    2,    2,    2,    2,    2,    2,    1,\n",
      "           1,    1,    1,    2,    0,    0,    0,    0,    0,    2,    2,    2,\n",
      "           2,    2,    2,    2,    1,    1,    1,    1,    1,    2,    2,    2,\n",
      "           2,    2,    0,    0,    0,    0,    0,    2,    2,    2,    2,    2,\n",
      "           2,    2,    1,    1,    1,    1,    1,    1,    1,    1,    1,    1,\n",
      "           1,    1,    2,    2,    2,    2, -100, -100, -100, -100, -100, -100,\n",
      "        -100, -100, -100, -100, -100, -100, -100, -100, -100, -100, -100, -100,\n",
      "        -100, -100, -100, -100, -100, -100, -100, -100, -100, -100, -100, -100,\n",
      "        -100, -100, -100, -100, -100, -100, -100, -100, -100, -100, -100, -100,\n",
      "        -100, -100, -100, -100, -100, -100, -100, -100, -100, -100, -100, -100,\n",
      "        -100, -100, -100, -100, -100, -100, -100, -100, -100, -100, -100, -100,\n",
      "        -100, -100, -100, -100, -100, -100, -100, -100, -100, -100, -100, -100,\n",
      "        -100, -100, -100, -100, -100, -100, -100, -100, -100, -100, -100, -100,\n",
      "        -100, -100, -100, -100, -100, -100, -100, -100, -100, -100, -100, -100,\n",
      "        -100, -100, -100, -100, -100, -100, -100, -100, -100, -100, -100, -100,\n",
      "        -100, -100, -100, -100, -100, -100, -100, -100, -100, -100, -100, -100,\n",
      "        -100, -100, -100, -100, -100, -100, -100, -100, -100, -100, -100, -100,\n",
      "        -100, -100, -100, -100, -100, -100, -100, -100, -100, -100, -100, -100,\n",
      "        -100, -100, -100, -100, -100, -100, -100, -100, -100, -100, -100, -100,\n",
      "        -100, -100, -100, -100, -100, -100, -100, -100, -100, -100, -100, -100,\n",
      "        -100, -100, -100, -100, -100, -100, -100, -100, -100, -100, -100, -100,\n",
      "        -100, -100, -100, -100, -100, -100, -100, -100, -100, -100, -100, -100,\n",
      "        -100, -100, -100, -100, -100, -100, -100, -100, -100, -100, -100, -100,\n",
      "        -100, -100, -100, -100, -100, -100, -100, -100, -100, -100, -100, -100,\n",
      "        -100, -100, -100, -100, -100, -100, -100, -100, -100, -100, -100, -100])}\n",
      "[2025-06-28 20:05:38] [OmniGenome 0.2.7alpha]  {'input_ids': tensor([0, 6, 4, 5, 6, 9, 5, 4, 9, 4, 4, 5, 4, 9, 9, 4, 6, 4, 4, 6, 9, 6, 4, 4,\n",
      "        9, 5, 6, 9, 6, 9, 5, 4, 6, 6, 4, 9, 4, 6, 4, 4, 4, 9, 4, 9, 4, 6, 5, 4,\n",
      "        6, 5, 4, 5, 9, 4, 4, 6, 5, 4, 4, 9, 4, 9, 5, 9, 9, 9, 9, 6, 9, 6, 9, 4,\n",
      "        9, 6, 6, 5, 6, 9, 5, 9, 9, 9, 9, 9, 2, 1, 1, 1, 1, 1, 1, 1, 1, 1, 1, 1,\n",
      "        1, 1, 1, 1, 1, 1, 1, 1, 1, 1, 1, 1, 1, 1, 1, 1, 1, 1, 1, 1, 1, 1, 1, 1,\n",
      "        1, 1, 1, 1, 1, 1, 1, 1, 1, 1, 1, 1, 1, 1, 1, 1, 1, 1, 1, 1, 1, 1, 1, 1,\n",
      "        1, 1, 1, 1, 1, 1, 1, 1, 1, 1, 1, 1, 1, 1, 1, 1, 1, 1, 1, 1, 1, 1, 1, 1,\n",
      "        1, 1, 1, 1, 1, 1, 1, 1, 1, 1, 1, 1, 1, 1, 1, 1, 1, 1, 1, 1, 1, 1, 1, 1,\n",
      "        1, 1, 1, 1, 1, 1, 1, 1, 1, 1, 1, 1, 1, 1, 1, 1, 1, 1, 1, 1, 1, 1, 1, 1,\n",
      "        1, 1, 1, 1, 1, 1, 1, 1, 1, 1, 1, 1, 1, 1, 1, 1, 1, 1, 1, 1, 1, 1, 1, 1,\n",
      "        1, 1, 1, 1, 1, 1, 1, 1, 1, 1, 1, 1, 1, 1, 1, 1, 1, 1, 1, 1, 1, 1, 1, 1,\n",
      "        1, 1, 1, 1, 1, 1, 1, 1, 1, 1, 1, 1, 1, 1, 1, 1, 1, 1, 1, 1, 1, 1, 1, 1,\n",
      "        1, 1, 1, 1, 1, 1, 1, 1, 1, 1, 1, 1, 1, 1, 1, 1, 1, 1, 1, 1, 1, 1, 1, 1]), 'attention_mask': tensor([1, 1, 1, 1, 1, 1, 1, 1, 1, 1, 1, 1, 1, 1, 1, 1, 1, 1, 1, 1, 1, 1, 1, 1,\n",
      "        1, 1, 1, 1, 1, 1, 1, 1, 1, 1, 1, 1, 1, 1, 1, 1, 1, 1, 1, 1, 1, 1, 1, 1,\n",
      "        1, 1, 1, 1, 1, 1, 1, 1, 1, 1, 1, 1, 1, 1, 1, 1, 1, 1, 1, 1, 1, 1, 1, 1,\n",
      "        1, 1, 1, 1, 1, 1, 1, 1, 1, 1, 1, 1, 1, 0, 0, 0, 0, 0, 0, 0, 0, 0, 0, 0,\n",
      "        0, 0, 0, 0, 0, 0, 0, 0, 0, 0, 0, 0, 0, 0, 0, 0, 0, 0, 0, 0, 0, 0, 0, 0,\n",
      "        0, 0, 0, 0, 0, 0, 0, 0, 0, 0, 0, 0, 0, 0, 0, 0, 0, 0, 0, 0, 0, 0, 0, 0,\n",
      "        0, 0, 0, 0, 0, 0, 0, 0, 0, 0, 0, 0, 0, 0, 0, 0, 0, 0, 0, 0, 0, 0, 0, 0,\n",
      "        0, 0, 0, 0, 0, 0, 0, 0, 0, 0, 0, 0, 0, 0, 0, 0, 0, 0, 0, 0, 0, 0, 0, 0,\n",
      "        0, 0, 0, 0, 0, 0, 0, 0, 0, 0, 0, 0, 0, 0, 0, 0, 0, 0, 0, 0, 0, 0, 0, 0,\n",
      "        0, 0, 0, 0, 0, 0, 0, 0, 0, 0, 0, 0, 0, 0, 0, 0, 0, 0, 0, 0, 0, 0, 0, 0,\n",
      "        0, 0, 0, 0, 0, 0, 0, 0, 0, 0, 0, 0, 0, 0, 0, 0, 0, 0, 0, 0, 0, 0, 0, 0,\n",
      "        0, 0, 0, 0, 0, 0, 0, 0, 0, 0, 0, 0, 0, 0, 0, 0, 0, 0, 0, 0, 0, 0, 0, 0,\n",
      "        0, 0, 0, 0, 0, 0, 0, 0, 0, 0, 0, 0, 0, 0, 0, 0, 0, 0, 0, 0, 0, 0, 0, 0]), 'labels': tensor([-100,    0,    0,    0,    0,    0,    0,    0,    0,    0,    2,    0,\n",
      "           0,    2,    2,    0,    0,    0,    2,    2,    0,    2,    2,    2,\n",
      "           2,    2,    0,    0,    0,    0,    2,    2,    2,    2,    0,    0,\n",
      "           0,    2,    2,    2,    2,    1,    1,    1,    2,    2,    2,    2,\n",
      "           1,    1,    1,    1,    2,    2,    2,    1,    2,    2,    2,    1,\n",
      "           2,    2,    1,    1,    2,    2,    1,    1,    1,    1,    2,    2,\n",
      "           1,    1,    1,    1,    1,    1,    1,    2,    2,    2,    2,    2,\n",
      "        -100, -100, -100, -100, -100, -100, -100, -100, -100, -100, -100, -100,\n",
      "        -100, -100, -100, -100, -100, -100, -100, -100, -100, -100, -100, -100,\n",
      "        -100, -100, -100, -100, -100, -100, -100, -100, -100, -100, -100, -100,\n",
      "        -100, -100, -100, -100, -100, -100, -100, -100, -100, -100, -100, -100,\n",
      "        -100, -100, -100, -100, -100, -100, -100, -100, -100, -100, -100, -100,\n",
      "        -100, -100, -100, -100, -100, -100, -100, -100, -100, -100, -100, -100,\n",
      "        -100, -100, -100, -100, -100, -100, -100, -100, -100, -100, -100, -100,\n",
      "        -100, -100, -100, -100, -100, -100, -100, -100, -100, -100, -100, -100,\n",
      "        -100, -100, -100, -100, -100, -100, -100, -100, -100, -100, -100, -100,\n",
      "        -100, -100, -100, -100, -100, -100, -100, -100, -100, -100, -100, -100,\n",
      "        -100, -100, -100, -100, -100, -100, -100, -100, -100, -100, -100, -100,\n",
      "        -100, -100, -100, -100, -100, -100, -100, -100, -100, -100, -100, -100,\n",
      "        -100, -100, -100, -100, -100, -100, -100, -100, -100, -100, -100, -100,\n",
      "        -100, -100, -100, -100, -100, -100, -100, -100, -100, -100, -100, -100,\n",
      "        -100, -100, -100, -100, -100, -100, -100, -100, -100, -100, -100, -100,\n",
      "        -100, -100, -100, -100, -100, -100, -100, -100, -100, -100, -100, -100,\n",
      "        -100, -100, -100, -100, -100, -100, -100, -100, -100, -100, -100, -100,\n",
      "        -100, -100, -100, -100, -100, -100, -100, -100, -100, -100, -100, -100,\n",
      "        -100, -100, -100, -100, -100, -100, -100, -100, -100, -100, -100, -100])}\n"
     ]
    }
   ],
   "execution_count": 4
  },
  {
   "cell_type": "markdown",
   "id": "5dc517064fcbaa9a",
   "metadata": {
    "collapsed": false,
    "jupyter": {
     "outputs_hidden": false
    }
   },
   "source": [
    "### Step 5: Define the Metrics\n",
    "We have implemented a diverse set of genomic metrics in OmniGenome, please refer to the documentation for more details.\n",
    "Users can also define their own metrics by inheriting the `OmniGenomeMetric` class. \n",
    "The `compute_metrics` can be a metric function list and each metric function should return a dictionary of metrics."
   ]
  },
  {
   "cell_type": "code",
   "id": "8d610fa6cf0ab60d",
   "metadata": {
    "collapsed": false,
    "jupyter": {
     "outputs_hidden": false
    },
    "ExecuteTime": {
     "end_time": "2025-06-28T19:05:39.043936Z",
     "start_time": "2025-06-28T19:05:39.040402Z"
    }
   },
   "source": [
    "compute_metrics = [\n",
    "    ClassificationMetric(ignore_y=-100).accuracy_score,\n",
    "    ClassificationMetric(ignore_y=-100, average=\"macro\").f1_score,\n",
    "    ClassificationMetric(ignore_y=-100).matthews_corrcoef,\n",
    "]\n"
   ],
   "outputs": [],
   "execution_count": 5
  },
  {
   "cell_type": "markdown",
   "id": "cc7248c83eb073c4",
   "metadata": {
    "collapsed": false,
    "jupyter": {
     "outputs_hidden": false
    }
   },
   "source": [
    "## Step 6: Define and Initialize the Trainer"
   ]
  },
  {
   "cell_type": "code",
   "id": "f1e8e0a121f14c82",
   "metadata": {
    "collapsed": false,
    "jupyter": {
     "outputs_hidden": false
    },
    "ExecuteTime": {
     "end_time": "2025-06-28T19:08:26.430650Z",
     "start_time": "2025-06-28T19:05:39.084389Z"
    }
   },
   "source": [
    "# Initialize the MetricVisualizer for logging the metrics\n",
    "mv = MetricVisualizer(name=\"OmniGenome-186M-SSP\")\n",
    "\n",
    "for seed in seeds:\n",
    "    optimizer = torch.optim.AdamW(\n",
    "        ssp_model.parameters(), lr=learning_rate, weight_decay=weight_decay\n",
    "    )\n",
    "    trainer = Trainer(\n",
    "        model=ssp_model,\n",
    "        train_loader=train_loader,\n",
    "        eval_loader=valid_loader,\n",
    "        test_loader=test_loader,\n",
    "        batch_size=batch_size,\n",
    "        epochs=epochs,\n",
    "        optimizer=optimizer,\n",
    "        compute_metrics=compute_metrics,\n",
    "        seeds=seed,\n",
    "        device=autocuda.auto_cuda(),\n",
    "    )\n",
    "\n",
    "    metrics = trainer.train()\n",
    "    test_metrics = metrics[\"test\"][-1]\n",
    "    mv.log(model_name_or_path.split(\"/\")[-1], \"F1\", test_metrics[\"f1_score\"])\n",
    "    mv.log(\n",
    "        model_name_or_path.split(\"/\")[-1],\n",
    "        \"Accuracy\",\n",
    "        test_metrics[\"accuracy_score\"],\n",
    "    )\n",
    "    print(metrics)\n",
    "    mv.summary()"
   ],
   "outputs": [
    {
     "name": "stderr",
     "output_type": "stream",
     "text": [
      "D:\\OneDrive - University of Exeter\\AIProjects\\OmniGenomeBench\\omnigenome\\src\\trainer\\trainer.py:140: FutureWarning: `torch.cuda.amp.GradScaler(args...)` is deprecated. Please use `torch.amp.GradScaler('cuda', args...)` instead.\n",
      "  self.scaler = GradScaler()\n",
      "Evaluating:   0%|          | 0/10 [00:00<?, ?it/s]D:\\OneDrive - University of Exeter\\AIProjects\\OmniGenomeBench\\omnigenome\\src\\abc\\abstract_model.py:169: UserWarning: Warning: Ignored keys in inputs: {'x'}\n",
      "  warnings.warn(f\"Warning: Ignored keys in inputs: {ignored_keys}\")\n",
      "Evaluating: 100%|██████████| 10/10 [00:00<00:00, 10.47it/s]\n"
     ]
    },
    {
     "name": "stdout",
     "output_type": "stream",
     "text": [
      "[2025-06-28 20:05:40] [OmniGenome 0.2.7alpha]  {'accuracy_score': 0.3578107183580388, 'f1_score': 0.3218228611028748, 'matthews_corrcoef': 0.10040023403620794}\n"
     ]
    },
    {
     "name": "stderr",
     "output_type": "stream",
     "text": [
      "Epoch 1/10 Loss:   0%|          | 0/76 [00:00<?, ?it/s]D:\\OneDrive - University of Exeter\\AIProjects\\OmniGenomeBench\\omnigenome\\src\\abc\\abstract_model.py:169: UserWarning: Warning: Ignored keys in inputs: {'x'}\n",
      "  warnings.warn(f\"Warning: Ignored keys in inputs: {ignored_keys}\")\n",
      "Epoch 1/10 Loss: 0.7967: 100%|██████████| 76/76 [00:14<00:00,  5.13it/s]\n",
      "Evaluating: 100%|██████████| 10/10 [00:00<00:00, 16.15it/s]\n"
     ]
    },
    {
     "name": "stdout",
     "output_type": "stream",
     "text": [
      "[2025-06-28 20:05:56] [OmniGenome 0.2.7alpha]  {'accuracy_score': 0.8904218928164196, 'f1_score': 0.8925439071092223, 'matthews_corrcoef': 0.8338644169965754}\n"
     ]
    },
    {
     "name": "stderr",
     "output_type": "stream",
     "text": [
      "Epoch 2/10 Loss:   0%|          | 0/76 [00:00<?, ?it/s]D:\\OneDrive - University of Exeter\\AIProjects\\OmniGenomeBench\\omnigenome\\src\\abc\\abstract_model.py:169: UserWarning: Warning: Ignored keys in inputs: {'x'}\n",
      "  warnings.warn(f\"Warning: Ignored keys in inputs: {ignored_keys}\")\n",
      "Epoch 2/10 Loss: 0.6531: 100%|██████████| 76/76 [00:14<00:00,  5.25it/s]\n",
      "Evaluating: 100%|██████████| 10/10 [00:00<00:00, 16.30it/s]\n"
     ]
    },
    {
     "name": "stdout",
     "output_type": "stream",
     "text": [
      "[2025-06-28 20:06:12] [OmniGenome 0.2.7alpha]  {'accuracy_score': 0.9094640820980616, 'f1_score': 0.9114027245736306, 'matthews_corrcoef': 0.8612940824481876}\n"
     ]
    },
    {
     "name": "stderr",
     "output_type": "stream",
     "text": [
      "Epoch 3/10 Loss:   0%|          | 0/76 [00:00<?, ?it/s]D:\\OneDrive - University of Exeter\\AIProjects\\OmniGenomeBench\\omnigenome\\src\\abc\\abstract_model.py:169: UserWarning: Warning: Ignored keys in inputs: {'x'}\n",
      "  warnings.warn(f\"Warning: Ignored keys in inputs: {ignored_keys}\")\n",
      "Epoch 3/10 Loss: 0.6295: 100%|██████████| 76/76 [00:14<00:00,  5.26it/s]\n",
      "Evaluating: 100%|██████████| 10/10 [00:00<00:00, 15.96it/s]\n"
     ]
    },
    {
     "name": "stdout",
     "output_type": "stream",
     "text": [
      "[2025-06-28 20:06:28] [OmniGenome 0.2.7alpha]  {'accuracy_score': 0.9173318129988598, 'f1_score': 0.9191446314511356, 'matthews_corrcoef': 0.8744695320581789}\n"
     ]
    },
    {
     "name": "stderr",
     "output_type": "stream",
     "text": [
      "Epoch 4/10 Loss:   0%|          | 0/76 [00:00<?, ?it/s]D:\\OneDrive - University of Exeter\\AIProjects\\OmniGenomeBench\\omnigenome\\src\\abc\\abstract_model.py:169: UserWarning: Warning: Ignored keys in inputs: {'x'}\n",
      "  warnings.warn(f\"Warning: Ignored keys in inputs: {ignored_keys}\")\n",
      "Epoch 4/10 Loss: 0.6152: 100%|██████████| 76/76 [00:14<00:00,  5.22it/s]\n",
      "Evaluating: 100%|██████████| 10/10 [00:00<00:00, 16.07it/s]\n"
     ]
    },
    {
     "name": "stdout",
     "output_type": "stream",
     "text": [
      "[2025-06-28 20:06:44] [OmniGenome 0.2.7alpha]  {'accuracy_score': 0.9135689851767389, 'f1_score': 0.915234317802641, 'matthews_corrcoef': 0.8672732258383623}\n"
     ]
    },
    {
     "name": "stderr",
     "output_type": "stream",
     "text": [
      "Epoch 5/10 Loss:   0%|          | 0/76 [00:00<?, ?it/s]D:\\OneDrive - University of Exeter\\AIProjects\\OmniGenomeBench\\omnigenome\\src\\abc\\abstract_model.py:169: UserWarning: Warning: Ignored keys in inputs: {'x'}\n",
      "  warnings.warn(f\"Warning: Ignored keys in inputs: {ignored_keys}\")\n",
      "Epoch 5/10 Loss: 0.6093: 100%|██████████| 76/76 [00:14<00:00,  5.13it/s]\n",
      "Evaluating: 100%|██████████| 10/10 [00:00<00:00, 16.26it/s]\n"
     ]
    },
    {
     "name": "stdout",
     "output_type": "stream",
     "text": [
      "[2025-06-28 20:06:59] [OmniGenome 0.2.7alpha]  {'accuracy_score': 0.9182440136830102, 'f1_score': 0.9200067747454056, 'matthews_corrcoef': 0.8746403283470774}\n"
     ]
    },
    {
     "name": "stderr",
     "output_type": "stream",
     "text": [
      "Epoch 6/10 Loss:   0%|          | 0/76 [00:00<?, ?it/s]D:\\OneDrive - University of Exeter\\AIProjects\\OmniGenomeBench\\omnigenome\\src\\abc\\abstract_model.py:169: UserWarning: Warning: Ignored keys in inputs: {'x'}\n",
      "  warnings.warn(f\"Warning: Ignored keys in inputs: {ignored_keys}\")\n",
      "Epoch 6/10 Loss: 0.6048: 100%|██████████| 76/76 [00:14<00:00,  5.21it/s]\n",
      "Evaluating: 100%|██████████| 10/10 [00:00<00:00, 16.30it/s]\n"
     ]
    },
    {
     "name": "stdout",
     "output_type": "stream",
     "text": [
      "[2025-06-28 20:07:15] [OmniGenome 0.2.7alpha]  {'accuracy_score': 0.9185860889395667, 'f1_score': 0.9204274150890576, 'matthews_corrcoef': 0.8746835983620637}\n"
     ]
    },
    {
     "name": "stderr",
     "output_type": "stream",
     "text": [
      "Epoch 7/10 Loss:   0%|          | 0/76 [00:00<?, ?it/s]D:\\OneDrive - University of Exeter\\AIProjects\\OmniGenomeBench\\omnigenome\\src\\abc\\abstract_model.py:169: UserWarning: Warning: Ignored keys in inputs: {'x'}\n",
      "  warnings.warn(f\"Warning: Ignored keys in inputs: {ignored_keys}\")\n",
      "Epoch 7/10 Loss: 0.5997: 100%|██████████| 76/76 [00:14<00:00,  5.11it/s]\n",
      "Evaluating: 100%|██████████| 10/10 [00:00<00:00, 15.17it/s]\n"
     ]
    },
    {
     "name": "stdout",
     "output_type": "stream",
     "text": [
      "[2025-06-28 20:07:31] [OmniGenome 0.2.7alpha]  {'accuracy_score': 0.9194982896237173, 'f1_score': 0.9212344815917984, 'matthews_corrcoef': 0.876250965751877}\n"
     ]
    },
    {
     "name": "stderr",
     "output_type": "stream",
     "text": [
      "Epoch 8/10 Loss:   0%|          | 0/76 [00:00<?, ?it/s]D:\\OneDrive - University of Exeter\\AIProjects\\OmniGenomeBench\\omnigenome\\src\\abc\\abstract_model.py:169: UserWarning: Warning: Ignored keys in inputs: {'x'}\n",
      "  warnings.warn(f\"Warning: Ignored keys in inputs: {ignored_keys}\")\n",
      "Epoch 8/10 Loss: 0.5961: 100%|██████████| 76/76 [00:15<00:00,  4.94it/s]\n",
      "Evaluating: 100%|██████████| 10/10 [00:00<00:00, 11.07it/s]\n"
     ]
    },
    {
     "name": "stdout",
     "output_type": "stream",
     "text": [
      "[2025-06-28 20:07:48] [OmniGenome 0.2.7alpha]  {'accuracy_score': 0.9183580387685291, 'f1_score': 0.9200158503734416, 'matthews_corrcoef': 0.8745008291830931}\n"
     ]
    },
    {
     "name": "stderr",
     "output_type": "stream",
     "text": [
      "Epoch 9/10 Loss:   0%|          | 0/76 [00:00<?, ?it/s]D:\\OneDrive - University of Exeter\\AIProjects\\OmniGenomeBench\\omnigenome\\src\\abc\\abstract_model.py:169: UserWarning: Warning: Ignored keys in inputs: {'x'}\n",
      "  warnings.warn(f\"Warning: Ignored keys in inputs: {ignored_keys}\")\n",
      "Epoch 9/10 Loss: 0.5955: 100%|██████████| 76/76 [00:15<00:00,  4.99it/s]\n",
      "Evaluating: 100%|██████████| 10/10 [00:00<00:00, 15.66it/s]\n"
     ]
    },
    {
     "name": "stdout",
     "output_type": "stream",
     "text": [
      "[2025-06-28 20:08:04] [OmniGenome 0.2.7alpha]  {'accuracy_score': 0.9201824401368301, 'f1_score': 0.9216819609151036, 'matthews_corrcoef': 0.87857191405743}\n"
     ]
    },
    {
     "name": "stderr",
     "output_type": "stream",
     "text": [
      "Epoch 10/10 Loss:   0%|          | 0/76 [00:00<?, ?it/s]D:\\OneDrive - University of Exeter\\AIProjects\\OmniGenomeBench\\omnigenome\\src\\abc\\abstract_model.py:169: UserWarning: Warning: Ignored keys in inputs: {'x'}\n",
      "  warnings.warn(f\"Warning: Ignored keys in inputs: {ignored_keys}\")\n",
      "Epoch 10/10 Loss: 0.5933: 100%|██████████| 76/76 [00:14<00:00,  5.07it/s]\n",
      "Evaluating: 100%|██████████| 10/10 [00:00<00:00, 15.82it/s]\n"
     ]
    },
    {
     "name": "stdout",
     "output_type": "stream",
     "text": [
      "[2025-06-28 20:08:25] [OmniGenome 0.2.7alpha]  {'accuracy_score': 0.9190421892816419, 'f1_score': 0.9207599078115599, 'matthews_corrcoef': 0.8753664046414782}\n"
     ]
    },
    {
     "name": "stderr",
     "output_type": "stream",
     "text": [
      "Testing:   0%|          | 0/11 [00:00<?, ?it/s]D:\\OneDrive - University of Exeter\\AIProjects\\OmniGenomeBench\\omnigenome\\src\\abc\\abstract_model.py:169: UserWarning: Warning: Ignored keys in inputs: {'x'}\n",
      "  warnings.warn(f\"Warning: Ignored keys in inputs: {ignored_keys}\")\n",
      "Testing: 100%|██████████| 11/11 [00:00<00:00, 16.13it/s]\n"
     ]
    },
    {
     "name": "stdout",
     "output_type": "stream",
     "text": [
      "[2025-06-28 20:08:26] [OmniGenome 0.2.7alpha]  {'accuracy_score': 0.9093139567802209, 'f1_score': 0.9111728275698807, 'matthews_corrcoef': 0.862345618945574}\n",
      "{'valid': [{'accuracy_score': 0.3578107183580388, 'f1_score': 0.3218228611028748, 'matthews_corrcoef': 0.10040023403620794}, {'accuracy_score': 0.8904218928164196, 'f1_score': 0.8925439071092223, 'matthews_corrcoef': 0.8338644169965754}, {'accuracy_score': 0.9094640820980616, 'f1_score': 0.9114027245736306, 'matthews_corrcoef': 0.8612940824481876}, {'accuracy_score': 0.9173318129988598, 'f1_score': 0.9191446314511356, 'matthews_corrcoef': 0.8744695320581789}, {'accuracy_score': 0.9135689851767389, 'f1_score': 0.915234317802641, 'matthews_corrcoef': 0.8672732258383623}, {'accuracy_score': 0.9182440136830102, 'f1_score': 0.9200067747454056, 'matthews_corrcoef': 0.8746403283470774}, {'accuracy_score': 0.9185860889395667, 'f1_score': 0.9204274150890576, 'matthews_corrcoef': 0.8746835983620637}, {'accuracy_score': 0.9194982896237173, 'f1_score': 0.9212344815917984, 'matthews_corrcoef': 0.876250965751877}, {'accuracy_score': 0.9183580387685291, 'f1_score': 0.9200158503734416, 'matthews_corrcoef': 0.8745008291830931}, {'accuracy_score': 0.9201824401368301, 'f1_score': 0.9216819609151036, 'matthews_corrcoef': 0.87857191405743}, {'accuracy_score': 0.9190421892816419, 'f1_score': 0.9207599078115599, 'matthews_corrcoef': 0.8753664046414782}], 'best_valid': {'accuracy_score': 0.9201824401368301, 'f1_score': 0.9216819609151036, 'matthews_corrcoef': 0.87857191405743}, 'test': [{'accuracy_score': 0.9093139567802209, 'f1_score': 0.9111728275698807, 'matthews_corrcoef': 0.862345618945574}]}\n",
      "\n",
      "----------------------------------------------- Raw Metric Records -----------------------------------------------\n",
      "╒══════════╤═════════════════╤══════════════════════╤═══════════╤══════════╤═══════╤═══════╤══════════╤══════════╕\n",
      "│ Metric   │ Trial           │ Values               │  Average  │  Median  │  Std  │  IQR  │   Min    │   Max    │\n",
      "╞══════════╪═════════════════╪══════════════════════╪═══════════╪══════════╪═══════╪═══════╪══════════╪══════════╡\n",
      "│ Accuracy │ OmniGenome-186M │ [0.9093139567802209] │ 0.909314  │ 0.909314 │   0   │   0   │ 0.909314 │ 0.909314 │\n",
      "├──────────┼─────────────────┼──────────────────────┼───────────┼──────────┼───────┼───────┼──────────┼──────────┤\n",
      "│ F1       │ OmniGenome-186M │ [0.9111728275698807] │ 0.911173  │ 0.911173 │   0   │   0   │ 0.911173 │ 0.911173 │\n",
      "╘══════════╧═════════════════╧══════════════════════╧═══════════╧══════════╧═══════╧═══════╧══════════╧══════════╛\n",
      "-------------------------------- https://github.com/yangheng95/metric_visualizer --------------------------------\n",
      "\n"
     ]
    }
   ],
   "execution_count": 6
  },
  {
   "cell_type": "markdown",
   "id": "76741d8e43edad54",
   "metadata": {
    "collapsed": false,
    "jupyter": {
     "outputs_hidden": false
    }
   },
   "source": [
    "### Step 7. Experimental Results Visualization\n",
    "The experimental results are visualized in the following plots. The plots show the F1 score and accuracy of the model on the test set for each run. The average F1 score and accuracy are also shown."
   ]
  },
  {
   "cell_type": "markdown",
   "id": "4884016302230133",
   "metadata": {
    "collapsed": false,
    "jupyter": {
     "outputs_hidden": false
    }
   },
   "source": [
    "### Step 8. Model Checkpoint for Sharing\n",
    "The model checkpoint can be saved and shared with others for further use. The model checkpoint can be loaded using the following code:"
   ]
  },
  {
   "cell_type": "markdown",
   "id": "d7fd53ee0cb763d3",
   "metadata": {
    "collapsed": false,
    "jupyter": {
     "outputs_hidden": false
    }
   },
   "source": [
    "**Regular checkpointing and resuming are good practices to save the model at different stages of training.**"
   ]
  },
  {
   "cell_type": "code",
   "id": "76f033919c69bde4",
   "metadata": {
    "collapsed": false,
    "jupyter": {
     "outputs_hidden": false
    },
    "ExecuteTime": {
     "end_time": "2025-06-28T19:08:30.782864Z",
     "start_time": "2025-06-28T19:08:26.448333Z"
    }
   },
   "source": [
    "path_to_save = \"OmniGenome-186M-SSP\"\n",
    "ssp_model.save(path_to_save, overwrite=True)\n",
    "\n",
    "# Load the model checkpoint\n",
    "ssp_model = ssp_model.load(path_to_save)\n",
    "results = ssp_model.inference(\"CAGUGCCGAGGCCACGCGGAGAACGAUCGAGGGUACAGCACUA\")\n",
    "print(results[\"predictions\"])\n",
    "print(\"logits:\", results[\"logits\"])"
   ],
   "outputs": [
    {
     "name": "stdout",
     "output_type": "stream",
     "text": [
      "[2025-06-28 20:08:30] [OmniGenome 0.2.7alpha]  The model is saved to OmniGenome-186M-SSP.\n",
      "[2025-06-28 20:08:30] [OmniGenome 0.2.7alpha]  Warning: The value of the key torch_dtype in the loaded model is torch.float16, but the current value is float16.\n",
      "[2025-06-28 20:08:30] [OmniGenome 0.2.7alpha]  Warning: The value of the key _name_or_path in the loaded model is OmniGenome-186M-SSP, but the current value is anonymous8/OmniGenome-186M.\n",
      "[2025-06-28 20:08:30] [OmniGenome 0.2.7alpha]  Warning: The value of the key _commit_hash in the loaded model is None, but the current value is c48fefaf3431af322aff7fbe9a64387ee189a0de.\n",
      "[2025-06-28 20:08:30] [OmniGenome 0.2.7alpha]  Warning: The value of the key transformers_version in the loaded model is 4.52.4, but the current value is 4.41.0.dev0.\n",
      "[2025-06-28 20:08:30] [OmniGenome 0.2.7alpha]  Restored loss function: CrossEntropyLoss from torch.nn.modules.loss\n"
     ]
    },
    {
     "name": "stderr",
     "output_type": "stream",
     "text": [
      "C:\\Users\\hengu\\miniconda3\\envs\\py312\\Lib\\site-packages\\transformers\\tokenization_utils_base.py:2714: UserWarning: `max_length` is ignored when `padding`=`True` and there is no truncation strategy. To pad to max length, use `padding='max_length'`.\n",
      "  warnings.warn(\n",
      "D:\\OneDrive - University of Exeter\\AIProjects\\OmniGenomeBench\\omnigenome\\src\\abc\\abstract_model.py:169: UserWarning: Warning: Ignored keys in inputs: {'x'}\n",
      "  warnings.warn(f\"Warning: Ignored keys in inputs: {ignored_keys}\")\n"
     ]
    },
    {
     "name": "stdout",
     "output_type": "stream",
     "text": [
      "['.', '(', '(', '(', '(', '(', '.', '.', '.', '.', '(', '(', '(', '.', '(', '.', '(', '(', '.', '.', '.', '.', '.', ')', ')', '.', '.', ')', ')', '.', ')', ')', ')', ')', '.', '.', '.', ')', ')', ')', ')', ')', '.']\n",
      "logits: tensor([[4.7709e-03, 4.3566e-03, 9.9087e-01],\n",
      "        [2.1867e-04, 1.1555e-04, 9.9967e-01],\n",
      "        [9.9962e-01, 1.6863e-04, 2.1297e-04],\n",
      "        [9.9976e-01, 1.5027e-04, 9.1302e-05],\n",
      "        [9.9975e-01, 1.4544e-04, 1.0465e-04],\n",
      "        [9.9981e-01, 8.7038e-05, 1.0526e-04],\n",
      "        [9.9975e-01, 1.3791e-04, 1.1497e-04],\n",
      "        [2.5388e-04, 1.0671e-04, 9.9964e-01],\n",
      "        [1.8994e-04, 7.0000e-05, 9.9974e-01],\n",
      "        [1.4346e-04, 8.8145e-05, 9.9977e-01],\n",
      "        [2.8687e-04, 5.7227e-05, 9.9966e-01],\n",
      "        [9.9942e-01, 3.1429e-04, 2.6404e-04],\n",
      "        [9.9962e-01, 2.2909e-04, 1.5214e-04],\n",
      "        [9.9951e-01, 3.2460e-04, 1.6885e-04],\n",
      "        [2.1617e-04, 7.6360e-05, 9.9971e-01],\n",
      "        [9.9946e-01, 3.4337e-04, 1.9187e-04],\n",
      "        [1.1877e-01, 1.3877e-03, 8.7984e-01],\n",
      "        [9.8186e-01, 6.0195e-04, 1.7535e-02],\n",
      "        [9.9638e-01, 7.0518e-04, 2.9144e-03],\n",
      "        [1.0272e-02, 5.0728e-04, 9.8922e-01],\n",
      "        [1.3113e-04, 5.8507e-05, 9.9981e-01],\n",
      "        [1.4119e-04, 7.2750e-05, 9.9979e-01],\n",
      "        [8.8472e-05, 5.8572e-05, 9.9985e-01],\n",
      "        [7.8382e-05, 9.3744e-05, 9.9983e-01],\n",
      "        [4.5930e-03, 7.7045e-01, 2.2496e-01],\n",
      "        [3.7330e-03, 8.9225e-01, 1.0402e-01],\n",
      "        [9.9083e-05, 1.3888e-04, 9.9976e-01],\n",
      "        [2.5550e-04, 9.3158e-04, 9.9881e-01],\n",
      "        [3.3314e-04, 9.9946e-01, 2.1012e-04],\n",
      "        [3.3717e-04, 9.9946e-01, 2.0365e-04],\n",
      "        [9.0577e-05, 1.5098e-04, 9.9976e-01],\n",
      "        [5.3255e-04, 9.9418e-01, 5.2883e-03],\n",
      "        [1.9229e-04, 9.9962e-01, 1.9104e-04],\n",
      "        [2.8736e-04, 9.9750e-01, 2.2147e-03],\n",
      "        [2.8280e-04, 9.9907e-01, 6.4824e-04],\n",
      "        [7.1953e-05, 9.1165e-05, 9.9984e-01],\n",
      "        [7.9150e-05, 3.0679e-04, 9.9961e-01],\n",
      "        [8.5708e-05, 1.3396e-04, 9.9978e-01],\n",
      "        [1.6924e-04, 9.9971e-01, 1.1827e-04],\n",
      "        [1.5765e-04, 9.9975e-01, 8.9528e-05],\n",
      "        [1.8784e-04, 9.9972e-01, 9.3509e-05],\n",
      "        [1.6760e-04, 9.9974e-01, 9.5832e-05],\n",
      "        [2.0660e-04, 9.9965e-01, 1.4565e-04],\n",
      "        [1.3873e-04, 1.6515e-04, 9.9970e-01],\n",
      "        [1.5106e-03, 1.9995e-03, 9.9649e-01]], device='cuda:0')\n"
     ]
    }
   ],
   "execution_count": 7
  },
  {
   "cell_type": "markdown",
   "id": "a21a8bad49fc08b9",
   "metadata": {
    "collapsed": false,
    "jupyter": {
     "outputs_hidden": false
    }
   },
   "source": [
    "\n",
    "# What if someone doesn't know how to initialize the model?"
   ]
  },
  {
   "cell_type": "code",
   "id": "49781e637e711ddf",
   "metadata": {
    "collapsed": false,
    "jupyter": {
     "outputs_hidden": false
    },
    "ExecuteTime": {
     "end_time": "2025-06-28T19:08:38.134926Z",
     "start_time": "2025-06-28T19:08:30.813950Z"
    }
   },
   "source": [
    "# We can load the model checkpoint using the ModelHub\n",
    "from omnigenome import ModelHub\n",
    "\n",
    "ssp_model = ModelHub.load(\"OmniGenome-186M-SSP\")\n",
    "results = ssp_model.inference(\"CAGUGCCGAGGCCACGCGGAGAACGAUCGAGGGUACAGCACUA\")\n",
    "print(results[\"predictions\"])\n",
    "print(\"logits:\", results[\"logits\"])"
   ],
   "outputs": [
    {
     "name": "stdout",
     "output_type": "stream",
     "text": [
      "[2025-06-28 20:08:37] [OmniGenome 0.2.7alpha]  Model Name: OmniGenomeModelForTokenClassification\n",
      "Model Metadata: {'library_name': 'OmniGenome', 'omnigenome_version': '0.2.7alpha', 'torch_version': '2.7.0+cu128+cu12.8+git134179474539648ba7dee1317959529fbd0e7f89', 'transformers_version': '4.52.4', 'model_cls': 'OmniGenomeModelForTokenClassification', 'tokenizer_cls': 'OmniSingleNucleotideTokenizer', 'model_name': 'OmniGenomeModelForTokenClassification'}\n",
      "Base Model Name: OmniGenome-186M-SSP\n",
      "Model Type: omnigenome\n",
      "Model Architecture: ['OmniGenomeModel']\n",
      "Model Parameters: 185.886801 M\n",
      "Model Config: OmniGenomeConfig {\n",
      "  \"OmniGenomefold_config\": null,\n",
      "  \"architectures\": [\n",
      "    \"OmniGenomeModel\"\n",
      "  ],\n",
      "  \"attention_probs_dropout_prob\": 0.0,\n",
      "  \"auto_map\": {\n",
      "    \"AutoConfig\": \"anonymous8/OmniGenome-186M--configuration_omnigenome.OmniGenomeConfig\",\n",
      "    \"AutoModel\": \"anonymous8/OmniGenome-186M--modeling_omnigenome.OmniGenomeModel\",\n",
      "    \"AutoModelForMaskedLM\": \"anonymous8/OmniGenome-186M--modeling_omnigenome.OmniGenomeForMaskedLM\",\n",
      "    \"AutoModelForSeq2SeqLM\": \"anonymous8/OmniGenome-186M--modeling_omnigenome.OmniGenomeForSeq2SeqLM\",\n",
      "    \"AutoModelForSequenceClassification\": \"anonymous8/OmniGenome-186M--modeling_omnigenome.OmniGenomeForSequenceClassification\",\n",
      "    \"AutoModelForTokenClassification\": \"anonymous8/OmniGenome-186M--modeling_omnigenome.OmniGenomeForTokenClassification\"\n",
      "  },\n",
      "  \"classifier_dropout\": null,\n",
      "  \"emb_layer_norm_before\": false,\n",
      "  \"hidden_act\": \"gelu\",\n",
      "  \"hidden_dropout_prob\": 0,\n",
      "  \"hidden_size\": 720,\n",
      "  \"id2label\": {\n",
      "    \"0\": \"(\",\n",
      "    \"1\": \")\",\n",
      "    \"2\": \".\"\n",
      "  },\n",
      "  \"initializer_range\": 0.02,\n",
      "  \"intermediate_size\": 2560,\n",
      "  \"is_folding_model\": false,\n",
      "  \"label2id\": {\n",
      "    \"(\": 0,\n",
      "    \")\": 1,\n",
      "    \".\": 2\n",
      "  },\n",
      "  \"layer_norm_eps\": 1e-05,\n",
      "  \"mask_token_id\": 23,\n",
      "  \"max_position_embeddings\": 1026,\n",
      "  \"metadata\": {\n",
      "    \"library_name\": \"OmniGenome\",\n",
      "    \"loss_fn_class\": \"CrossEntropyLoss\",\n",
      "    \"loss_fn_module\": \"torch.nn.modules.loss\",\n",
      "    \"model_cls\": \"OmniGenomeModelForTokenClassification\",\n",
      "    \"model_name\": \"OmniGenomeModelForTokenClassification\",\n",
      "    \"omnigenome_version\": \"0.2.7alpha\",\n",
      "    \"tokenizer_cls\": \"OmniSingleNucleotideTokenizer\",\n",
      "    \"torch_version\": \"2.7.0+cu128+cu12.8+git134179474539648ba7dee1317959529fbd0e7f89\",\n",
      "    \"transformers_version\": \"4.52.4\"\n",
      "  },\n",
      "  \"model_type\": \"omnigenome\",\n",
      "  \"num_attention_heads\": 30,\n",
      "  \"num_generation\": 50,\n",
      "  \"num_hidden_layers\": 32,\n",
      "  \"num_population\": 100,\n",
      "  \"pad_token_id\": 1,\n",
      "  \"position_embedding_type\": \"rotary\",\n",
      "  \"token_dropout\": true,\n",
      "  \"torch_dtype\": \"float16\",\n",
      "  \"transformers_version\": \"4.52.4\",\n",
      "  \"use_cache\": true,\n",
      "  \"vocab_list\": null,\n",
      "  \"vocab_size\": 24\n",
      "}\n",
      "\n",
      "\n",
      "[2025-06-28 20:08:37] [OmniGenome 0.2.7alpha]  No device is specified, the model will be loaded to the default device: cuda:0\n",
      "['.', '(', '(', '(', '(', '(', '.', '.', '.', '.', '(', '(', '(', '.', '(', '.', '(', '(', '.', '.', '.', '.', '.', ')', ')', '.', '.', ')', ')', '.', ')', ')', ')', ')', '.', '.', '.', ')', ')', ')', ')', ')', '.']\n",
      "logits: tensor([[4.7760e-03, 4.3640e-03, 9.9072e-01],\n",
      "        [2.1946e-04, 1.1611e-04, 9.9951e-01],\n",
      "        [9.9951e-01, 1.6832e-04, 2.1279e-04],\n",
      "        [1.0000e+00, 1.5032e-04, 9.1314e-05],\n",
      "        [9.9951e-01, 1.4508e-04, 1.0431e-04],\n",
      "        [1.0000e+00, 8.6963e-05, 1.0514e-04],\n",
      "        [9.9951e-01, 1.3733e-04, 1.1456e-04],\n",
      "        [2.5511e-04, 1.0717e-04, 9.9951e-01],\n",
      "        [1.9073e-04, 7.0155e-05, 9.9951e-01],\n",
      "        [1.4365e-04, 8.7976e-05, 1.0000e+00],\n",
      "        [2.8706e-04, 5.7280e-05, 9.9951e-01],\n",
      "        [9.9951e-01, 3.1185e-04, 2.6321e-04],\n",
      "        [9.9951e-01, 2.2781e-04, 1.5175e-04],\n",
      "        [9.9951e-01, 3.2187e-04, 1.6725e-04],\n",
      "        [2.1613e-04, 7.6175e-05, 9.9951e-01],\n",
      "        [9.9951e-01, 3.4451e-04, 1.9062e-04],\n",
      "        [1.2744e-01, 1.4439e-03, 8.7109e-01],\n",
      "        [9.8438e-01, 5.7697e-04, 1.5274e-02],\n",
      "        [9.9658e-01, 6.9284e-04, 2.6474e-03],\n",
      "        [9.8114e-03, 4.9353e-04, 9.8975e-01],\n",
      "        [1.3077e-04, 5.8651e-05, 1.0000e+00],\n",
      "        [1.4031e-04, 7.2539e-05, 1.0000e+00],\n",
      "        [8.8692e-05, 5.8651e-05, 1.0000e+00],\n",
      "        [7.8440e-05, 9.3877e-05, 1.0000e+00],\n",
      "        [4.4937e-03, 7.9346e-01, 2.0227e-01],\n",
      "        [3.5839e-03, 9.0479e-01, 9.1797e-02],\n",
      "        [9.9361e-05, 1.3840e-04, 1.0000e+00],\n",
      "        [2.5296e-04, 9.1982e-04, 9.9902e-01],\n",
      "        [3.3522e-04, 9.9951e-01, 2.1064e-04],\n",
      "        [3.3665e-04, 9.9951e-01, 2.0218e-04],\n",
      "        [9.0957e-05, 1.5116e-04, 1.0000e+00],\n",
      "        [5.2309e-04, 9.9463e-01, 4.8752e-03],\n",
      "        [1.9336e-04, 9.9951e-01, 1.8954e-04],\n",
      "        [2.8729e-04, 9.9756e-01, 2.2144e-03],\n",
      "        [2.8396e-04, 9.9902e-01, 6.6280e-04],\n",
      "        [7.2241e-05, 9.1314e-05, 1.0000e+00],\n",
      "        [7.9334e-05, 3.0708e-04, 9.9951e-01],\n",
      "        [8.5950e-05, 1.3387e-04, 1.0000e+00],\n",
      "        [1.6999e-04, 9.9951e-01, 1.1843e-04],\n",
      "        [1.5807e-04, 9.9951e-01, 8.9586e-05],\n",
      "        [1.8811e-04, 9.9951e-01, 9.3520e-05],\n",
      "        [1.6832e-04, 9.9951e-01, 9.5904e-05],\n",
      "        [2.0742e-04, 9.9951e-01, 1.4627e-04],\n",
      "        [1.3876e-04, 1.6534e-04, 9.9951e-01],\n",
      "        [1.5154e-03, 2.0084e-03, 9.9658e-01]], device='cuda:0',\n",
      "       dtype=torch.float16)\n"
     ]
    }
   ],
   "execution_count": 8
  },
  {
   "cell_type": "markdown",
   "id": "455cc1d9fe4fa2b6",
   "metadata": {
    "collapsed": false,
    "jupyter": {
     "outputs_hidden": false
    }
   },
   "source": [
    "## Step 8. Model Inference"
   ]
  },
  {
   "cell_type": "code",
   "id": "235bbab39e1f23a4",
   "metadata": {
    "collapsed": false,
    "jupyter": {
     "outputs_hidden": false
    },
    "ExecuteTime": {
     "end_time": "2025-06-28T19:08:38.320300Z",
     "start_time": "2025-06-28T19:08:38.181350Z"
    }
   },
   "source": [
    "examples = [\n",
    "    \"GCUGGGAUGUUGGCUUAGAAGCAGCCAUCAUUUAAAGAGUGCGUAACAGCUCACCAGC\",\n",
    "    \"AUCUGUACUAGUUAGCUAACUAGAUCUGUAUCUGGCGGUUCCGUGGAAGAACUGACGUGUUCAUAUUCCCGACCGCAGCCCUGGGAGACGUCUCAGAGGC\",\n",
    "]\n",
    "\n",
    "results = ssp_model.inference(examples)\n",
    "structures = [\"\".join(prediction) for prediction in results[\"predictions\"]]\n",
    "print(results)\n",
    "print(structures)"
   ],
   "outputs": [
    {
     "name": "stdout",
     "output_type": "stream",
     "text": [
      "{'predictions': [['(', '(', '(', '(', '(', '(', '(', '(', '(', '.', '(', '(', '(', '(', '(', '.', '.', '.', '.', '.', '.', '.', ')', ')', ')', ')', ')', '.', ')', ')', ')', ')', '.', '.', '.', '.', '(', '(', '(', '(', '.', '.', '.', '.', '.', '.', '.', '.', ')', ')', ')', ')', '.', ')', ')', ')', ')', ')'], ['.', '.', '.', '.', '.', '.', '.', '(', '(', '(', '(', '(', '.', '.', '.', '.', '.', '.', ')', ')', ')', ')', ')', '.', '.', '.', '.', '.', '.', '.', '.', '.', '.', '.', '(', '(', '(', '(', '(', '.', '.', '.', '.', '.', '(', '(', '(', '.', '(', '(', '(', '(', '.', '.', '.', '.', '.', '.', ')', ')', ')', ')', '.', '.', '.', ')', ')', ')', ')', '.', ')', ')', ')', ')', ')', ')', '.', '(', '(', '(', '(', '(', '(', '(', '(', '(', '.', '.', '.', '.', ')', ')', ')', ')', ')', ')', '.', ')', ')', ')']], 'logits': tensor([[[7.2050e-04, 6.2609e-04, 9.9854e-01],\n",
      "         [9.9951e-01, 2.0778e-04, 1.2434e-04],\n",
      "         [9.9951e-01, 1.7190e-04, 1.3137e-04],\n",
      "         [9.9951e-01, 2.0146e-04, 1.5080e-04],\n",
      "         [9.9951e-01, 1.7297e-04, 1.1390e-04],\n",
      "         [9.9951e-01, 1.7667e-04, 1.0288e-04],\n",
      "         [9.8193e-01, 4.6563e-04, 1.7365e-02],\n",
      "         [9.9951e-01, 1.0699e-04, 2.7800e-04],\n",
      "         [9.9951e-01, 1.2577e-04, 1.7846e-04],\n",
      "         [1.0000e+00, 7.7486e-05, 1.3232e-04],\n",
      "         [3.7265e-04, 1.0306e-04, 9.9951e-01],\n",
      "         [9.9951e-01, 9.6858e-05, 2.4629e-04],\n",
      "         [1.0000e+00, 7.6890e-05, 1.4770e-04],\n",
      "         [9.9951e-01, 8.9228e-05, 2.1696e-04],\n",
      "         [9.9854e-01, 1.1808e-04, 1.1864e-03],\n",
      "         [7.1924e-01, 2.0351e-03, 2.7881e-01],\n",
      "         [1.1301e-04, 7.3373e-05, 1.0000e+00],\n",
      "         [7.9691e-05, 6.2525e-05, 1.0000e+00],\n",
      "         [7.3850e-05, 5.3167e-05, 1.0000e+00],\n",
      "         [6.4373e-05, 6.6578e-05, 1.0000e+00],\n",
      "         [6.8247e-05, 9.0957e-05, 1.0000e+00],\n",
      "         [7.0870e-05, 1.2910e-04, 1.0000e+00],\n",
      "         [8.2195e-05, 2.2078e-04, 9.9951e-01],\n",
      "         [4.4632e-04, 9.9854e-01, 1.0900e-03],\n",
      "         [1.4973e-04, 9.9951e-01, 1.9145e-04],\n",
      "         [1.3053e-04, 9.9951e-01, 1.9562e-04],\n",
      "         [1.1235e-04, 9.9951e-01, 1.3363e-04],\n",
      "         [1.6248e-04, 9.9951e-01, 1.8561e-04],\n",
      "         [1.2094e-04, 3.5071e-04, 9.9951e-01],\n",
      "         [1.3316e-04, 9.9951e-01, 1.6868e-04],\n",
      "         [2.0027e-04, 9.9951e-01, 2.5916e-04],\n",
      "         [1.1957e-04, 9.9951e-01, 2.6727e-04],\n",
      "         [3.7408e-04, 9.8779e-01, 1.1658e-02],\n",
      "         [7.7546e-05, 8.9586e-05, 1.0000e+00],\n",
      "         [9.0599e-05, 7.9334e-05, 1.0000e+00],\n",
      "         [1.1104e-04, 6.6936e-05, 1.0000e+00],\n",
      "         [1.4794e-04, 7.4983e-05, 1.0000e+00],\n",
      "         [9.9951e-01, 1.0592e-04, 1.4997e-04],\n",
      "         [1.0000e+00, 1.2219e-04, 1.1820e-04],\n",
      "         [1.0000e+00, 1.3793e-04, 9.7394e-05],\n",
      "         [9.9951e-01, 2.7966e-04, 2.5249e-04],\n",
      "         [1.9407e-04, 1.2624e-04, 9.9951e-01],\n",
      "         [1.0270e-04, 1.1367e-04, 1.0000e+00],\n",
      "         [8.7142e-05, 8.0466e-05, 1.0000e+00],\n",
      "         [5.1916e-05, 7.3135e-05, 1.0000e+00],\n",
      "         [5.3167e-05, 7.6473e-05, 1.0000e+00],\n",
      "         [5.2154e-05, 7.6592e-05, 1.0000e+00],\n",
      "         [6.6280e-05, 1.6034e-04, 1.0000e+00],\n",
      "         [6.5386e-05, 3.2830e-04, 9.9951e-01],\n",
      "         [1.0949e-04, 1.0000e+00, 1.3292e-04],\n",
      "         [9.0122e-05, 1.0000e+00, 7.7367e-05],\n",
      "         [9.7990e-05, 9.9951e-01, 1.4830e-04],\n",
      "         [1.0997e-04, 9.9951e-01, 1.4365e-04],\n",
      "         [6.8009e-05, 2.4486e-04, 9.9951e-01],\n",
      "         [2.7752e-04, 9.9951e-01, 1.8084e-04],\n",
      "         [2.7204e-04, 9.9951e-01, 1.1700e-04],\n",
      "         [3.8815e-04, 9.9951e-01, 1.3161e-04],\n",
      "         [2.8133e-04, 9.9951e-01, 1.3292e-04],\n",
      "         [5.0735e-04, 9.9951e-01, 2.2423e-04],\n",
      "         [1.8299e-04, 3.6740e-04, 9.9951e-01],\n",
      "         [1.1545e-04, 1.2934e-04, 9.9951e-01],\n",
      "         [1.4913e-04, 1.2958e-04, 9.9951e-01],\n",
      "         [1.4448e-04, 1.2243e-04, 9.9951e-01],\n",
      "         [1.9407e-04, 1.3208e-04, 9.9951e-01],\n",
      "         [1.2708e-04, 9.2924e-05, 1.0000e+00],\n",
      "         [1.7607e-04, 1.0699e-04, 9.9951e-01],\n",
      "         [2.0146e-04, 7.8738e-05, 9.9951e-01],\n",
      "         [2.1863e-04, 8.2672e-05, 9.9951e-01],\n",
      "         [2.0826e-04, 8.6129e-05, 9.9951e-01],\n",
      "         [2.5463e-04, 1.3161e-04, 9.9951e-01],\n",
      "         [1.1915e-04, 7.9215e-05, 1.0000e+00],\n",
      "         [8.2016e-05, 7.1526e-05, 1.0000e+00],\n",
      "         [6.9499e-05, 6.1214e-05, 1.0000e+00],\n",
      "         [9.2208e-05, 6.8784e-05, 1.0000e+00],\n",
      "         [7.8440e-05, 6.8426e-05, 1.0000e+00],\n",
      "         [7.3850e-05, 8.1897e-05, 1.0000e+00],\n",
      "         [7.7367e-05, 8.6963e-05, 1.0000e+00],\n",
      "         [6.9082e-05, 1.0109e-04, 1.0000e+00],\n",
      "         [7.2420e-05, 1.0473e-04, 1.0000e+00],\n",
      "         [8.0884e-05, 1.9836e-04, 9.9951e-01],\n",
      "         [2.4962e-04, 1.1848e-02, 9.8779e-01],\n",
      "         [1.7464e-04, 6.2485e-03, 9.9365e-01],\n",
      "         [1.0085e-04, 4.2677e-04, 9.9951e-01],\n",
      "         [8.9169e-05, 4.3726e-04, 9.9951e-01],\n",
      "         [8.2493e-05, 2.4390e-04, 9.9951e-01],\n",
      "         [8.6308e-05, 2.3592e-04, 9.9951e-01],\n",
      "         [8.6784e-05, 1.4675e-04, 1.0000e+00],\n",
      "         [8.5652e-05, 1.7738e-04, 9.9951e-01],\n",
      "         [1.1015e-04, 2.3460e-04, 9.9951e-01],\n",
      "         [8.0764e-05, 1.0371e-04, 1.0000e+00],\n",
      "         [8.6308e-05, 1.0252e-04, 1.0000e+00],\n",
      "         [1.0169e-04, 9.7811e-05, 1.0000e+00],\n",
      "         [2.0027e-04, 1.3947e-04, 9.9951e-01],\n",
      "         [2.6894e-04, 1.0973e-04, 9.9951e-01],\n",
      "         [4.1151e-04, 2.0540e-04, 9.9951e-01],\n",
      "         [1.7667e-04, 1.3626e-04, 9.9951e-01],\n",
      "         [4.3821e-04, 1.8549e-04, 9.9951e-01],\n",
      "         [1.2958e-04, 1.0592e-04, 1.0000e+00],\n",
      "         [1.1343e-04, 8.4460e-05, 1.0000e+00],\n",
      "         [1.0532e-04, 9.4593e-05, 1.0000e+00],\n",
      "         [7.8142e-05, 8.9049e-05, 1.0000e+00],\n",
      "         [6.9618e-05, 7.6294e-05, 1.0000e+00]],\n",
      "\n",
      "        [[1.3552e-03, 1.1272e-03, 9.9756e-01],\n",
      "         [2.3508e-04, 1.2803e-04, 9.9951e-01],\n",
      "         [2.3782e-04, 8.1837e-05, 9.9951e-01],\n",
      "         [2.9016e-04, 8.8513e-05, 9.9951e-01],\n",
      "         [6.3419e-04, 1.9825e-04, 9.9902e-01],\n",
      "         [7.8678e-04, 9.9063e-05, 9.9902e-01],\n",
      "         [3.8433e-04, 1.1563e-04, 9.9951e-01],\n",
      "         [1.7738e-04, 5.1260e-05, 1.0000e+00],\n",
      "         [9.9951e-01, 1.2779e-04, 2.2912e-04],\n",
      "         [9.9951e-01, 1.2076e-04, 1.4424e-04],\n",
      "         [9.9951e-01, 8.6129e-05, 1.8418e-04],\n",
      "         [9.9951e-01, 1.2076e-04, 1.3769e-04],\n",
      "         [9.9902e-01, 2.0444e-04, 7.4768e-04],\n",
      "         [7.9155e-04, 1.3995e-04, 9.9902e-01],\n",
      "         [8.9228e-05, 5.8830e-05, 1.0000e+00],\n",
      "         [8.2374e-05, 6.6280e-05, 1.0000e+00],\n",
      "         [8.3506e-05, 8.6844e-05, 1.0000e+00],\n",
      "         [6.6817e-05, 9.7632e-05, 1.0000e+00],\n",
      "         [1.0389e-04, 2.1231e-04, 9.9951e-01],\n",
      "         [4.6587e-04, 9.9463e-01, 4.9667e-03],\n",
      "         [1.8227e-04, 9.9951e-01, 1.5867e-04],\n",
      "         [2.7323e-04, 9.9951e-01, 1.8620e-04],\n",
      "         [2.5702e-04, 9.9951e-01, 2.0897e-04],\n",
      "         [2.2209e-04, 9.9951e-01, 2.1112e-04],\n",
      "         [2.3913e-04, 3.1137e-04, 9.9951e-01],\n",
      "         [1.4913e-04, 1.5652e-04, 9.9951e-01],\n",
      "         [9.9719e-05, 9.9897e-05, 1.0000e+00],\n",
      "         [3.3140e-04, 2.5463e-04, 9.9951e-01],\n",
      "         [1.6379e-04, 1.1569e-04, 9.9951e-01],\n",
      "         [2.4533e-04, 3.0637e-04, 9.9951e-01],\n",
      "         [9.2566e-05, 1.0169e-04, 1.0000e+00],\n",
      "         [1.7202e-04, 9.6858e-05, 9.9951e-01],\n",
      "         [1.8167e-04, 1.4114e-04, 9.9951e-01],\n",
      "         [7.9346e-04, 4.7421e-04, 9.9854e-01],\n",
      "         [1.3513e-01, 1.4563e-03, 8.6328e-01],\n",
      "         [9.9902e-01, 3.0160e-04, 4.7541e-04],\n",
      "         [9.9951e-01, 1.7917e-04, 2.3687e-04],\n",
      "         [9.9902e-01, 2.2542e-04, 8.6927e-04],\n",
      "         [9.9951e-01, 1.0675e-04, 3.2187e-04],\n",
      "         [7.0801e-01, 8.4019e-04, 2.9126e-01],\n",
      "         [1.8382e-04, 8.8871e-05, 9.9951e-01],\n",
      "         [1.3185e-04, 7.3671e-05, 1.0000e+00],\n",
      "         [3.2830e-04, 1.1015e-04, 9.9951e-01],\n",
      "         [1.2805e-01, 5.5790e-04, 8.7158e-01],\n",
      "         [1.2267e-04, 6.9082e-05, 1.0000e+00],\n",
      "         [9.9902e-01, 1.9050e-04, 1.0233e-03],\n",
      "         [9.9951e-01, 2.2507e-04, 4.5633e-04],\n",
      "         [9.9902e-01, 1.3840e-04, 6.4850e-04],\n",
      "         [3.0351e-04, 9.2924e-05, 9.9951e-01],\n",
      "         [9.9854e-01, 2.7871e-04, 1.1635e-03],\n",
      "         [9.9951e-01, 1.5533e-04, 2.6989e-04],\n",
      "         [9.9951e-01, 1.6832e-04, 3.0184e-04],\n",
      "         [9.9902e-01, 2.1517e-04, 5.3358e-04],\n",
      "         [2.0981e-04, 2.4581e-04, 9.9951e-01],\n",
      "         [6.7353e-05, 6.3121e-05, 1.0000e+00],\n",
      "         [7.4983e-05, 6.9916e-05, 1.0000e+00],\n",
      "         [6.7592e-05, 8.2672e-05, 1.0000e+00],\n",
      "         [8.0287e-05, 6.5804e-05, 1.0000e+00],\n",
      "         [8.5294e-05, 8.3029e-05, 1.0000e+00],\n",
      "         [1.6022e-04, 9.9951e-01, 2.8300e-04],\n",
      "         [1.1390e-04, 9.9951e-01, 1.8597e-04],\n",
      "         [1.3864e-04, 9.9951e-01, 2.7108e-04],\n",
      "         [1.6987e-04, 9.9951e-01, 3.5548e-04],\n",
      "         [7.4267e-05, 9.4414e-05, 1.0000e+00],\n",
      "         [6.2525e-05, 1.1128e-04, 1.0000e+00],\n",
      "         [5.6386e-05, 1.0252e-04, 1.0000e+00],\n",
      "         [1.3542e-04, 9.9951e-01, 3.7837e-04],\n",
      "         [1.3947e-04, 9.9951e-01, 2.6464e-04],\n",
      "         [1.0592e-04, 9.9951e-01, 2.4915e-04],\n",
      "         [2.3711e-04, 9.9463e-01, 5.0163e-03],\n",
      "         [1.5783e-04, 1.8148e-03, 9.9805e-01],\n",
      "         [4.0889e-04, 9.1650e-01, 8.2886e-02],\n",
      "         [7.4244e-04, 7.6758e-01, 2.3157e-01],\n",
      "         [2.0432e-04, 9.9854e-01, 1.2541e-03],\n",
      "         [1.3840e-04, 9.9951e-01, 4.2462e-04],\n",
      "         [1.1683e-04, 9.9951e-01, 1.9252e-04],\n",
      "         [1.2827e-04, 9.9951e-01, 4.3654e-04],\n",
      "         [4.7278e-04, 2.1915e-03, 9.9756e-01],\n",
      "         [9.8779e-01, 3.8643e-03, 8.1711e-03],\n",
      "         [9.9951e-01, 2.4295e-04, 1.9944e-04],\n",
      "         [9.9902e-01, 2.9635e-04, 4.4942e-04],\n",
      "         [9.9951e-01, 2.5296e-04, 3.5071e-04],\n",
      "         [9.9951e-01, 2.1029e-04, 2.3222e-04],\n",
      "         [9.9951e-01, 1.4091e-04, 2.0981e-04],\n",
      "         [9.9951e-01, 2.6107e-04, 3.7026e-04],\n",
      "         [9.9951e-01, 2.8110e-04, 4.3988e-04],\n",
      "         [8.6914e-01, 1.4486e-03, 1.2952e-01],\n",
      "         [4.9651e-05, 5.0366e-05, 1.0000e+00],\n",
      "         [4.4525e-05, 6.1095e-05, 1.0000e+00],\n",
      "         [5.2750e-05, 9.2804e-05, 1.0000e+00],\n",
      "         [6.4373e-05, 1.4174e-04, 1.0000e+00],\n",
      "         [8.3065e-04, 9.9072e-01, 8.3160e-03],\n",
      "         [1.6427e-04, 9.9902e-01, 7.8058e-04],\n",
      "         [2.2984e-04, 9.9902e-01, 7.9536e-04],\n",
      "         [2.1398e-04, 9.9951e-01, 2.9540e-04],\n",
      "         [1.3876e-04, 9.9951e-01, 2.2519e-04],\n",
      "         [1.2648e-04, 9.9951e-01, 4.0054e-04],\n",
      "         [8.7976e-05, 2.2209e-04, 9.9951e-01],\n",
      "         [1.2553e-04, 9.9951e-01, 3.2187e-04],\n",
      "         [1.0365e-04, 9.9951e-01, 4.7278e-04],\n",
      "         [2.4819e-04, 9.9365e-01, 6.0501e-03],\n",
      "         [1.4963e-03, 2.0466e-03, 9.9658e-01]]], device='cuda:0',\n",
      "       dtype=torch.float16), 'confidence': tensor([[0.9985, 0.9995, 0.9995, 0.9995, 0.9995, 0.9995, 0.9819, 0.9995, 0.9995,\n",
      "         1.0000, 0.9995, 0.9995, 1.0000, 0.9995, 0.9985, 0.7192, 1.0000, 1.0000,\n",
      "         1.0000, 1.0000, 1.0000, 1.0000, 0.9995, 0.9985, 0.9995, 0.9995, 0.9995,\n",
      "         0.9995, 0.9995, 0.9995, 0.9995, 0.9995, 0.9878, 1.0000, 1.0000, 1.0000,\n",
      "         1.0000, 0.9995, 1.0000, 1.0000, 0.9995, 0.9995, 1.0000, 1.0000, 1.0000,\n",
      "         1.0000, 1.0000, 1.0000, 0.9995, 1.0000, 1.0000, 0.9995, 0.9995, 0.9995,\n",
      "         0.9995, 0.9995, 0.9995, 0.9995, 0.9995, 0.9995, 0.9995, 0.9995, 0.9995,\n",
      "         0.9995, 1.0000, 0.9995, 0.9995, 0.9995, 0.9995, 0.9995, 1.0000, 1.0000,\n",
      "         1.0000, 1.0000, 1.0000, 1.0000, 1.0000, 1.0000, 1.0000, 0.9995, 0.9878,\n",
      "         0.9937, 0.9995, 0.9995, 0.9995, 0.9995, 1.0000, 0.9995, 0.9995, 1.0000,\n",
      "         1.0000, 1.0000, 0.9995, 0.9995, 0.9995, 0.9995, 0.9995, 1.0000, 1.0000,\n",
      "         1.0000, 1.0000, 1.0000],\n",
      "        [0.9976, 0.9995, 0.9995, 0.9995, 0.9990, 0.9990, 0.9995, 1.0000, 0.9995,\n",
      "         0.9995, 0.9995, 0.9995, 0.9990, 0.9990, 1.0000, 1.0000, 1.0000, 1.0000,\n",
      "         0.9995, 0.9946, 0.9995, 0.9995, 0.9995, 0.9995, 0.9995, 0.9995, 1.0000,\n",
      "         0.9995, 0.9995, 0.9995, 1.0000, 0.9995, 0.9995, 0.9985, 0.8633, 0.9990,\n",
      "         0.9995, 0.9990, 0.9995, 0.7080, 0.9995, 1.0000, 0.9995, 0.8716, 1.0000,\n",
      "         0.9990, 0.9995, 0.9990, 0.9995, 0.9985, 0.9995, 0.9995, 0.9990, 0.9995,\n",
      "         1.0000, 1.0000, 1.0000, 1.0000, 1.0000, 0.9995, 0.9995, 0.9995, 0.9995,\n",
      "         1.0000, 1.0000, 1.0000, 0.9995, 0.9995, 0.9995, 0.9946, 0.9980, 0.9165,\n",
      "         0.7676, 0.9985, 0.9995, 0.9995, 0.9995, 0.9976, 0.9878, 0.9995, 0.9990,\n",
      "         0.9995, 0.9995, 0.9995, 0.9995, 0.9995, 0.8691, 1.0000, 1.0000, 1.0000,\n",
      "         1.0000, 0.9907, 0.9990, 0.9990, 0.9995, 0.9995, 0.9995, 0.9995, 0.9995,\n",
      "         0.9995, 0.9937, 0.9966]], device='cuda:0', dtype=torch.float16), 'last_hidden_state': tensor([[[ 0.6689, -0.5483,  0.3108,  ...,  0.8071, -0.3650,  0.0226],\n",
      "         [-0.6982,  0.8867,  0.3069,  ..., -0.8486,  0.9038, -0.6987],\n",
      "         [-0.8203,  0.7905,  0.4119,  ..., -0.8950,  0.8843, -0.6899],\n",
      "         ...,\n",
      "         [ 0.9131, -0.8188,  0.1064,  ...,  0.9307, -0.3279, -0.2106],\n",
      "         [ 0.9106, -0.8003,  0.1746,  ...,  0.9258, -0.1818, -0.3037],\n",
      "         [ 0.8896, -0.8228,  0.1613,  ...,  0.9019, -0.0421, -0.1826]],\n",
      "\n",
      "        [[ 0.8608, -0.4929,  0.3716,  ...,  0.9341,  0.6797, -0.3665],\n",
      "         [ 0.9028, -0.6626, -0.0827,  ...,  0.7393, -0.5576,  0.2656],\n",
      "         [ 0.8867, -0.6016,  0.2493,  ...,  0.8018, -0.4480, -0.2247],\n",
      "         ...,\n",
      "         [ 0.4805, -0.6558,  0.3533,  ..., -0.8242, -0.6299,  0.8447],\n",
      "         [ 0.4150, -0.5459,  0.1716,  ..., -0.7412, -0.4922,  0.6235],\n",
      "         [ 0.5615, -0.7329,  0.0515,  ...,  0.8022, -0.1241, -0.0911]]],\n",
      "       device='cuda:0', dtype=torch.float16)}\n",
      "['(((((((((.(((((.......))))).))))....((((........)))).)))))', '.......(((((......)))))...........(((((.....(((.((((......))))...)))).)))))).(((((((((....)))))).)))']\n"
     ]
    }
   ],
   "execution_count": 9
  },
  {
   "cell_type": "markdown",
   "id": "eb99207fb37d0617",
   "metadata": {
    "collapsed": false,
    "jupyter": {
     "outputs_hidden": false
    }
   },
   "source": [
    "### Step 9. Pipeline Creation\n",
    "The OmniGenome package provides pipelines for genomic FM development. The pipeline can be used to train, fine-tune, and evaluate genomic FMs. The pipeline can be used with a single command to train a genomic FM on a dataset. The pipeline can also be used to fine-tune a pre-trained genomic FM on a new dataset. The pipeline can be used to evaluate the performance of a genomic FM on a dataset. The pipeline can be used to generate predictions using a genomic FM."
   ]
  },
  {
   "cell_type": "code",
   "id": "43fe9fdfb572e05c",
   "metadata": {
    "collapsed": false,
    "jupyter": {
     "outputs_hidden": false
    },
    "ExecuteTime": {
     "end_time": "2025-06-28T19:08:38.410202Z",
     "start_time": "2025-06-28T19:08:38.406991Z"
    }
   },
   "source": [
    "# from omnigenome import Pipeline, PipelineHub\n",
    "# \n",
    "# pipeline = Pipeline(\n",
    "#     name=\"OmniGenome-186M-SSP-Pipeline\",\n",
    "#     # model_name_or_path=\"OmniGenome-186M-SSP\",  # The model name or path can be specified\n",
    "#     # tokenizer=\"OmniGenome-186M-SSP\",  # The tokenizer can be specified\n",
    "#     model_name_or_path=ssp_model,\n",
    "#     tokenizer=ssp_model.tokenizer,\n",
    "#     datasets={\n",
    "#         \"train\": \"toy_datasets/train.json\",\n",
    "#         \"test\": \"toy_datasets/test.json\",\n",
    "#         \"valid\": \"toy_datasets/valid.json\",\n",
    "#     },\n",
    "#     trainer=trainer,\n",
    "#     device=ssp_model.model.device,\n",
    "# )"
   ],
   "outputs": [],
   "execution_count": 10
  },
  {
   "cell_type": "markdown",
   "id": "73f32771d90b4f70",
   "metadata": {
    "collapsed": false,
    "jupyter": {
     "outputs_hidden": false
    }
   },
   "source": [
    "### Using the Pipeline"
   ]
  },
  {
   "cell_type": "code",
   "id": "838493d3cb0ab98d",
   "metadata": {
    "collapsed": false,
    "jupyter": {
     "outputs_hidden": false
    },
    "ExecuteTime": {
     "end_time": "2025-06-28T19:08:38.487638Z",
     "start_time": "2025-06-28T19:08:38.484632Z"
    }
   },
   "source": [
    "# results = pipeline(examples[0])\n",
    "# print(results)\n",
    "# \n",
    "# pipeline.train()\n",
    "# \n",
    "# pipeline.save(\"OmniGenome-186M-SSP-Pipeline\", overwrite=True)\n",
    "# \n",
    "# pipeline = PipelineHub.load(\"OmniGenome-186M-SSP-Pipeline\")\n",
    "# results = pipeline(examples)\n",
    "# print(results)"
   ],
   "outputs": [],
   "execution_count": 11
  },
  {
   "cell_type": "markdown",
   "id": "3177cc9c4b0f1895",
   "metadata": {
    "collapsed": false,
    "jupyter": {
     "outputs_hidden": false
    }
   },
   "source": [
    "## Web Demo for RNA Secondary Structure Prediction"
   ]
  },
  {
   "cell_type": "code",
   "id": "434d3f3a68737ff1",
   "metadata": {
    "collapsed": false,
    "jupyter": {
     "outputs_hidden": false
    },
    "ExecuteTime": {
     "end_time": "2025-06-28T19:08:39.351137Z",
     "start_time": "2025-06-28T19:08:38.560578Z"
    }
   },
<<<<<<< HEAD
=======
   "outputs": [
    {
     "name": "stdout",
     "output_type": "stream",
     "text": [
      "['.ipynb_checkpoints', 'annotated_structure.svg', 'auto_benchmark.py', 'benchmark', 'benchmarks_info.json', 'best_pred_struct.svg', 'easy_rna_design.py', 'eterna100_contrafold.txt', 'eterna100_vienna2.txt', 'eterna100_vienna2.txt.result', 'EternaV2_RNA_design_demo.py', 'mlm_augmentation.py', 'OmniGenome-186M-SSP', 'OmniGenome-186M-SSP-Pipeline', 'OmniGenome_RNA_design.ipynb', 'predicted_structure.svg', 'readme.md', 'real_structure.svg', 'rna_modeling_using_omnigenome.py', 'secondary_structure_prediction_demo.ipynb', 'ssp_inference.py', 'test.py', 'toy_datasets', 'true_struct.svg', 'zero_shot_secondary_structure_prediction.py']\n",
      "[2024-08-14 22:47:21] (0.0.8alpha) Model Name: OmniGenomeModelForTokenClassification\n",
      "Model Metadata: {'library_name': 'OmniGenome', 'omnigenome_version': '0.0.8alpha', 'torch_version': '2.1.2+cu12.1+gita8e7c98cb95ff97bb30a728c6b2a1ce6bff946eb', 'transformers_version': '4.42.0.dev0', 'model_cls': 'OmniGenomeModelForTokenClassification', 'tokenizer_cls': 'OmniSingleNucleotideTokenizer', 'model_name': 'OmniGenomeModelForTokenClassification'}\n",
      "Base Model Name: OmniGenome-186M-SSP\n",
      "Model Type: mprna\n",
      "Model Architecture: ['OmniGenomeModel']\n",
      "Model Parameters: 185.886801 M\n",
      "Model Config: OmniGenomeConfig {\n",
      "  \"OmniGenomefold_config\": null,\n",
      "  \"_name_or_path\": \"OmniGenome-186M-SSP\",\n",
      "  \"architectures\": [\n",
      "    \"OmniGenomeModel\"\n",
      "  ],\n",
      "  \"attention_probs_dropout_prob\": 0.0,\n",
      "  \"auto_map\": {\n",
      "    \"AutoConfig\": \"anonymous8/OmniGenome-186M--configuration_omnigenome.OmniGenomeConfig\",\n",
      "    \"AutoModel\": \"anonymous8/OmniGenome-186M--modeling_omnigenome.OmniGenomeModel\",\n",
      "    \"AutoModelForMaskedLM\": \"anonymous8/OmniGenome-186M--modeling_omnigenome.OmniGenomeForMaskedLM\",\n",
      "    \"AutoModelForSeq2SeqLM\": \"anonymous8/OmniGenome-186M--modeling_omnigenome.OmniGenomeForSeq2SeqLM\",\n",
      "    \"AutoModelForSequenceClassification\": \"anonymous8/OmniGenome-186M--modeling_omnigenome.OmniGenomeForSequenceClassification\",\n",
      "    \"AutoModelForTokenClassification\": \"anonymous8/OmniGenome-186M--modeling_omnigenome.OmniGenomeForTokenClassification\"\n",
      "  },\n",
      "  \"classifier_dropout\": null,\n",
      "  \"emb_layer_norm_before\": false,\n",
      "  \"hidden_act\": \"gelu\",\n",
      "  \"hidden_dropout_prob\": 0,\n",
      "  \"hidden_size\": 720,\n",
      "  \"id2label\": {\n",
      "    \"0\": \"(\",\n",
      "    \"1\": \")\",\n",
      "    \"2\": \".\"\n",
      "  },\n",
      "  \"initializer_range\": 0.02,\n",
      "  \"intermediate_size\": 2560,\n",
      "  \"is_folding_model\": false,\n",
      "  \"label2id\": {\n",
      "    \"(\": 0,\n",
      "    \")\": 1,\n",
      "    \".\": 2\n",
      "  },\n",
      "  \"layer_norm_eps\": 1e-05,\n",
      "  \"mask_token_id\": 23,\n",
      "  \"max_position_embeddings\": 1026,\n",
      "  \"metadata\": {\n",
      "    \"library_name\": \"OmniGenome\",\n",
      "    \"model_cls\": \"OmniGenomeModelForTokenClassification\",\n",
      "    \"model_name\": \"OmniGenomeModelForTokenClassification\",\n",
      "    \"omnigenome_version\": \"0.0.8alpha\",\n",
      "    \"tokenizer_cls\": \"OmniSingleNucleotideTokenizer\",\n",
      "    \"torch_version\": \"2.1.2+cu12.1+gita8e7c98cb95ff97bb30a728c6b2a1ce6bff946eb\",\n",
      "    \"transformers_version\": \"4.43.2\"\n",
      "  },\n",
      "  \"model_type\": \"mprna\",\n",
      "  \"num_attention_heads\": 30,\n",
      "  \"num_generation\": 50,\n",
      "  \"num_hidden_layers\": 32,\n",
      "  \"num_population\": 100,\n",
      "  \"pad_token_id\": 1,\n",
      "  \"position_embedding_type\": \"rotary\",\n",
      "  \"token_dropout\": true,\n",
      "  \"torch_dtype\": \"float16\",\n",
      "  \"transformers_version\": \"4.42.0.dev0\",\n",
      "  \"use_cache\": true,\n",
      "  \"vocab_list\": null,\n",
      "  \"vocab_size\": 24\n",
      "}\n",
      "\n",
      "\n"
     ]
    },
    {
     "name": "stderr",
     "output_type": "stream",
     "text": [
      "C:\\Users\\chuan\\miniconda3\\lib\\site-packages\\gradio\\routes.py:1019: DeprecationWarning: \n",
      "        on_event is deprecated, use lifespan event handlers instead.\n",
      "\n",
      "        Read more about it in the\n",
      "        [FastAPI docs for Lifespan Events](https://fastapi.tiangolo.com/advanced/events/).\n",
      "        \n",
      "  @app.on_event(\"startup\")\n",
      "C:\\Users\\chuan\\miniconda3\\lib\\site-packages\\fastapi\\applications.py:4495: DeprecationWarning: \n",
      "        on_event is deprecated, use lifespan event handlers instead.\n",
      "\n",
      "        Read more about it in the\n",
      "        [FastAPI docs for Lifespan Events](https://fastapi.tiangolo.com/advanced/events/).\n",
      "        \n",
      "  return self.router.on_event(event_type)\n"
     ]
    },
    {
     "name": "stdout",
     "output_type": "stream",
     "text": [
      "Running on local URL:  http://127.0.0.1:7860\n",
      "IMPORTANT: You are using gradio version 4.25.0, however version 4.29.0 is available, please upgrade.\n",
      "--------\n",
      "Running on public URL: https://092094b2837cbc5f03.gradio.live\n",
      "\n",
      "This share link expires in 72 hours. For free permanent hosting and GPU upgrades, run `gradio deploy` from Terminal to deploy to Spaces (https://huggingface.co/spaces)\n"
     ]
    },
    {
     "ename": "ConnectTimeout",
     "evalue": "_ssl.c:1112: The handshake operation timed out",
     "output_type": "error",
     "traceback": [
      "\u001B[1;31m---------------------------------------------------------------------------\u001B[0m",
      "\u001B[1;31mConnectTimeout\u001B[0m                            Traceback (most recent call last)",
      "File \u001B[1;32m~\\miniconda3\\lib\\site-packages\\httpx\\_transports\\default.py:69\u001B[0m, in \u001B[0;36mmap_httpcore_exceptions\u001B[1;34m()\u001B[0m\n\u001B[0;32m     68\u001B[0m \u001B[38;5;28;01mtry\u001B[39;00m:\n\u001B[1;32m---> 69\u001B[0m     \u001B[38;5;28;01myield\u001B[39;00m\n\u001B[0;32m     70\u001B[0m \u001B[38;5;28;01mexcept\u001B[39;00m \u001B[38;5;167;01mException\u001B[39;00m \u001B[38;5;28;01mas\u001B[39;00m exc:\n",
      "File \u001B[1;32m~\\miniconda3\\lib\\site-packages\\httpx\\_transports\\default.py:233\u001B[0m, in \u001B[0;36mHTTPTransport.handle_request\u001B[1;34m(self, request)\u001B[0m\n\u001B[0;32m    232\u001B[0m \u001B[38;5;28;01mwith\u001B[39;00m map_httpcore_exceptions():\n\u001B[1;32m--> 233\u001B[0m     resp \u001B[38;5;241m=\u001B[39m \u001B[38;5;28;43mself\u001B[39;49m\u001B[38;5;241;43m.\u001B[39;49m\u001B[43m_pool\u001B[49m\u001B[38;5;241;43m.\u001B[39;49m\u001B[43mhandle_request\u001B[49m\u001B[43m(\u001B[49m\u001B[43mreq\u001B[49m\u001B[43m)\u001B[49m\n\u001B[0;32m    235\u001B[0m \u001B[38;5;28;01massert\u001B[39;00m \u001B[38;5;28misinstance\u001B[39m(resp\u001B[38;5;241m.\u001B[39mstream, typing\u001B[38;5;241m.\u001B[39mIterable)\n",
      "File \u001B[1;32m~\\miniconda3\\lib\\site-packages\\httpcore\\_sync\\connection_pool.py:216\u001B[0m, in \u001B[0;36mConnectionPool.handle_request\u001B[1;34m(self, request)\u001B[0m\n\u001B[0;32m    215\u001B[0m     \u001B[38;5;28mself\u001B[39m\u001B[38;5;241m.\u001B[39m_close_connections(closing)\n\u001B[1;32m--> 216\u001B[0m     \u001B[38;5;28;01mraise\u001B[39;00m exc \u001B[38;5;28;01mfrom\u001B[39;00m \u001B[38;5;28;01mNone\u001B[39;00m\n\u001B[0;32m    218\u001B[0m \u001B[38;5;66;03m# Return the response. Note that in this case we still have to manage\u001B[39;00m\n\u001B[0;32m    219\u001B[0m \u001B[38;5;66;03m# the point at which the response is closed.\u001B[39;00m\n",
      "File \u001B[1;32m~\\miniconda3\\lib\\site-packages\\httpcore\\_sync\\connection_pool.py:196\u001B[0m, in \u001B[0;36mConnectionPool.handle_request\u001B[1;34m(self, request)\u001B[0m\n\u001B[0;32m    194\u001B[0m \u001B[38;5;28;01mtry\u001B[39;00m:\n\u001B[0;32m    195\u001B[0m     \u001B[38;5;66;03m# Send the request on the assigned connection.\u001B[39;00m\n\u001B[1;32m--> 196\u001B[0m     response \u001B[38;5;241m=\u001B[39m \u001B[43mconnection\u001B[49m\u001B[38;5;241;43m.\u001B[39;49m\u001B[43mhandle_request\u001B[49m\u001B[43m(\u001B[49m\n\u001B[0;32m    197\u001B[0m \u001B[43m        \u001B[49m\u001B[43mpool_request\u001B[49m\u001B[38;5;241;43m.\u001B[39;49m\u001B[43mrequest\u001B[49m\n\u001B[0;32m    198\u001B[0m \u001B[43m    \u001B[49m\u001B[43m)\u001B[49m\n\u001B[0;32m    199\u001B[0m \u001B[38;5;28;01mexcept\u001B[39;00m ConnectionNotAvailable:\n\u001B[0;32m    200\u001B[0m     \u001B[38;5;66;03m# In some cases a connection may initially be available to\u001B[39;00m\n\u001B[0;32m    201\u001B[0m     \u001B[38;5;66;03m# handle a request, but then become unavailable.\u001B[39;00m\n\u001B[0;32m    202\u001B[0m     \u001B[38;5;66;03m#\u001B[39;00m\n\u001B[0;32m    203\u001B[0m     \u001B[38;5;66;03m# In this case we clear the connection and try again.\u001B[39;00m\n",
      "File \u001B[1;32m~\\miniconda3\\lib\\site-packages\\httpcore\\_sync\\connection.py:99\u001B[0m, in \u001B[0;36mHTTPConnection.handle_request\u001B[1;34m(self, request)\u001B[0m\n\u001B[0;32m     98\u001B[0m     \u001B[38;5;28mself\u001B[39m\u001B[38;5;241m.\u001B[39m_connect_failed \u001B[38;5;241m=\u001B[39m \u001B[38;5;28;01mTrue\u001B[39;00m\n\u001B[1;32m---> 99\u001B[0m     \u001B[38;5;28;01mraise\u001B[39;00m exc\n\u001B[0;32m    101\u001B[0m \u001B[38;5;28;01mreturn\u001B[39;00m \u001B[38;5;28mself\u001B[39m\u001B[38;5;241m.\u001B[39m_connection\u001B[38;5;241m.\u001B[39mhandle_request(request)\n",
      "File \u001B[1;32m~\\miniconda3\\lib\\site-packages\\httpcore\\_sync\\connection.py:76\u001B[0m, in \u001B[0;36mHTTPConnection.handle_request\u001B[1;34m(self, request)\u001B[0m\n\u001B[0;32m     75\u001B[0m \u001B[38;5;28;01mif\u001B[39;00m \u001B[38;5;28mself\u001B[39m\u001B[38;5;241m.\u001B[39m_connection \u001B[38;5;129;01mis\u001B[39;00m \u001B[38;5;28;01mNone\u001B[39;00m:\n\u001B[1;32m---> 76\u001B[0m     stream \u001B[38;5;241m=\u001B[39m \u001B[38;5;28;43mself\u001B[39;49m\u001B[38;5;241;43m.\u001B[39;49m\u001B[43m_connect\u001B[49m\u001B[43m(\u001B[49m\u001B[43mrequest\u001B[49m\u001B[43m)\u001B[49m\n\u001B[0;32m     78\u001B[0m     ssl_object \u001B[38;5;241m=\u001B[39m stream\u001B[38;5;241m.\u001B[39mget_extra_info(\u001B[38;5;124m\"\u001B[39m\u001B[38;5;124mssl_object\u001B[39m\u001B[38;5;124m\"\u001B[39m)\n",
      "File \u001B[1;32m~\\miniconda3\\lib\\site-packages\\httpcore\\_sync\\connection.py:154\u001B[0m, in \u001B[0;36mHTTPConnection._connect\u001B[1;34m(self, request)\u001B[0m\n\u001B[0;32m    153\u001B[0m \u001B[38;5;28;01mwith\u001B[39;00m Trace(\u001B[38;5;124m\"\u001B[39m\u001B[38;5;124mstart_tls\u001B[39m\u001B[38;5;124m\"\u001B[39m, logger, request, kwargs) \u001B[38;5;28;01mas\u001B[39;00m trace:\n\u001B[1;32m--> 154\u001B[0m     stream \u001B[38;5;241m=\u001B[39m stream\u001B[38;5;241m.\u001B[39mstart_tls(\u001B[38;5;241m*\u001B[39m\u001B[38;5;241m*\u001B[39mkwargs)\n\u001B[0;32m    155\u001B[0m     trace\u001B[38;5;241m.\u001B[39mreturn_value \u001B[38;5;241m=\u001B[39m stream\n",
      "File \u001B[1;32m~\\miniconda3\\lib\\site-packages\\httpcore\\_backends\\sync.py:168\u001B[0m, in \u001B[0;36mSyncStream.start_tls\u001B[1;34m(self, ssl_context, server_hostname, timeout)\u001B[0m\n\u001B[0;32m    167\u001B[0m         \u001B[38;5;28mself\u001B[39m\u001B[38;5;241m.\u001B[39mclose()\n\u001B[1;32m--> 168\u001B[0m         \u001B[38;5;28;01mraise\u001B[39;00m exc\n\u001B[0;32m    169\u001B[0m \u001B[38;5;28;01mreturn\u001B[39;00m SyncStream(sock)\n",
      "File \u001B[1;32m~\\miniconda3\\lib\\contextlib.py:137\u001B[0m, in \u001B[0;36m_GeneratorContextManager.__exit__\u001B[1;34m(self, typ, value, traceback)\u001B[0m\n\u001B[0;32m    136\u001B[0m \u001B[38;5;28;01mtry\u001B[39;00m:\n\u001B[1;32m--> 137\u001B[0m     \u001B[38;5;28;43mself\u001B[39;49m\u001B[38;5;241;43m.\u001B[39;49m\u001B[43mgen\u001B[49m\u001B[38;5;241;43m.\u001B[39;49m\u001B[43mthrow\u001B[49m\u001B[43m(\u001B[49m\u001B[43mtyp\u001B[49m\u001B[43m,\u001B[49m\u001B[43m \u001B[49m\u001B[43mvalue\u001B[49m\u001B[43m,\u001B[49m\u001B[43m \u001B[49m\u001B[43mtraceback\u001B[49m\u001B[43m)\u001B[49m\n\u001B[0;32m    138\u001B[0m \u001B[38;5;28;01mexcept\u001B[39;00m \u001B[38;5;167;01mStopIteration\u001B[39;00m \u001B[38;5;28;01mas\u001B[39;00m exc:\n\u001B[0;32m    139\u001B[0m     \u001B[38;5;66;03m# Suppress StopIteration *unless* it's the same exception that\u001B[39;00m\n\u001B[0;32m    140\u001B[0m     \u001B[38;5;66;03m# was passed to throw().  This prevents a StopIteration\u001B[39;00m\n\u001B[0;32m    141\u001B[0m     \u001B[38;5;66;03m# raised inside the \"with\" statement from being suppressed.\u001B[39;00m\n",
      "File \u001B[1;32m~\\miniconda3\\lib\\site-packages\\httpcore\\_exceptions.py:14\u001B[0m, in \u001B[0;36mmap_exceptions\u001B[1;34m(map)\u001B[0m\n\u001B[0;32m     13\u001B[0m     \u001B[38;5;28;01mif\u001B[39;00m \u001B[38;5;28misinstance\u001B[39m(exc, from_exc):\n\u001B[1;32m---> 14\u001B[0m         \u001B[38;5;28;01mraise\u001B[39;00m to_exc(exc) \u001B[38;5;28;01mfrom\u001B[39;00m \u001B[38;5;21;01mexc\u001B[39;00m\n\u001B[0;32m     15\u001B[0m \u001B[38;5;28;01mraise\u001B[39;00m\n",
      "\u001B[1;31mConnectTimeout\u001B[0m: _ssl.c:1112: The handshake operation timed out",
      "\nThe above exception was the direct cause of the following exception:\n",
      "\u001B[1;31mConnectTimeout\u001B[0m                            Traceback (most recent call last)",
      "Cell \u001B[1;32mIn[1], line 204\u001B[0m\n\u001B[0;32m    195\u001B[0m     repair_button\u001B[38;5;241m.\u001B[39mclick(\n\u001B[0;32m    196\u001B[0m         fn\u001B[38;5;241m=\u001B[39mrepair_rna_structure,\n\u001B[0;32m    197\u001B[0m         inputs\u001B[38;5;241m=\u001B[39m[rna_input, pred_structure_output],\n\u001B[0;32m    198\u001B[0m         outputs\u001B[38;5;241m=\u001B[39m[pred_structure_output, predicted_image],\n\u001B[0;32m    199\u001B[0m     )\n\u001B[0;32m    201\u001B[0m     sample_button\u001B[38;5;241m.\u001B[39mclick(\n\u001B[0;32m    202\u001B[0m         fn\u001B[38;5;241m=\u001B[39msample_rna_sequence, outputs\u001B[38;5;241m=\u001B[39m[rna_input, strcut_input, anno_structure_output]\n\u001B[0;32m    203\u001B[0m     )\n\u001B[1;32m--> 204\u001B[0m \u001B[43mdemo\u001B[49m\u001B[38;5;241;43m.\u001B[39;49m\u001B[43mlaunch\u001B[49m\u001B[43m(\u001B[49m\u001B[43mshare\u001B[49m\u001B[38;5;241;43m=\u001B[39;49m\u001B[38;5;28;43;01mTrue\u001B[39;49;00m\u001B[43m)\u001B[49m\n",
      "File \u001B[1;32m~\\miniconda3\\lib\\site-packages\\gradio\\blocks.py:2283\u001B[0m, in \u001B[0;36mBlocks.launch\u001B[1;34m(self, inline, inbrowser, share, debug, max_threads, auth, auth_message, prevent_thread_lock, show_error, server_name, server_port, height, width, favicon_path, ssl_keyfile, ssl_certfile, ssl_keyfile_password, ssl_verify, quiet, show_api, allowed_paths, blocked_paths, root_path, app_kwargs, state_session_capacity, share_server_address, share_server_protocol, auth_dependency, _frontend)\u001B[0m\n\u001B[0;32m   2280\u001B[0m \u001B[38;5;28;01mfrom\u001B[39;00m \u001B[38;5;21;01mIPython\u001B[39;00m\u001B[38;5;21;01m.\u001B[39;00m\u001B[38;5;21;01mdisplay\u001B[39;00m \u001B[38;5;28;01mimport\u001B[39;00m HTML, Javascript, display  \u001B[38;5;66;03m# type: ignore\u001B[39;00m\n\u001B[0;32m   2282\u001B[0m \u001B[38;5;28;01mif\u001B[39;00m \u001B[38;5;28mself\u001B[39m\u001B[38;5;241m.\u001B[39mshare \u001B[38;5;129;01mand\u001B[39;00m \u001B[38;5;28mself\u001B[39m\u001B[38;5;241m.\u001B[39mshare_url:\n\u001B[1;32m-> 2283\u001B[0m     \u001B[38;5;28;01mwhile\u001B[39;00m \u001B[38;5;129;01mnot\u001B[39;00m \u001B[43mnetworking\u001B[49m\u001B[38;5;241;43m.\u001B[39;49m\u001B[43murl_ok\u001B[49m\u001B[43m(\u001B[49m\u001B[38;5;28;43mself\u001B[39;49m\u001B[38;5;241;43m.\u001B[39;49m\u001B[43mshare_url\u001B[49m\u001B[43m)\u001B[49m:\n\u001B[0;32m   2284\u001B[0m         time\u001B[38;5;241m.\u001B[39msleep(\u001B[38;5;241m0.25\u001B[39m)\n\u001B[0;32m   2285\u001B[0m     artifact \u001B[38;5;241m=\u001B[39m HTML(\n\u001B[0;32m   2286\u001B[0m         \u001B[38;5;124mf\u001B[39m\u001B[38;5;124m'\u001B[39m\u001B[38;5;124m<div><iframe src=\u001B[39m\u001B[38;5;124m\"\u001B[39m\u001B[38;5;132;01m{\u001B[39;00m\u001B[38;5;28mself\u001B[39m\u001B[38;5;241m.\u001B[39mshare_url\u001B[38;5;132;01m}\u001B[39;00m\u001B[38;5;124m\"\u001B[39m\u001B[38;5;124m width=\u001B[39m\u001B[38;5;124m\"\u001B[39m\u001B[38;5;132;01m{\u001B[39;00m\u001B[38;5;28mself\u001B[39m\u001B[38;5;241m.\u001B[39mwidth\u001B[38;5;132;01m}\u001B[39;00m\u001B[38;5;124m\"\u001B[39m\u001B[38;5;124m height=\u001B[39m\u001B[38;5;124m\"\u001B[39m\u001B[38;5;132;01m{\u001B[39;00m\u001B[38;5;28mself\u001B[39m\u001B[38;5;241m.\u001B[39mheight\u001B[38;5;132;01m}\u001B[39;00m\u001B[38;5;124m\"\u001B[39m\u001B[38;5;124m allow=\u001B[39m\u001B[38;5;124m\"\u001B[39m\u001B[38;5;124mautoplay; camera; microphone; clipboard-read; clipboard-write;\u001B[39m\u001B[38;5;124m\"\u001B[39m\u001B[38;5;124m frameborder=\u001B[39m\u001B[38;5;124m\"\u001B[39m\u001B[38;5;124m0\u001B[39m\u001B[38;5;124m\"\u001B[39m\u001B[38;5;124m allowfullscreen></iframe></div>\u001B[39m\u001B[38;5;124m'\u001B[39m\n\u001B[0;32m   2287\u001B[0m     )\n",
      "File \u001B[1;32m~\\miniconda3\\lib\\site-packages\\gradio\\networking.py:53\u001B[0m, in \u001B[0;36murl_ok\u001B[1;34m(url)\u001B[0m\n\u001B[0;32m     51\u001B[0m \u001B[38;5;28;01mwith\u001B[39;00m warnings\u001B[38;5;241m.\u001B[39mcatch_warnings():\n\u001B[0;32m     52\u001B[0m     warnings\u001B[38;5;241m.\u001B[39mfilterwarnings(\u001B[38;5;124m\"\u001B[39m\u001B[38;5;124mignore\u001B[39m\u001B[38;5;124m\"\u001B[39m)\n\u001B[1;32m---> 53\u001B[0m     r \u001B[38;5;241m=\u001B[39m \u001B[43mhttpx\u001B[49m\u001B[38;5;241;43m.\u001B[39;49m\u001B[43mhead\u001B[49m\u001B[43m(\u001B[49m\u001B[43murl\u001B[49m\u001B[43m,\u001B[49m\u001B[43m \u001B[49m\u001B[43mtimeout\u001B[49m\u001B[38;5;241;43m=\u001B[39;49m\u001B[38;5;241;43m3\u001B[39;49m\u001B[43m,\u001B[49m\u001B[43m \u001B[49m\u001B[43mverify\u001B[49m\u001B[38;5;241;43m=\u001B[39;49m\u001B[38;5;28;43;01mFalse\u001B[39;49;00m\u001B[43m)\u001B[49m\n\u001B[0;32m     54\u001B[0m \u001B[38;5;28;01mif\u001B[39;00m r\u001B[38;5;241m.\u001B[39mstatus_code \u001B[38;5;129;01min\u001B[39;00m (\u001B[38;5;241m200\u001B[39m, \u001B[38;5;241m401\u001B[39m, \u001B[38;5;241m302\u001B[39m):  \u001B[38;5;66;03m# 401 or 302 if auth is set\u001B[39;00m\n\u001B[0;32m     55\u001B[0m     \u001B[38;5;28;01mreturn\u001B[39;00m \u001B[38;5;28;01mTrue\u001B[39;00m\n",
      "File \u001B[1;32m~\\miniconda3\\lib\\site-packages\\httpx\\_api.py:278\u001B[0m, in \u001B[0;36mhead\u001B[1;34m(url, params, headers, cookies, auth, proxy, proxies, follow_redirects, cert, verify, timeout, trust_env)\u001B[0m\n\u001B[0;32m    255\u001B[0m \u001B[38;5;28;01mdef\u001B[39;00m \u001B[38;5;21mhead\u001B[39m(\n\u001B[0;32m    256\u001B[0m     url: URLTypes,\n\u001B[0;32m    257\u001B[0m     \u001B[38;5;241m*\u001B[39m,\n\u001B[1;32m   (...)\u001B[0m\n\u001B[0;32m    268\u001B[0m     trust_env: \u001B[38;5;28mbool\u001B[39m \u001B[38;5;241m=\u001B[39m \u001B[38;5;28;01mTrue\u001B[39;00m,\n\u001B[0;32m    269\u001B[0m ) \u001B[38;5;241m-\u001B[39m\u001B[38;5;241m>\u001B[39m Response:\n\u001B[0;32m    270\u001B[0m \u001B[38;5;250m    \u001B[39m\u001B[38;5;124;03m\"\"\"\u001B[39;00m\n\u001B[0;32m    271\u001B[0m \u001B[38;5;124;03m    Sends a `HEAD` request.\u001B[39;00m\n\u001B[0;32m    272\u001B[0m \n\u001B[1;32m   (...)\u001B[0m\n\u001B[0;32m    276\u001B[0m \u001B[38;5;124;03m    on this function, as `HEAD` requests should not include a request body.\u001B[39;00m\n\u001B[0;32m    277\u001B[0m \u001B[38;5;124;03m    \"\"\"\u001B[39;00m\n\u001B[1;32m--> 278\u001B[0m     \u001B[38;5;28;01mreturn\u001B[39;00m \u001B[43mrequest\u001B[49m\u001B[43m(\u001B[49m\n\u001B[0;32m    279\u001B[0m \u001B[43m        \u001B[49m\u001B[38;5;124;43m\"\u001B[39;49m\u001B[38;5;124;43mHEAD\u001B[39;49m\u001B[38;5;124;43m\"\u001B[39;49m\u001B[43m,\u001B[49m\n\u001B[0;32m    280\u001B[0m \u001B[43m        \u001B[49m\u001B[43murl\u001B[49m\u001B[43m,\u001B[49m\n\u001B[0;32m    281\u001B[0m \u001B[43m        \u001B[49m\u001B[43mparams\u001B[49m\u001B[38;5;241;43m=\u001B[39;49m\u001B[43mparams\u001B[49m\u001B[43m,\u001B[49m\n\u001B[0;32m    282\u001B[0m \u001B[43m        \u001B[49m\u001B[43mheaders\u001B[49m\u001B[38;5;241;43m=\u001B[39;49m\u001B[43mheaders\u001B[49m\u001B[43m,\u001B[49m\n\u001B[0;32m    283\u001B[0m \u001B[43m        \u001B[49m\u001B[43mcookies\u001B[49m\u001B[38;5;241;43m=\u001B[39;49m\u001B[43mcookies\u001B[49m\u001B[43m,\u001B[49m\n\u001B[0;32m    284\u001B[0m \u001B[43m        \u001B[49m\u001B[43mauth\u001B[49m\u001B[38;5;241;43m=\u001B[39;49m\u001B[43mauth\u001B[49m\u001B[43m,\u001B[49m\n\u001B[0;32m    285\u001B[0m \u001B[43m        \u001B[49m\u001B[43mproxy\u001B[49m\u001B[38;5;241;43m=\u001B[39;49m\u001B[43mproxy\u001B[49m\u001B[43m,\u001B[49m\n\u001B[0;32m    286\u001B[0m \u001B[43m        \u001B[49m\u001B[43mproxies\u001B[49m\u001B[38;5;241;43m=\u001B[39;49m\u001B[43mproxies\u001B[49m\u001B[43m,\u001B[49m\n\u001B[0;32m    287\u001B[0m \u001B[43m        \u001B[49m\u001B[43mfollow_redirects\u001B[49m\u001B[38;5;241;43m=\u001B[39;49m\u001B[43mfollow_redirects\u001B[49m\u001B[43m,\u001B[49m\n\u001B[0;32m    288\u001B[0m \u001B[43m        \u001B[49m\u001B[43mcert\u001B[49m\u001B[38;5;241;43m=\u001B[39;49m\u001B[43mcert\u001B[49m\u001B[43m,\u001B[49m\n\u001B[0;32m    289\u001B[0m \u001B[43m        \u001B[49m\u001B[43mverify\u001B[49m\u001B[38;5;241;43m=\u001B[39;49m\u001B[43mverify\u001B[49m\u001B[43m,\u001B[49m\n\u001B[0;32m    290\u001B[0m \u001B[43m        \u001B[49m\u001B[43mtimeout\u001B[49m\u001B[38;5;241;43m=\u001B[39;49m\u001B[43mtimeout\u001B[49m\u001B[43m,\u001B[49m\n\u001B[0;32m    291\u001B[0m \u001B[43m        \u001B[49m\u001B[43mtrust_env\u001B[49m\u001B[38;5;241;43m=\u001B[39;49m\u001B[43mtrust_env\u001B[49m\u001B[43m,\u001B[49m\n\u001B[0;32m    292\u001B[0m \u001B[43m    \u001B[49m\u001B[43m)\u001B[49m\n",
      "File \u001B[1;32m~\\miniconda3\\lib\\site-packages\\httpx\\_api.py:106\u001B[0m, in \u001B[0;36mrequest\u001B[1;34m(method, url, params, content, data, files, json, headers, cookies, auth, proxy, proxies, timeout, follow_redirects, verify, cert, trust_env)\u001B[0m\n\u001B[0;32m     46\u001B[0m \u001B[38;5;250m\u001B[39m\u001B[38;5;124;03m\"\"\"\u001B[39;00m\n\u001B[0;32m     47\u001B[0m \u001B[38;5;124;03mSends an HTTP request.\u001B[39;00m\n\u001B[0;32m     48\u001B[0m \n\u001B[1;32m   (...)\u001B[0m\n\u001B[0;32m     95\u001B[0m \u001B[38;5;124;03m```\u001B[39;00m\n\u001B[0;32m     96\u001B[0m \u001B[38;5;124;03m\"\"\"\u001B[39;00m\n\u001B[0;32m     97\u001B[0m \u001B[38;5;28;01mwith\u001B[39;00m Client(\n\u001B[0;32m     98\u001B[0m     cookies\u001B[38;5;241m=\u001B[39mcookies,\n\u001B[0;32m     99\u001B[0m     proxy\u001B[38;5;241m=\u001B[39mproxy,\n\u001B[1;32m   (...)\u001B[0m\n\u001B[0;32m    104\u001B[0m     trust_env\u001B[38;5;241m=\u001B[39mtrust_env,\n\u001B[0;32m    105\u001B[0m ) \u001B[38;5;28;01mas\u001B[39;00m client:\n\u001B[1;32m--> 106\u001B[0m     \u001B[38;5;28;01mreturn\u001B[39;00m \u001B[43mclient\u001B[49m\u001B[38;5;241;43m.\u001B[39;49m\u001B[43mrequest\u001B[49m\u001B[43m(\u001B[49m\n\u001B[0;32m    107\u001B[0m \u001B[43m        \u001B[49m\u001B[43mmethod\u001B[49m\u001B[38;5;241;43m=\u001B[39;49m\u001B[43mmethod\u001B[49m\u001B[43m,\u001B[49m\n\u001B[0;32m    108\u001B[0m \u001B[43m        \u001B[49m\u001B[43murl\u001B[49m\u001B[38;5;241;43m=\u001B[39;49m\u001B[43murl\u001B[49m\u001B[43m,\u001B[49m\n\u001B[0;32m    109\u001B[0m \u001B[43m        \u001B[49m\u001B[43mcontent\u001B[49m\u001B[38;5;241;43m=\u001B[39;49m\u001B[43mcontent\u001B[49m\u001B[43m,\u001B[49m\n\u001B[0;32m    110\u001B[0m \u001B[43m        \u001B[49m\u001B[43mdata\u001B[49m\u001B[38;5;241;43m=\u001B[39;49m\u001B[43mdata\u001B[49m\u001B[43m,\u001B[49m\n\u001B[0;32m    111\u001B[0m \u001B[43m        \u001B[49m\u001B[43mfiles\u001B[49m\u001B[38;5;241;43m=\u001B[39;49m\u001B[43mfiles\u001B[49m\u001B[43m,\u001B[49m\n\u001B[0;32m    112\u001B[0m \u001B[43m        \u001B[49m\u001B[43mjson\u001B[49m\u001B[38;5;241;43m=\u001B[39;49m\u001B[43mjson\u001B[49m\u001B[43m,\u001B[49m\n\u001B[0;32m    113\u001B[0m \u001B[43m        \u001B[49m\u001B[43mparams\u001B[49m\u001B[38;5;241;43m=\u001B[39;49m\u001B[43mparams\u001B[49m\u001B[43m,\u001B[49m\n\u001B[0;32m    114\u001B[0m \u001B[43m        \u001B[49m\u001B[43mheaders\u001B[49m\u001B[38;5;241;43m=\u001B[39;49m\u001B[43mheaders\u001B[49m\u001B[43m,\u001B[49m\n\u001B[0;32m    115\u001B[0m \u001B[43m        \u001B[49m\u001B[43mauth\u001B[49m\u001B[38;5;241;43m=\u001B[39;49m\u001B[43mauth\u001B[49m\u001B[43m,\u001B[49m\n\u001B[0;32m    116\u001B[0m \u001B[43m        \u001B[49m\u001B[43mfollow_redirects\u001B[49m\u001B[38;5;241;43m=\u001B[39;49m\u001B[43mfollow_redirects\u001B[49m\u001B[43m,\u001B[49m\n\u001B[0;32m    117\u001B[0m \u001B[43m    \u001B[49m\u001B[43m)\u001B[49m\n",
      "File \u001B[1;32m~\\miniconda3\\lib\\site-packages\\httpx\\_client.py:827\u001B[0m, in \u001B[0;36mClient.request\u001B[1;34m(self, method, url, content, data, files, json, params, headers, cookies, auth, follow_redirects, timeout, extensions)\u001B[0m\n\u001B[0;32m    812\u001B[0m     warnings\u001B[38;5;241m.\u001B[39mwarn(message, \u001B[38;5;167;01mDeprecationWarning\u001B[39;00m)\n\u001B[0;32m    814\u001B[0m request \u001B[38;5;241m=\u001B[39m \u001B[38;5;28mself\u001B[39m\u001B[38;5;241m.\u001B[39mbuild_request(\n\u001B[0;32m    815\u001B[0m     method\u001B[38;5;241m=\u001B[39mmethod,\n\u001B[0;32m    816\u001B[0m     url\u001B[38;5;241m=\u001B[39murl,\n\u001B[1;32m   (...)\u001B[0m\n\u001B[0;32m    825\u001B[0m     extensions\u001B[38;5;241m=\u001B[39mextensions,\n\u001B[0;32m    826\u001B[0m )\n\u001B[1;32m--> 827\u001B[0m \u001B[38;5;28;01mreturn\u001B[39;00m \u001B[38;5;28;43mself\u001B[39;49m\u001B[38;5;241;43m.\u001B[39;49m\u001B[43msend\u001B[49m\u001B[43m(\u001B[49m\u001B[43mrequest\u001B[49m\u001B[43m,\u001B[49m\u001B[43m \u001B[49m\u001B[43mauth\u001B[49m\u001B[38;5;241;43m=\u001B[39;49m\u001B[43mauth\u001B[49m\u001B[43m,\u001B[49m\u001B[43m \u001B[49m\u001B[43mfollow_redirects\u001B[49m\u001B[38;5;241;43m=\u001B[39;49m\u001B[43mfollow_redirects\u001B[49m\u001B[43m)\u001B[49m\n",
      "File \u001B[1;32m~\\miniconda3\\lib\\site-packages\\httpx\\_client.py:914\u001B[0m, in \u001B[0;36mClient.send\u001B[1;34m(self, request, stream, auth, follow_redirects)\u001B[0m\n\u001B[0;32m    906\u001B[0m follow_redirects \u001B[38;5;241m=\u001B[39m (\n\u001B[0;32m    907\u001B[0m     \u001B[38;5;28mself\u001B[39m\u001B[38;5;241m.\u001B[39mfollow_redirects\n\u001B[0;32m    908\u001B[0m     \u001B[38;5;28;01mif\u001B[39;00m \u001B[38;5;28misinstance\u001B[39m(follow_redirects, UseClientDefault)\n\u001B[0;32m    909\u001B[0m     \u001B[38;5;28;01melse\u001B[39;00m follow_redirects\n\u001B[0;32m    910\u001B[0m )\n\u001B[0;32m    912\u001B[0m auth \u001B[38;5;241m=\u001B[39m \u001B[38;5;28mself\u001B[39m\u001B[38;5;241m.\u001B[39m_build_request_auth(request, auth)\n\u001B[1;32m--> 914\u001B[0m response \u001B[38;5;241m=\u001B[39m \u001B[38;5;28;43mself\u001B[39;49m\u001B[38;5;241;43m.\u001B[39;49m\u001B[43m_send_handling_auth\u001B[49m\u001B[43m(\u001B[49m\n\u001B[0;32m    915\u001B[0m \u001B[43m    \u001B[49m\u001B[43mrequest\u001B[49m\u001B[43m,\u001B[49m\n\u001B[0;32m    916\u001B[0m \u001B[43m    \u001B[49m\u001B[43mauth\u001B[49m\u001B[38;5;241;43m=\u001B[39;49m\u001B[43mauth\u001B[49m\u001B[43m,\u001B[49m\n\u001B[0;32m    917\u001B[0m \u001B[43m    \u001B[49m\u001B[43mfollow_redirects\u001B[49m\u001B[38;5;241;43m=\u001B[39;49m\u001B[43mfollow_redirects\u001B[49m\u001B[43m,\u001B[49m\n\u001B[0;32m    918\u001B[0m \u001B[43m    \u001B[49m\u001B[43mhistory\u001B[49m\u001B[38;5;241;43m=\u001B[39;49m\u001B[43m[\u001B[49m\u001B[43m]\u001B[49m\u001B[43m,\u001B[49m\n\u001B[0;32m    919\u001B[0m \u001B[43m\u001B[49m\u001B[43m)\u001B[49m\n\u001B[0;32m    920\u001B[0m \u001B[38;5;28;01mtry\u001B[39;00m:\n\u001B[0;32m    921\u001B[0m     \u001B[38;5;28;01mif\u001B[39;00m \u001B[38;5;129;01mnot\u001B[39;00m stream:\n",
      "File \u001B[1;32m~\\miniconda3\\lib\\site-packages\\httpx\\_client.py:942\u001B[0m, in \u001B[0;36mClient._send_handling_auth\u001B[1;34m(self, request, auth, follow_redirects, history)\u001B[0m\n\u001B[0;32m    939\u001B[0m request \u001B[38;5;241m=\u001B[39m \u001B[38;5;28mnext\u001B[39m(auth_flow)\n\u001B[0;32m    941\u001B[0m \u001B[38;5;28;01mwhile\u001B[39;00m \u001B[38;5;28;01mTrue\u001B[39;00m:\n\u001B[1;32m--> 942\u001B[0m     response \u001B[38;5;241m=\u001B[39m \u001B[38;5;28;43mself\u001B[39;49m\u001B[38;5;241;43m.\u001B[39;49m\u001B[43m_send_handling_redirects\u001B[49m\u001B[43m(\u001B[49m\n\u001B[0;32m    943\u001B[0m \u001B[43m        \u001B[49m\u001B[43mrequest\u001B[49m\u001B[43m,\u001B[49m\n\u001B[0;32m    944\u001B[0m \u001B[43m        \u001B[49m\u001B[43mfollow_redirects\u001B[49m\u001B[38;5;241;43m=\u001B[39;49m\u001B[43mfollow_redirects\u001B[49m\u001B[43m,\u001B[49m\n\u001B[0;32m    945\u001B[0m \u001B[43m        \u001B[49m\u001B[43mhistory\u001B[49m\u001B[38;5;241;43m=\u001B[39;49m\u001B[43mhistory\u001B[49m\u001B[43m,\u001B[49m\n\u001B[0;32m    946\u001B[0m \u001B[43m    \u001B[49m\u001B[43m)\u001B[49m\n\u001B[0;32m    947\u001B[0m     \u001B[38;5;28;01mtry\u001B[39;00m:\n\u001B[0;32m    948\u001B[0m         \u001B[38;5;28;01mtry\u001B[39;00m:\n",
      "File \u001B[1;32m~\\miniconda3\\lib\\site-packages\\httpx\\_client.py:979\u001B[0m, in \u001B[0;36mClient._send_handling_redirects\u001B[1;34m(self, request, follow_redirects, history)\u001B[0m\n\u001B[0;32m    976\u001B[0m \u001B[38;5;28;01mfor\u001B[39;00m hook \u001B[38;5;129;01min\u001B[39;00m \u001B[38;5;28mself\u001B[39m\u001B[38;5;241m.\u001B[39m_event_hooks[\u001B[38;5;124m\"\u001B[39m\u001B[38;5;124mrequest\u001B[39m\u001B[38;5;124m\"\u001B[39m]:\n\u001B[0;32m    977\u001B[0m     hook(request)\n\u001B[1;32m--> 979\u001B[0m response \u001B[38;5;241m=\u001B[39m \u001B[38;5;28;43mself\u001B[39;49m\u001B[38;5;241;43m.\u001B[39;49m\u001B[43m_send_single_request\u001B[49m\u001B[43m(\u001B[49m\u001B[43mrequest\u001B[49m\u001B[43m)\u001B[49m\n\u001B[0;32m    980\u001B[0m \u001B[38;5;28;01mtry\u001B[39;00m:\n\u001B[0;32m    981\u001B[0m     \u001B[38;5;28;01mfor\u001B[39;00m hook \u001B[38;5;129;01min\u001B[39;00m \u001B[38;5;28mself\u001B[39m\u001B[38;5;241m.\u001B[39m_event_hooks[\u001B[38;5;124m\"\u001B[39m\u001B[38;5;124mresponse\u001B[39m\u001B[38;5;124m\"\u001B[39m]:\n",
      "File \u001B[1;32m~\\miniconda3\\lib\\site-packages\\httpx\\_client.py:1015\u001B[0m, in \u001B[0;36mClient._send_single_request\u001B[1;34m(self, request)\u001B[0m\n\u001B[0;32m   1010\u001B[0m     \u001B[38;5;28;01mraise\u001B[39;00m \u001B[38;5;167;01mRuntimeError\u001B[39;00m(\n\u001B[0;32m   1011\u001B[0m         \u001B[38;5;124m\"\u001B[39m\u001B[38;5;124mAttempted to send an async request with a sync Client instance.\u001B[39m\u001B[38;5;124m\"\u001B[39m\n\u001B[0;32m   1012\u001B[0m     )\n\u001B[0;32m   1014\u001B[0m \u001B[38;5;28;01mwith\u001B[39;00m request_context(request\u001B[38;5;241m=\u001B[39mrequest):\n\u001B[1;32m-> 1015\u001B[0m     response \u001B[38;5;241m=\u001B[39m \u001B[43mtransport\u001B[49m\u001B[38;5;241;43m.\u001B[39;49m\u001B[43mhandle_request\u001B[49m\u001B[43m(\u001B[49m\u001B[43mrequest\u001B[49m\u001B[43m)\u001B[49m\n\u001B[0;32m   1017\u001B[0m \u001B[38;5;28;01massert\u001B[39;00m \u001B[38;5;28misinstance\u001B[39m(response\u001B[38;5;241m.\u001B[39mstream, SyncByteStream)\n\u001B[0;32m   1019\u001B[0m response\u001B[38;5;241m.\u001B[39mrequest \u001B[38;5;241m=\u001B[39m request\n",
      "File \u001B[1;32m~\\miniconda3\\lib\\site-packages\\httpx\\_transports\\default.py:233\u001B[0m, in \u001B[0;36mHTTPTransport.handle_request\u001B[1;34m(self, request)\u001B[0m\n\u001B[0;32m    220\u001B[0m req \u001B[38;5;241m=\u001B[39m httpcore\u001B[38;5;241m.\u001B[39mRequest(\n\u001B[0;32m    221\u001B[0m     method\u001B[38;5;241m=\u001B[39mrequest\u001B[38;5;241m.\u001B[39mmethod,\n\u001B[0;32m    222\u001B[0m     url\u001B[38;5;241m=\u001B[39mhttpcore\u001B[38;5;241m.\u001B[39mURL(\n\u001B[1;32m   (...)\u001B[0m\n\u001B[0;32m    230\u001B[0m     extensions\u001B[38;5;241m=\u001B[39mrequest\u001B[38;5;241m.\u001B[39mextensions,\n\u001B[0;32m    231\u001B[0m )\n\u001B[0;32m    232\u001B[0m \u001B[38;5;28;01mwith\u001B[39;00m map_httpcore_exceptions():\n\u001B[1;32m--> 233\u001B[0m     resp \u001B[38;5;241m=\u001B[39m \u001B[38;5;28mself\u001B[39m\u001B[38;5;241m.\u001B[39m_pool\u001B[38;5;241m.\u001B[39mhandle_request(req)\n\u001B[0;32m    235\u001B[0m \u001B[38;5;28;01massert\u001B[39;00m \u001B[38;5;28misinstance\u001B[39m(resp\u001B[38;5;241m.\u001B[39mstream, typing\u001B[38;5;241m.\u001B[39mIterable)\n\u001B[0;32m    237\u001B[0m \u001B[38;5;28;01mreturn\u001B[39;00m Response(\n\u001B[0;32m    238\u001B[0m     status_code\u001B[38;5;241m=\u001B[39mresp\u001B[38;5;241m.\u001B[39mstatus,\n\u001B[0;32m    239\u001B[0m     headers\u001B[38;5;241m=\u001B[39mresp\u001B[38;5;241m.\u001B[39mheaders,\n\u001B[0;32m    240\u001B[0m     stream\u001B[38;5;241m=\u001B[39mResponseStream(resp\u001B[38;5;241m.\u001B[39mstream),\n\u001B[0;32m    241\u001B[0m     extensions\u001B[38;5;241m=\u001B[39mresp\u001B[38;5;241m.\u001B[39mextensions,\n\u001B[0;32m    242\u001B[0m )\n",
      "File \u001B[1;32m~\\miniconda3\\lib\\contextlib.py:137\u001B[0m, in \u001B[0;36m_GeneratorContextManager.__exit__\u001B[1;34m(self, typ, value, traceback)\u001B[0m\n\u001B[0;32m    135\u001B[0m     value \u001B[38;5;241m=\u001B[39m typ()\n\u001B[0;32m    136\u001B[0m \u001B[38;5;28;01mtry\u001B[39;00m:\n\u001B[1;32m--> 137\u001B[0m     \u001B[38;5;28;43mself\u001B[39;49m\u001B[38;5;241;43m.\u001B[39;49m\u001B[43mgen\u001B[49m\u001B[38;5;241;43m.\u001B[39;49m\u001B[43mthrow\u001B[49m\u001B[43m(\u001B[49m\u001B[43mtyp\u001B[49m\u001B[43m,\u001B[49m\u001B[43m \u001B[49m\u001B[43mvalue\u001B[49m\u001B[43m,\u001B[49m\u001B[43m \u001B[49m\u001B[43mtraceback\u001B[49m\u001B[43m)\u001B[49m\n\u001B[0;32m    138\u001B[0m \u001B[38;5;28;01mexcept\u001B[39;00m \u001B[38;5;167;01mStopIteration\u001B[39;00m \u001B[38;5;28;01mas\u001B[39;00m exc:\n\u001B[0;32m    139\u001B[0m     \u001B[38;5;66;03m# Suppress StopIteration *unless* it's the same exception that\u001B[39;00m\n\u001B[0;32m    140\u001B[0m     \u001B[38;5;66;03m# was passed to throw().  This prevents a StopIteration\u001B[39;00m\n\u001B[0;32m    141\u001B[0m     \u001B[38;5;66;03m# raised inside the \"with\" statement from being suppressed.\u001B[39;00m\n\u001B[0;32m    142\u001B[0m     \u001B[38;5;28;01mreturn\u001B[39;00m exc \u001B[38;5;129;01mis\u001B[39;00m \u001B[38;5;129;01mnot\u001B[39;00m value\n",
      "File \u001B[1;32m~\\miniconda3\\lib\\site-packages\\httpx\\_transports\\default.py:86\u001B[0m, in \u001B[0;36mmap_httpcore_exceptions\u001B[1;34m()\u001B[0m\n\u001B[0;32m     83\u001B[0m     \u001B[38;5;28;01mraise\u001B[39;00m\n\u001B[0;32m     85\u001B[0m message \u001B[38;5;241m=\u001B[39m \u001B[38;5;28mstr\u001B[39m(exc)\n\u001B[1;32m---> 86\u001B[0m \u001B[38;5;28;01mraise\u001B[39;00m mapped_exc(message) \u001B[38;5;28;01mfrom\u001B[39;00m \u001B[38;5;21;01mexc\u001B[39;00m\n",
      "\u001B[1;31mConnectTimeout\u001B[0m: _ssl.c:1112: The handshake operation timed out"
     ]
    }
   ],
>>>>>>> 5c07f0e6cd53ef499aada171bcd256de0a4e9df1
   "source": [
    "import os\n",
    "import time\n",
    "import base64\n",
    "import tempfile\n",
    "from pathlib import Path\n",
    "import json\n",
    "import numpy as np\n",
    "import gradio as gr\n",
    "import RNA\n",
    "from omnigenome import ModelHub\n",
    "\n",
    "# 加载模型\n",
    "ssp_model = ModelHub.load(\"OmniGenome-186M-SSP\")\n",
    "\n",
    "# 临时 SVG 存储目录\n",
    "TEMP_DIR = Path(tempfile.mkdtemp())\n",
    "print(f\"Using temporary directory: {TEMP_DIR}\")\n",
    "\n",
    "\n",
    "def ss_validity_loss(rna_strct: str) -> float:\n",
    "    left = right = 0\n",
    "    dots = rna_strct.count('.')\n",
    "    for c in rna_strct:\n",
    "        if c == '(':\n",
    "            left += 1\n",
    "        elif c == ')':\n",
    "            if left:\n",
    "                left -= 1\n",
    "            else:\n",
    "                right += 1\n",
    "        elif c != '.':\n",
    "            raise ValueError(f\"Invalid char {c}\")\n",
    "    return (left + right) / (len(rna_strct) - dots + 1e-8)\n",
    "\n",
    "\n",
    "def find_invalid_positions(struct: str) -> list:\n",
    "    stack, invalid = [], []\n",
    "    for i, c in enumerate(struct):\n",
    "        if c == '(': stack.append(i)\n",
    "        elif c == ')':\n",
    "            if stack:\n",
    "                stack.pop()\n",
    "            else:\n",
    "                invalid.append(i)\n",
    "    invalid.extend(stack)\n",
    "    return invalid\n",
    "\n",
    "\n",
    "def generate_svg_datauri(rna_seq: str, struct: str) -> str:\n",
    "    \"\"\"生成 SVG 并返回 Base64 URI\"\"\"\n",
    "    try:\n",
    "        path = TEMP_DIR / f\"{hash(rna_seq+struct)}.svg\"\n",
    "        RNA.svg_rna_plot(rna_seq, struct, str(path))\n",
    "        time.sleep(0.1)\n",
    "        svg_bytes = path.read_bytes()\n",
    "        b64 = base64.b64encode(svg_bytes).decode('utf-8')\n",
    "    except Exception as e:\n",
    "        err = ('<svg xmlns=\"http://www.w3.org/2000/svg\" width=\"400\" height=\"200\">'\n",
    "               f'<text x=\"50\" y=\"100\" fill=\"red\">Error: {e}</text></svg>')\n",
    "        b64 = base64.b64encode(err.encode()).decode('utf-8')\n",
    "    return f\"data:image/svg+xml;base64,{b64}\"\n",
    "\n",
    "\n",
    "def fold(rna_seq: str, gt_struct: str):\n",
    "    \"\"\"展示 Ground Truth、ViennaRNA 与模型预测的结构对比\"\"\"\n",
    "    if not rna_seq.strip():\n",
    "        return \"\", \"\", \"\", \"\"\n",
    "    # Ground Truth: 用户输入优先\n",
    "    ground = gt_struct.strip() if gt_struct and gt_struct.strip() else \"\"\n",
    "    gt_uri = generate_svg_datauri(rna_seq, ground) if ground else \"\"\n",
    "\n",
    "    # ViennaRNA 预测\n",
    "    vienna_struct, vienna_energy = RNA.fold(rna_seq)\n",
    "    vienna_uri = generate_svg_datauri(rna_seq, vienna_struct)\n",
    "\n",
    "    # 模型预测\n",
    "    result = ssp_model.inference(rna_seq)\n",
    "    pred = \"\".join(result.get('predictions', []))\n",
    "    if ss_validity_loss(pred):\n",
    "        for i in find_invalid_positions(pred):\n",
    "            pred = pred[:i] + '.' + pred[i+1:]\n",
    "    pred_uri = generate_svg_datauri(rna_seq, pred)\n",
    "\n",
    "    # 统计信息\n",
    "    match_gt = (sum(a==b for a,b in zip(ground, pred)) / len(ground)) if ground else 0\n",
    "    match_vienna = sum(a==b for a,b in zip(vienna_struct, pred)) / len(vienna_struct)\n",
    "    stats = (\n",
    "        f\"GT↔Pred Match: {match_gt:.2%}\" + (\" | \" if ground else \"\") +\n",
    "        f\"Vienna↔Pred Match: {match_vienna:.2%}\"\n",
    "    )\n",
    "\n",
    "    # 合并 HTML：三图水平排列\n",
    "    combined = (\n",
    "        '<div style=\"display:flex;justify-content:space-around;\">'\n",
    "        f'{f\"<div><h4>Ground Truth</h4><img src=\\\"{gt_uri}\\\" style=\\\"max-width:100%;height:auto;\\\"/></div>\" if ground else \"\"}'\n",
    "        f'<div><h4>ViennaRNA</h4><img src=\\\"{vienna_uri}\\\" style=\\\"max-width:100%;height:auto;\\\"/></div>'\n",
    "        f'<div><h4>Prediction</h4><img src=\\\"{pred_uri}\\\" style=\\\"max-width:100%;height:auto;\\\"/></div>'\n",
    "        '</div>'\n",
    "    )\n",
    "    return ground, vienna_struct, pred, stats, combined\n",
    "\n",
    "\n",
    "def sample_rna_sequence():\n",
    "    \"\"\"从测试集中抽样，返回序列与 Ground Truth 结构\"\"\"\n",
    "    try:\n",
    "        exs = [json.loads(l) for l in open('toy_datasets/Archive2/test.json')]\n",
    "        ex = exs[np.random.randint(len(exs))]\n",
    "        return ex['seq'], ex.get('label','')\n",
    "    except Exception as e:\n",
    "        return f\"加载样本出错: {e}\", \"\"\n",
    "\n",
    "# Gradio UI\n",
    "with gr.Blocks(css=\"\"\"\n",
    ".heading {text-align:center;color:#2a4365;}\n",
    ".controls {display:flex;gap:10px;margin:20px 0;}\n",
    ".status {padding:10px;background:#f0f4f8;border-radius:4px;white-space:pre;}\n",
    "\"\"\") as demo:\n",
    "    gr.Markdown(\"# RNA 结构预测对比\", elem_classes=\"heading\")\n",
    "    with gr.Row():\n",
    "        rna_input = gr.Textbox(label=\"RNA 序列\", lines=3)\n",
    "        structure_input = gr.Textbox(label=\"Ground Truth 结构 (可选)\", lines=3)\n",
    "    with gr.Row(elem_classes=\"controls\"):\n",
    "        sample_btn = gr.Button(\"抽取样本\")\n",
    "        run_btn = gr.Button(\"预测并对比\", variant=\"primary\")\n",
    "    stats_out    = gr.Textbox(label=\"统计信息\", interactive=False, elem_classes=\"status\")\n",
    "    gt_out       = gr.Textbox(label=\"Ground Truth\", interactive=False)\n",
    "    vienna_out   = gr.Textbox(label=\"ViennaRNA 结构\", interactive=False)\n",
    "    pred_out     = gr.Textbox(label=\"Prediction 结构\", interactive=False)\n",
    "    combined_view= gr.HTML(label=\"三图对比视图\")\n",
    "\n",
    "    run_btn.click(\n",
    "        fold,\n",
    "        inputs=[rna_input, structure_input],\n",
    "        outputs=[gt_out, vienna_out, pred_out, stats_out, combined_view]\n",
    "    )\n",
    "    sample_btn.click(\n",
    "        sample_rna_sequence,\n",
    "        outputs=[rna_input, structure_input]\n",
    "    )\n",
    "\n",
    "    demo.launch(share=True)\n"
<<<<<<< HEAD
   ],
   "outputs": [
    {
     "ename": "ModuleNotFoundError",
     "evalue": "No module named 'gradio'",
     "output_type": "error",
     "traceback": [
      "\u001B[31m---------------------------------------------------------------------------\u001B[39m",
      "\u001B[31mModuleNotFoundError\u001B[39m                       Traceback (most recent call last)",
      "\u001B[36mCell\u001B[39m\u001B[36m \u001B[39m\u001B[32mIn[12]\u001B[39m\u001B[32m, line 8\u001B[39m\n\u001B[32m      6\u001B[39m \u001B[38;5;28;01mimport\u001B[39;00m\u001B[38;5;250m \u001B[39m\u001B[34;01mjson\u001B[39;00m\n\u001B[32m      7\u001B[39m \u001B[38;5;28;01mimport\u001B[39;00m\u001B[38;5;250m \u001B[39m\u001B[34;01mnumpy\u001B[39;00m\u001B[38;5;250m \u001B[39m\u001B[38;5;28;01mas\u001B[39;00m\u001B[38;5;250m \u001B[39m\u001B[34;01mnp\u001B[39;00m\n\u001B[32m----> \u001B[39m\u001B[32m8\u001B[39m \u001B[38;5;28;01mimport\u001B[39;00m\u001B[38;5;250m \u001B[39m\u001B[34;01mgradio\u001B[39;00m\u001B[38;5;250m \u001B[39m\u001B[38;5;28;01mas\u001B[39;00m\u001B[38;5;250m \u001B[39m\u001B[34;01mgr\u001B[39;00m\n\u001B[32m      9\u001B[39m \u001B[38;5;28;01mimport\u001B[39;00m\u001B[38;5;250m \u001B[39m\u001B[34;01mRNA\u001B[39;00m\n\u001B[32m     10\u001B[39m \u001B[38;5;28;01mfrom\u001B[39;00m\u001B[38;5;250m \u001B[39m\u001B[34;01momnigenome\u001B[39;00m\u001B[38;5;250m \u001B[39m\u001B[38;5;28;01mimport\u001B[39;00m ModelHub\n",
      "\u001B[31mModuleNotFoundError\u001B[39m: No module named 'gradio'"
     ]
    }
   ],
   "execution_count": 12
=======
   ]
>>>>>>> 5c07f0e6cd53ef499aada171bcd256de0a4e9df1
  },
  {
   "cell_type": "markdown",
   "id": "a65734ef8e8d8696",
   "metadata": {
    "collapsed": false,
    "jupyter": {
     "outputs_hidden": false
    }
   },
   "source": [
    "### Conclusion\n",
    "In this demonstration, we have shown how to fine-tune a genomic foundation model for RNA secondary structure prediction using the OmniGenome package. We have also shown how to use the trained model for inference and how to create a web demo for RNA secondary structure prediction. We hope this demonstration will help you get started with genomic foundation model development using OmniGenome."
   ]
  },
  {
   "cell_type": "code",
   "execution_count": null,
   "id": "9615fc02b5260f8a",
   "metadata": {
    "ExecuteTime": {
     "end_time": "2025-06-28T19:08:39.353659800Z",
     "start_time": "2024-08-10T14:08:56.961664Z"
    },
    "collapsed": false,
    "jupyter": {
     "outputs_hidden": false
    }
   },
   "outputs": [],
   "source": []
  }
 ],
 "metadata": {
  "kernelspec": {
   "display_name": "Python 3 (ipykernel)",
   "language": "python",
   "name": "python3"
  },
  "language_info": {
   "codemirror_mode": {
    "name": "ipython",
    "version": 3
   },
   "file_extension": ".py",
   "mimetype": "text/x-python",
   "name": "python",
   "nbconvert_exporter": "python",
   "pygments_lexer": "ipython3",
   "version": "3.9.18"
  }
 },
 "nbformat": 4,
 "nbformat_minor": 5
}
