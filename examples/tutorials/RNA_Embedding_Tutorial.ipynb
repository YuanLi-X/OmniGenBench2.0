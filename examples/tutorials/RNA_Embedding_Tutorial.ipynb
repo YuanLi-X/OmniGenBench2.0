{
 "cells": [
  {
   "cell_type": "markdown",
   "id": "5d0dbe4f",
   "metadata": {},
   "source": [
    "# RNA Embedding Model Tutorial\n",
    "This tutorial will guide you through how to use the RNA embedding model using the `OmniGenomeModelForEmbedding` class. We will cover initializing the model, encoding RNA sequences, saving/loading embeddings, and computing similarities."
   ]
  },
  {
   "cell_type": "markdown",
   "id": "b4e3bc0f",
   "metadata": {},
   "source": [
    "## Step 1: Install Required Dependencies\n",
    "Before we start, make sure you have the necessary libraries installed. You can install them using the following command:"
   ]
  },
  {
   "cell_type": "code",
   "id": "3483bb9e",
   "metadata": {
    "ExecuteTime": {
     "end_time": "2025-06-16T21:58:32.892830Z",
     "start_time": "2025-06-16T21:58:31.113377Z"
    }
   },
   "source": [
    "!pip install OmniGenome torch transformers autocuda"
   ],
   "outputs": [
    {
     "name": "stdout",
     "output_type": "stream",
     "text": [
      "Requirement already satisfied: OmniGenome in d:\\onedrive - university of exeter\\aiprojects\\omnigenomebench (0.2.5a0)\n",
      "Requirement already satisfied: torch in c:\\users\\hengu\\miniconda3\\envs\\py312\\lib\\site-packages (2.7.1+cu128)\n",
      "Requirement already satisfied: transformers in c:\\users\\hengu\\miniconda3\\envs\\py312\\lib\\site-packages (4.46.2)\n",
      "Requirement already satisfied: autocuda in c:\\users\\hengu\\miniconda3\\envs\\py312\\lib\\site-packages (0.16)\n",
      "Requirement already satisfied: findfile>=2.0.0 in c:\\users\\hengu\\miniconda3\\envs\\py312\\lib\\site-packages (from OmniGenome) (2.0.1)\n",
      "Requirement already satisfied: metric-visualizer>=0.9.6 in c:\\users\\hengu\\miniconda3\\envs\\py312\\lib\\site-packages (from OmniGenome) (0.9.17)\n",
      "Requirement already satisfied: termcolor in c:\\users\\hengu\\miniconda3\\envs\\py312\\lib\\site-packages (from OmniGenome) (3.1.0)\n",
      "Requirement already satisfied: gitpython in c:\\users\\hengu\\miniconda3\\envs\\py312\\lib\\site-packages (from OmniGenome) (3.1.44)\n",
      "Requirement already satisfied: pandas in c:\\users\\hengu\\miniconda3\\envs\\py312\\lib\\site-packages (from OmniGenome) (2.3.0)\n",
      "Requirement already satisfied: viennarna in c:\\users\\hengu\\miniconda3\\envs\\py312\\lib\\site-packages (from OmniGenome) (2.7.0)\n",
      "Requirement already satisfied: scikit-learn in c:\\users\\hengu\\miniconda3\\envs\\py312\\lib\\site-packages (from OmniGenome) (1.7.0)\n",
      "Requirement already satisfied: accelerate in c:\\users\\hengu\\miniconda3\\envs\\py312\\lib\\site-packages (from OmniGenome) (1.7.0)\n",
      "Requirement already satisfied: packaging in c:\\users\\hengu\\miniconda3\\envs\\py312\\lib\\site-packages (from OmniGenome) (24.2)\n",
      "Requirement already satisfied: filelock in c:\\users\\hengu\\miniconda3\\envs\\py312\\lib\\site-packages (from torch) (3.18.0)\n",
      "Requirement already satisfied: typing-extensions>=4.10.0 in c:\\users\\hengu\\miniconda3\\envs\\py312\\lib\\site-packages (from torch) (4.12.2)\n",
      "Requirement already satisfied: sympy>=1.13.3 in c:\\users\\hengu\\miniconda3\\envs\\py312\\lib\\site-packages (from torch) (1.13.3)\n",
      "Requirement already satisfied: networkx in c:\\users\\hengu\\miniconda3\\envs\\py312\\lib\\site-packages (from torch) (3.5)\n",
      "Requirement already satisfied: jinja2 in c:\\users\\hengu\\miniconda3\\envs\\py312\\lib\\site-packages (from torch) (3.1.6)\n",
      "Requirement already satisfied: fsspec in c:\\users\\hengu\\miniconda3\\envs\\py312\\lib\\site-packages (from torch) (2025.5.1)\n",
      "Requirement already satisfied: setuptools in c:\\users\\hengu\\miniconda3\\envs\\py312\\lib\\site-packages (from torch) (78.1.1)\n",
      "Requirement already satisfied: huggingface-hub<1.0,>=0.23.2 in c:\\users\\hengu\\miniconda3\\envs\\py312\\lib\\site-packages (from transformers) (0.32.5)\n",
      "Requirement already satisfied: numpy>=1.17 in c:\\users\\hengu\\miniconda3\\envs\\py312\\lib\\site-packages (from transformers) (2.3.0)\n",
      "Requirement already satisfied: pyyaml>=5.1 in c:\\users\\hengu\\miniconda3\\envs\\py312\\lib\\site-packages (from transformers) (6.0.2)\n",
      "Requirement already satisfied: regex!=2019.12.17 in c:\\users\\hengu\\miniconda3\\envs\\py312\\lib\\site-packages (from transformers) (2024.11.6)\n",
      "Requirement already satisfied: requests in c:\\users\\hengu\\miniconda3\\envs\\py312\\lib\\site-packages (from transformers) (2.32.3)\n",
      "Requirement already satisfied: safetensors>=0.4.1 in c:\\users\\hengu\\miniconda3\\envs\\py312\\lib\\site-packages (from transformers) (0.5.3)\n",
      "Requirement already satisfied: tokenizers<0.21,>=0.20 in c:\\users\\hengu\\miniconda3\\envs\\py312\\lib\\site-packages (from transformers) (0.20.3)\n",
      "Requirement already satisfied: tqdm>=4.27 in c:\\users\\hengu\\miniconda3\\envs\\py312\\lib\\site-packages (from transformers) (4.67.1)\n",
      "Requirement already satisfied: matplotlib>=3.6.3 in c:\\users\\hengu\\miniconda3\\envs\\py312\\lib\\site-packages (from metric-visualizer>=0.9.6->OmniGenome) (3.10.3)\n",
      "Requirement already satisfied: tikzplotlib in c:\\users\\hengu\\miniconda3\\envs\\py312\\lib\\site-packages (from metric-visualizer>=0.9.6->OmniGenome) (0.10.1)\n",
      "Requirement already satisfied: scipy in c:\\users\\hengu\\miniconda3\\envs\\py312\\lib\\site-packages (from metric-visualizer>=0.9.6->OmniGenome) (1.15.3)\n",
      "Requirement already satisfied: tabulate in c:\\users\\hengu\\miniconda3\\envs\\py312\\lib\\site-packages (from metric-visualizer>=0.9.6->OmniGenome) (0.9.0)\n",
      "Requirement already satisfied: natsort in c:\\users\\hengu\\miniconda3\\envs\\py312\\lib\\site-packages (from metric-visualizer>=0.9.6->OmniGenome) (8.4.0)\n",
      "Requirement already satisfied: update-checker in c:\\users\\hengu\\miniconda3\\envs\\py312\\lib\\site-packages (from metric-visualizer>=0.9.6->OmniGenome) (0.18.0)\n",
      "Requirement already satisfied: click in c:\\users\\hengu\\miniconda3\\envs\\py312\\lib\\site-packages (from metric-visualizer>=0.9.6->OmniGenome) (8.2.1)\n",
      "Requirement already satisfied: openpyxl in c:\\users\\hengu\\miniconda3\\envs\\py312\\lib\\site-packages (from metric-visualizer>=0.9.6->OmniGenome) (3.1.5)\n",
      "Requirement already satisfied: xlsxwriter in c:\\users\\hengu\\miniconda3\\envs\\py312\\lib\\site-packages (from metric-visualizer>=0.9.6->OmniGenome) (3.2.3)\n",
      "Requirement already satisfied: colorama in c:\\users\\hengu\\miniconda3\\envs\\py312\\lib\\site-packages (from metric-visualizer>=0.9.6->OmniGenome) (0.4.6)\n",
      "Requirement already satisfied: contourpy>=1.0.1 in c:\\users\\hengu\\miniconda3\\envs\\py312\\lib\\site-packages (from matplotlib>=3.6.3->metric-visualizer>=0.9.6->OmniGenome) (1.3.2)\n",
      "Requirement already satisfied: cycler>=0.10 in c:\\users\\hengu\\miniconda3\\envs\\py312\\lib\\site-packages (from matplotlib>=3.6.3->metric-visualizer>=0.9.6->OmniGenome) (0.12.1)\n",
      "Requirement already satisfied: fonttools>=4.22.0 in c:\\users\\hengu\\miniconda3\\envs\\py312\\lib\\site-packages (from matplotlib>=3.6.3->metric-visualizer>=0.9.6->OmniGenome) (4.58.2)\n",
      "Requirement already satisfied: kiwisolver>=1.3.1 in c:\\users\\hengu\\miniconda3\\envs\\py312\\lib\\site-packages (from matplotlib>=3.6.3->metric-visualizer>=0.9.6->OmniGenome) (1.4.8)\n",
      "Requirement already satisfied: pillow>=8 in c:\\users\\hengu\\miniconda3\\envs\\py312\\lib\\site-packages (from matplotlib>=3.6.3->metric-visualizer>=0.9.6->OmniGenome) (11.2.1)\n",
      "Requirement already satisfied: pyparsing>=2.3.1 in c:\\users\\hengu\\miniconda3\\envs\\py312\\lib\\site-packages (from matplotlib>=3.6.3->metric-visualizer>=0.9.6->OmniGenome) (3.2.3)\n",
      "Requirement already satisfied: python-dateutil>=2.7 in c:\\users\\hengu\\miniconda3\\envs\\py312\\lib\\site-packages (from matplotlib>=3.6.3->metric-visualizer>=0.9.6->OmniGenome) (2.9.0.post0)\n",
      "Requirement already satisfied: six>=1.5 in c:\\users\\hengu\\miniconda3\\envs\\py312\\lib\\site-packages (from python-dateutil>=2.7->matplotlib>=3.6.3->metric-visualizer>=0.9.6->OmniGenome) (1.17.0)\n",
      "Requirement already satisfied: mpmath<1.4,>=1.1.0 in c:\\users\\hengu\\miniconda3\\envs\\py312\\lib\\site-packages (from sympy>=1.13.3->torch) (1.3.0)\n",
      "Requirement already satisfied: psutil in c:\\users\\hengu\\miniconda3\\envs\\py312\\lib\\site-packages (from accelerate->OmniGenome) (5.9.0)\n",
      "Requirement already satisfied: gitdb<5,>=4.0.1 in c:\\users\\hengu\\miniconda3\\envs\\py312\\lib\\site-packages (from gitpython->OmniGenome) (4.0.12)\n",
      "Requirement already satisfied: smmap<6,>=3.0.1 in c:\\users\\hengu\\miniconda3\\envs\\py312\\lib\\site-packages (from gitdb<5,>=4.0.1->gitpython->OmniGenome) (5.0.2)\n",
      "Requirement already satisfied: MarkupSafe>=2.0 in c:\\users\\hengu\\miniconda3\\envs\\py312\\lib\\site-packages (from jinja2->torch) (3.0.2)\n",
      "Requirement already satisfied: et-xmlfile in c:\\users\\hengu\\miniconda3\\envs\\py312\\lib\\site-packages (from openpyxl->metric-visualizer>=0.9.6->OmniGenome) (2.0.0)\n",
      "Requirement already satisfied: pytz>=2020.1 in c:\\users\\hengu\\miniconda3\\envs\\py312\\lib\\site-packages (from pandas->OmniGenome) (2025.2)\n",
      "Requirement already satisfied: tzdata>=2022.7 in c:\\users\\hengu\\miniconda3\\envs\\py312\\lib\\site-packages (from pandas->OmniGenome) (2025.2)\n",
      "Requirement already satisfied: charset-normalizer<4,>=2 in c:\\users\\hengu\\miniconda3\\envs\\py312\\lib\\site-packages (from requests->transformers) (3.3.2)\n",
      "Requirement already satisfied: idna<4,>=2.5 in c:\\users\\hengu\\miniconda3\\envs\\py312\\lib\\site-packages (from requests->transformers) (3.10)\n",
      "Requirement already satisfied: urllib3<3,>=1.21.1 in c:\\users\\hengu\\miniconda3\\envs\\py312\\lib\\site-packages (from requests->transformers) (2.3.0)\n",
      "Requirement already satisfied: certifi>=2017.4.17 in c:\\users\\hengu\\miniconda3\\envs\\py312\\lib\\site-packages (from requests->transformers) (2025.4.26)\n",
      "Requirement already satisfied: joblib>=1.2.0 in c:\\users\\hengu\\miniconda3\\envs\\py312\\lib\\site-packages (from scikit-learn->OmniGenome) (1.5.1)\n",
      "Requirement already satisfied: threadpoolctl>=3.1.0 in c:\\users\\hengu\\miniconda3\\envs\\py312\\lib\\site-packages (from scikit-learn->OmniGenome) (3.6.0)\n",
      "Requirement already satisfied: webcolors in c:\\users\\hengu\\miniconda3\\envs\\py312\\lib\\site-packages (from tikzplotlib->metric-visualizer>=0.9.6->OmniGenome) (24.11.1)\n"
     ]
    },
    {
     "name": "stderr",
     "output_type": "stream",
     "text": [
      "WARNING: Ignoring invalid distribution ~orch (C:\\Users\\hengu\\miniconda3\\envs\\py312\\Lib\\site-packages)\n",
      "WARNING: Ignoring invalid distribution ~orch (C:\\Users\\hengu\\miniconda3\\envs\\py312\\Lib\\site-packages)\n",
      "WARNING: Ignoring invalid distribution ~orch (C:\\Users\\hengu\\miniconda3\\envs\\py312\\Lib\\site-packages)\n"
     ]
    }
   ],
   "execution_count": 1
  },
  {
   "cell_type": "markdown",
   "id": "ee5d3b0b",
   "metadata": {},
   "source": [
    "## Step 2: Setting Up the Embedding Model\n",
    "First, let's initialize the `OmniGenomeModelForEmbedding` class with a pre-trained model."
   ]
  },
  {
   "cell_type": "code",
   "id": "dcaed138",
   "metadata": {
    "ExecuteTime": {
     "end_time": "2025-06-16T21:58:40.431136Z",
     "start_time": "2025-06-16T21:58:33.044865Z"
    }
   },
   "source": [
    "from omnigenome import OmniGenomeModelForEmbedding\n",
    "import torch\n",
    "\n",
    "# Initialize the model using a pre-trained model path (replace with RNA-specific model if available)\n",
    "model_name = \"yangheng/OmniGenome-52M\"  # Example model, replace with your own model\n",
    "embedding_model = OmniGenomeModelForEmbedding(model_name, trust_remote_code=True).to(torch.device(\"cuda:0\")).to(torch.float16)"
   ],
   "outputs": [
    {
     "name": "stderr",
     "output_type": "stream",
     "text": [
      "C:\\Users\\hengu\\miniconda3\\envs\\py312\\Lib\\site-packages\\requests\\__init__.py:86: RequestsDependencyWarning: Unable to find acceptable character detection dependency (chardet or charset_normalizer).\n",
      "  warnings.warn(\n",
      "C:\\Users\\hengu\\miniconda3\\envs\\py312\\Lib\\site-packages\\tqdm\\auto.py:21: TqdmWarning: IProgress not found. Please update jupyter and ipywidgets. See https://ipywidgets.readthedocs.io/en/stable/user_install.html\n",
      "  from .autonotebook import tqdm as notebook_tqdm\n"
     ]
    },
    {
     "name": "stdout",
     "output_type": "stream",
     "text": [
      "                       \n",
      "    **@@ #========= @@**            ___                     _ \n",
      "      **@@ +----- @@**             / _ \\  _ __ ___   _ __  (_)\n",
      "        **@@ = @@**               | | | || '_ ` _ \\ | '_ \\ | |\n",
      "           **@@                   | |_| || | | | | || | | || |\n",
      "        @@** = **@@                \\___/ |_| |_| |_||_| |_||_|\n",
      "     @@** ------+ **@@                \n",
      "   @@** =========# **@@            ____  \n",
      "  @@ ---------------+ @@          / ___|  ___  _ __    ___   _ __ ___    ___ \n",
      " @@ ================== @@        | |  _  / _ \\| '_ \\  / _ \\ | '_ ` _ \\  / _ \\\n",
      "  @@ +--------------- @@         | |_| ||  __/| | | || (_) || | | | | ||  __/ \n",
      "   @@** #========= **@@           \\____| \\___||_| |_| \\___/ |_| |_| |_| \\___| \n",
      "    @@** +------ **@@          \n",
      "       @@** = **@@           \n",
      "          @@**                    ____                      _   \n",
      "       **@@ = @@**               | __ )   ___  _ __    ___ | |__  \n",
      "    **@@ -----+  @@**            |  _ \\  / _ \\| '_ \\  / __|| '_ \\ \n",
      "  **@@ ==========# @@**          | |_) ||  __/| | | || (__ | | | |\n",
      "  @@ --------------+ @@**        |____/  \\___||_| |_| \\___||_| |_|\n",
      "\n"
     ]
    },
    {
     "name": "stderr",
     "output_type": "stream",
     "text": [
      "Some weights of OmniGenomeModel were not initialized from the model checkpoint at yangheng/OmniGenome-52M and are newly initialized: ['OmniGenome.pooler.dense.bias', 'OmniGenome.pooler.dense.weight']\n",
      "You should probably TRAIN this model on a down-stream task to be able to use it for predictions and inference.\n"
     ]
    }
   ],
   "execution_count": 2
  },
  {
   "cell_type": "markdown",
   "id": "594c3e9b",
   "metadata": {},
   "source": [
    "## Step 3: Encoding RNA Sequences into Embeddings\n",
    "We'll now encode a batch of RNA sequences into embeddings."
   ]
  },
  {
   "cell_type": "code",
   "id": "b589c766",
   "metadata": {
    "ExecuteTime": {
     "end_time": "2025-06-16T21:58:40.810784Z",
     "start_time": "2025-06-16T21:58:40.443187Z"
    }
   },
   "source": [
    "# Example RNA sequences (replace these with your own RNA sequences)\n",
    "rna_sequences = [\n",
    "    \"AUGGCUACG\",\n",
    "    \"CGGAUACGGC\",\n",
    "    \"UGGCCAAGUC\",\n",
    "    \"AUGCUGCUAUGCUA\"\n",
    "]\n",
    "# Encode the RNA sequences into embeddings\n",
    "rna_embeddings = embedding_model.batch_encode(rna_sequences, agg='mean')\n",
    "\n",
    "# Display the generated embeddings\n",
    "print(\"RNA Embeddings:\")\n",
    "print(rna_embeddings)"
   ],
   "outputs": [
    {
     "name": "stdout",
     "output_type": "stream",
     "text": [
      "[2025-06-16 22:58:40] [OmniGenome 0.2.6alpha0]  Generated embeddings for 4 sequences.\n",
      "RNA Embeddings:\n",
      "tensor([[-0.4038, -1.0078, -0.0919,  ..., -0.6841, -0.9468, -0.2502],\n",
      "        [-0.2445, -0.7437, -0.2668,  ..., -0.2125, -0.9575, -0.1359],\n",
      "        [-0.4094, -0.8535, -0.0769,  ..., -0.5132, -0.5581, -0.3665],\n",
      "        [-0.3696, -0.7798, -0.0314,  ..., -0.6567, -1.0420, -0.0429]],\n",
      "       dtype=torch.float16)\n"
     ]
    }
   ],
   "execution_count": 3
  },
  {
   "cell_type": "markdown",
   "id": "b3324a3e",
   "metadata": {},
   "source": [
    "## Step 4: Saving and Loading Embeddings\n",
    "You can save the generated embeddings to a file and load them later when needed."
   ]
  },
  {
   "cell_type": "code",
   "id": "80325ceb",
   "metadata": {
    "ExecuteTime": {
     "end_time": "2025-06-16T21:58:40.852680Z",
     "start_time": "2025-06-16T21:58:40.822272Z"
    }
   },
   "source": [
    "# Save embeddings to a file\n",
    "embedding_model.save_embeddings(rna_embeddings, \"rna_embeddings.pt\")\n",
    "\n",
    "# Load the embeddings from the file\n",
    "loaded_embeddings = embedding_model.load_embeddings(\"rna_embeddings.pt\")\n",
    "\n",
    "# Display the loaded embeddings to verify\n",
    "print(\"Loaded RNA Embeddings:\")\n",
    "print(loaded_embeddings)"
   ],
   "outputs": [
    {
     "name": "stdout",
     "output_type": "stream",
     "text": [
      "[2025-06-16 22:58:40] [OmniGenome 0.2.6alpha0]  Embeddings saved to rna_embeddings.pt\n",
      "[2025-06-16 22:58:40] [OmniGenome 0.2.6alpha0]  Loaded embeddings from rna_embeddings.pt\n",
      "Loaded RNA Embeddings:\n",
      "tensor([[-0.4038, -1.0078, -0.0919,  ..., -0.6841, -0.9468, -0.2502],\n",
      "        [-0.2445, -0.7437, -0.2668,  ..., -0.2125, -0.9575, -0.1359],\n",
      "        [-0.4094, -0.8535, -0.0769,  ..., -0.5132, -0.5581, -0.3665],\n",
      "        [-0.3696, -0.7798, -0.0314,  ..., -0.6567, -1.0420, -0.0429]],\n",
      "       dtype=torch.float16)\n"
     ]
    }
   ],
   "execution_count": 4
  },
  {
   "cell_type": "markdown",
   "id": "f3031cb7",
   "metadata": {},
   "source": [
    "## Step 5: Computing Similarity Between RNA Sequences\n",
    "Let's compute the similarity between two RNA sequence embeddings using cosine similarity."
   ]
  },
  {
   "cell_type": "code",
   "id": "eccda5d6",
   "metadata": {
    "ExecuteTime": {
     "end_time": "2025-06-16T21:58:40.913277Z",
     "start_time": "2025-06-16T21:58:40.903071Z"
    }
   },
   "source": [
    "# Compute the similarity between the first two RNA sequence embeddings\n",
    "similarity = embedding_model.compute_similarity(loaded_embeddings[0], loaded_embeddings[1])\n",
    "\n",
    "# Display the similarity score\n",
    "print(f\"Similarity between the first two RNA sequences: {similarity:.4f}\")"
   ],
   "outputs": [
    {
     "name": "stdout",
     "output_type": "stream",
     "text": [
      "Similarity between the first two RNA sequences: 0.9395\n"
     ]
    }
   ],
   "execution_count": 5
  },
  {
   "cell_type": "markdown",
   "id": "a7feaac9",
   "metadata": {},
   "source": [
    "## Step 6: Encoding a Single RNA Sequence\n",
    "You can also encode a single RNA sequence into its embedding."
   ]
  },
  {
   "cell_type": "code",
   "id": "0e41c528",
   "metadata": {
    "ExecuteTime": {
     "end_time": "2025-06-16T21:58:41.721115Z",
     "start_time": "2025-06-16T21:58:40.975175Z"
    }
   },
   "source": [
    "# Example single RNA sequence\n",
    "single_rna_sequence = \"AUGGCUACG\"\n",
    "\n",
    "# Get the embedding for the single RNA sequence\n",
    "\n",
    "head_rna_embedding = embedding_model.encode(rna_sequences[0], agg='head', keep_dim=True)  # Encode a single RNA sequence\n",
    "mean_rna_embedding = embedding_model.encode(rna_sequences[0], agg='mean')  # Encode a single RNA sequence\n",
    "tail_rna_embedding = embedding_model.encode(rna_sequences[0], agg='tail')  # Encode a single RNA sequence\n",
    "\n",
    "# Display the embedding for the single RNA sequence\n",
    "print(\"Single RNA Sequence Embedding:\")\n",
    "print(head_rna_embedding)"
   ],
   "outputs": [
    {
     "name": "stderr",
     "output_type": "stream",
     "text": [
      "C:\\Users\\hengu\\miniconda3\\envs\\py312\\Lib\\site-packages\\executing\\executing.py:713: DeprecationWarning: ast.Str is deprecated and will be removed in Python 3.14; use ast.Constant instead\n",
      "  right=ast.Str(s=sentinel),\n",
      "C:\\Users\\hengu\\miniconda3\\envs\\py312\\Lib\\ast.py:587: DeprecationWarning: Attribute s is deprecated and will be removed in Python 3.14; use value instead\n",
      "  return Constant(*args, **kwargs)\n"
     ]
    },
    {
     "ename": "AttributeError",
     "evalue": "'OmniGenomeModelForEmbedding' object has no attribute 'encode_single_sequence'",
     "output_type": "error",
     "traceback": [
      "\u001B[31m---------------------------------------------------------------------------\u001B[39m",
      "\u001B[31mAttributeError\u001B[39m                            Traceback (most recent call last)",
      "\u001B[36mCell\u001B[39m\u001B[36m \u001B[39m\u001B[32mIn[6]\u001B[39m\u001B[32m, line 5\u001B[39m\n\u001B[32m      2\u001B[39m single_rna_sequence = \u001B[33m\"\u001B[39m\u001B[33mAUGGCUACG\u001B[39m\u001B[33m\"\u001B[39m\n\u001B[32m      4\u001B[39m \u001B[38;5;66;03m# Get the embedding for the single RNA sequence\u001B[39;00m\n\u001B[32m----> \u001B[39m\u001B[32m5\u001B[39m single_rna_embedding = embedding_model.encode_single_sequence(single_rna_sequence)\n\u001B[32m      7\u001B[39m \u001B[38;5;66;03m# Display the embedding for the single RNA sequence\u001B[39;00m\n\u001B[32m      8\u001B[39m \u001B[38;5;28mprint\u001B[39m(\u001B[33m\"\u001B[39m\u001B[33mSingle RNA Sequence Embedding:\u001B[39m\u001B[33m\"\u001B[39m)\n",
      "\u001B[36mFile \u001B[39m\u001B[32m~\\miniconda3\\envs\\py312\\Lib\\site-packages\\torch\\nn\\modules\\module.py:1940\u001B[39m, in \u001B[36mModule.__getattr__\u001B[39m\u001B[34m(self, name)\u001B[39m\n\u001B[32m   1938\u001B[39m     \u001B[38;5;28;01mif\u001B[39;00m name \u001B[38;5;129;01min\u001B[39;00m modules:\n\u001B[32m   1939\u001B[39m         \u001B[38;5;28;01mreturn\u001B[39;00m modules[name]\n\u001B[32m-> \u001B[39m\u001B[32m1940\u001B[39m \u001B[38;5;28;01mraise\u001B[39;00m \u001B[38;5;167;01mAttributeError\u001B[39;00m(\n\u001B[32m   1941\u001B[39m     \u001B[33mf\u001B[39m\u001B[33m\"\u001B[39m\u001B[33m'\u001B[39m\u001B[38;5;132;01m{\u001B[39;00m\u001B[38;5;28mtype\u001B[39m(\u001B[38;5;28mself\u001B[39m).\u001B[34m__name__\u001B[39m\u001B[38;5;132;01m}\u001B[39;00m\u001B[33m'\u001B[39m\u001B[33m object has no attribute \u001B[39m\u001B[33m'\u001B[39m\u001B[38;5;132;01m{\u001B[39;00mname\u001B[38;5;132;01m}\u001B[39;00m\u001B[33m'\u001B[39m\u001B[33m\"\u001B[39m\n\u001B[32m   1942\u001B[39m )\n",
      "\u001B[31mAttributeError\u001B[39m: 'OmniGenomeModelForEmbedding' object has no attribute 'encode_single_sequence'"
     ]
    }
   ],
   "execution_count": 6
  },
  {
   "cell_type": "markdown",
   "id": "ac2bebb0",
   "metadata": {},
   "source": [
    "## Full Example\n",
    "Here's a complete example that walks through all the steps we covered in the tutorial."
   ]
  },
  {
   "cell_type": "code",
   "id": "8ab16b9e",
   "metadata": {},
   "source": [
    "from omnigenome import OmniGenomeModelForEmbedding\n",
    "\n",
    "# Step 1: Initialize the model\n",
    "model_name = \"yangheng/OmniGenome-52M\"  # Replace with your RNA-specific model\n",
    "embedding_model = OmniGenomeModelForEmbedding(model_name)\n",
    "\n",
    "# Step 2: Encode RNA sequences\n",
    "rna_sequences = [\"AUGGCUACG\", \"CGGAUACGGC\"]\n",
    "rna_embeddings = embedding_model.encode_sequences(rna_sequences)\n",
    "print(\"RNA Embeddings:\", rna_embeddings)\n",
    "\n",
    "# Step 3: Save embeddings to a file\n",
    "embedding_model.save_embeddings(rna_embeddings, \"rna_embeddings.pt\")\n",
    "\n",
    "# Step 4: Load embeddings from the file\n",
    "loaded_embeddings = embedding_model.load_embeddings(\"rna_embeddings.pt\")\n",
    "\n",
    "# Step 5: Compute similarity between the first two RNA sequence embeddings\n",
    "similarity = embedding_model.compute_similarity(loaded_embeddings[0], loaded_embeddings[1])\n",
    "print(f\"Similarity between RNA sequences: {similarity:.4f}\")\n",
    "\n",
    "# Step 6: Encode a single RNA sequence\n",
    "single_rna_sequence = \"AUGGCUACG\"\n",
    "single_rna_embedding = embedding_model.encode_single_sequence(single_rna_sequence)\n",
    "print(\"Single RNA Sequence Embedding:\", single_rna_embedding)"
   ],
   "outputs": [],
   "execution_count": null
  }
 ],
 "metadata": {
  "kernelspec": {
   "display_name": "Python 3 (ipykernel)",
   "language": "python",
   "name": "python3"
  },
  "language_info": {
   "codemirror_mode": {
    "name": "ipython",
    "version": 3
   },
   "file_extension": ".py",
   "mimetype": "text/x-python",
   "name": "python",
   "nbconvert_exporter": "python",
   "pygments_lexer": "ipython3",
   "version": "3.12.4"
  }
 },
 "nbformat": 4,
 "nbformat_minor": 5
}
